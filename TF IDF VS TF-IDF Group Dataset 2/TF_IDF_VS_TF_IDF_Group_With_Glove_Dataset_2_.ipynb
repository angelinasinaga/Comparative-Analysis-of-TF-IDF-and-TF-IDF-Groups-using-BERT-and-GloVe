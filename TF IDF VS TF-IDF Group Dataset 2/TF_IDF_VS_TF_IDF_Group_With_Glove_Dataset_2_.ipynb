{
  "nbformat": 4,
  "nbformat_minor": 0,
  "metadata": {
    "colab": {
      "name": "TF- IDF VS TF-IDF-Group With Glove Dataset 2 .ipynb",
      "provenance": [],
      "collapsed_sections": []
    },
    "kernelspec": {
      "name": "python3",
      "display_name": "Python 3"
    },
    "language_info": {
      "name": "python"
    }
  },
  "cells": [
    {
      "cell_type": "markdown",
      "source": [
        "**Load Dataset**"
      ],
      "metadata": {
        "id": "gQhax6ZJB06L"
      }
    },
    {
      "cell_type": "code",
      "execution_count": 1,
      "metadata": {
        "colab": {
          "base_uri": "https://localhost:8080/"
        },
        "id": "i0sla5XaBztW",
        "outputId": "a0c96fd5-ce93-40a4-abb5-759582d8fe5f"
      },
      "outputs": [
        {
          "output_type": "stream",
          "name": "stdout",
          "text": [
            "Mounted at /content/drive\n"
          ]
        }
      ],
      "source": [
        "from google.colab import drive\n",
        "drive.mount('/content/drive')"
      ]
    },
    {
      "cell_type": "code",
      "source": [
        "import pandas as pd \n",
        "dataset=pd.read_csv('/content/drive/MyDrive/Colab Notebooks/bbc_news.csv')\n",
        "dataset = dataset.dropna(how=\"any\", axis=1)\n",
        "dataset.head()"
      ],
      "metadata": {
        "colab": {
          "base_uri": "https://localhost:8080/",
          "height": 669
        },
        "id": "l0j460-cB5h5",
        "outputId": "a07e9dfd-0885-459e-c5a3-56e7d848c340"
      },
      "execution_count": 6,
      "outputs": [
        {
          "output_type": "execute_result",
          "data": {
            "text/plain": [
              "                                               title  \\\n",
              "0  Ukraine: Angry Zelensky vows to punish Russian...   \n",
              "1  War in Ukraine: Taking cover in a town under a...   \n",
              "2         Ukraine war 'catastrophic for global food'   \n",
              "3  Manchester Arena bombing: Saffie Roussos's par...   \n",
              "4  Ukraine conflict: Oil price soars to highest l...   \n",
              "\n",
              "                         pubDate  \\\n",
              "0  Mon, 07 Mar 2022 08:01:56 GMT   \n",
              "1  Sun, 06 Mar 2022 22:49:58 GMT   \n",
              "2  Mon, 07 Mar 2022 00:14:42 GMT   \n",
              "3  Mon, 07 Mar 2022 00:05:40 GMT   \n",
              "4  Mon, 07 Mar 2022 08:15:53 GMT   \n",
              "\n",
              "                                               guid  \\\n",
              "0  https://www.bbc.co.uk/news/world-europe-60638042   \n",
              "1  https://www.bbc.co.uk/news/world-europe-60641873   \n",
              "2      https://www.bbc.co.uk/news/business-60623941   \n",
              "3            https://www.bbc.co.uk/news/uk-60579079   \n",
              "4      https://www.bbc.co.uk/news/business-60642786   \n",
              "\n",
              "                                                link  \\\n",
              "0  https://www.bbc.co.uk/news/world-europe-606380...   \n",
              "1  https://www.bbc.co.uk/news/world-europe-606418...   \n",
              "2  https://www.bbc.co.uk/news/business-60623941?a...   \n",
              "3  https://www.bbc.co.uk/news/uk-60579079?at_medi...   \n",
              "4  https://www.bbc.co.uk/news/business-60642786?a...   \n",
              "\n",
              "                                         description  \n",
              "0  The Ukrainian president says the country will ...  \n",
              "1  Jeremy Bowen was on the frontline in Irpin, as...  \n",
              "2  One of the world's biggest fertiliser firms sa...  \n",
              "3  The parents of the Manchester Arena bombing's ...  \n",
              "4  Consumers are feeling the impact of higher ene...  "
            ],
            "text/html": [
              "\n",
              "  <div id=\"df-cf78ae96-9ce9-4c26-b9f5-2fad4bc36828\">\n",
              "    <div class=\"colab-df-container\">\n",
              "      <div>\n",
              "<style scoped>\n",
              "    .dataframe tbody tr th:only-of-type {\n",
              "        vertical-align: middle;\n",
              "    }\n",
              "\n",
              "    .dataframe tbody tr th {\n",
              "        vertical-align: top;\n",
              "    }\n",
              "\n",
              "    .dataframe thead th {\n",
              "        text-align: right;\n",
              "    }\n",
              "</style>\n",
              "<table border=\"1\" class=\"dataframe\">\n",
              "  <thead>\n",
              "    <tr style=\"text-align: right;\">\n",
              "      <th></th>\n",
              "      <th>title</th>\n",
              "      <th>pubDate</th>\n",
              "      <th>guid</th>\n",
              "      <th>link</th>\n",
              "      <th>description</th>\n",
              "    </tr>\n",
              "  </thead>\n",
              "  <tbody>\n",
              "    <tr>\n",
              "      <th>0</th>\n",
              "      <td>Ukraine: Angry Zelensky vows to punish Russian...</td>\n",
              "      <td>Mon, 07 Mar 2022 08:01:56 GMT</td>\n",
              "      <td>https://www.bbc.co.uk/news/world-europe-60638042</td>\n",
              "      <td>https://www.bbc.co.uk/news/world-europe-606380...</td>\n",
              "      <td>The Ukrainian president says the country will ...</td>\n",
              "    </tr>\n",
              "    <tr>\n",
              "      <th>1</th>\n",
              "      <td>War in Ukraine: Taking cover in a town under a...</td>\n",
              "      <td>Sun, 06 Mar 2022 22:49:58 GMT</td>\n",
              "      <td>https://www.bbc.co.uk/news/world-europe-60641873</td>\n",
              "      <td>https://www.bbc.co.uk/news/world-europe-606418...</td>\n",
              "      <td>Jeremy Bowen was on the frontline in Irpin, as...</td>\n",
              "    </tr>\n",
              "    <tr>\n",
              "      <th>2</th>\n",
              "      <td>Ukraine war 'catastrophic for global food'</td>\n",
              "      <td>Mon, 07 Mar 2022 00:14:42 GMT</td>\n",
              "      <td>https://www.bbc.co.uk/news/business-60623941</td>\n",
              "      <td>https://www.bbc.co.uk/news/business-60623941?a...</td>\n",
              "      <td>One of the world's biggest fertiliser firms sa...</td>\n",
              "    </tr>\n",
              "    <tr>\n",
              "      <th>3</th>\n",
              "      <td>Manchester Arena bombing: Saffie Roussos's par...</td>\n",
              "      <td>Mon, 07 Mar 2022 00:05:40 GMT</td>\n",
              "      <td>https://www.bbc.co.uk/news/uk-60579079</td>\n",
              "      <td>https://www.bbc.co.uk/news/uk-60579079?at_medi...</td>\n",
              "      <td>The parents of the Manchester Arena bombing's ...</td>\n",
              "    </tr>\n",
              "    <tr>\n",
              "      <th>4</th>\n",
              "      <td>Ukraine conflict: Oil price soars to highest l...</td>\n",
              "      <td>Mon, 07 Mar 2022 08:15:53 GMT</td>\n",
              "      <td>https://www.bbc.co.uk/news/business-60642786</td>\n",
              "      <td>https://www.bbc.co.uk/news/business-60642786?a...</td>\n",
              "      <td>Consumers are feeling the impact of higher ene...</td>\n",
              "    </tr>\n",
              "  </tbody>\n",
              "</table>\n",
              "</div>\n",
              "      <button class=\"colab-df-convert\" onclick=\"convertToInteractive('df-cf78ae96-9ce9-4c26-b9f5-2fad4bc36828')\"\n",
              "              title=\"Convert this dataframe to an interactive table.\"\n",
              "              style=\"display:none;\">\n",
              "        \n",
              "  <svg xmlns=\"http://www.w3.org/2000/svg\" height=\"24px\"viewBox=\"0 0 24 24\"\n",
              "       width=\"24px\">\n",
              "    <path d=\"M0 0h24v24H0V0z\" fill=\"none\"/>\n",
              "    <path d=\"M18.56 5.44l.94 2.06.94-2.06 2.06-.94-2.06-.94-.94-2.06-.94 2.06-2.06.94zm-11 1L8.5 8.5l.94-2.06 2.06-.94-2.06-.94L8.5 2.5l-.94 2.06-2.06.94zm10 10l.94 2.06.94-2.06 2.06-.94-2.06-.94-.94-2.06-.94 2.06-2.06.94z\"/><path d=\"M17.41 7.96l-1.37-1.37c-.4-.4-.92-.59-1.43-.59-.52 0-1.04.2-1.43.59L10.3 9.45l-7.72 7.72c-.78.78-.78 2.05 0 2.83L4 21.41c.39.39.9.59 1.41.59.51 0 1.02-.2 1.41-.59l7.78-7.78 2.81-2.81c.8-.78.8-2.07 0-2.86zM5.41 20L4 18.59l7.72-7.72 1.47 1.35L5.41 20z\"/>\n",
              "  </svg>\n",
              "      </button>\n",
              "      \n",
              "  <style>\n",
              "    .colab-df-container {\n",
              "      display:flex;\n",
              "      flex-wrap:wrap;\n",
              "      gap: 12px;\n",
              "    }\n",
              "\n",
              "    .colab-df-convert {\n",
              "      background-color: #E8F0FE;\n",
              "      border: none;\n",
              "      border-radius: 50%;\n",
              "      cursor: pointer;\n",
              "      display: none;\n",
              "      fill: #1967D2;\n",
              "      height: 32px;\n",
              "      padding: 0 0 0 0;\n",
              "      width: 32px;\n",
              "    }\n",
              "\n",
              "    .colab-df-convert:hover {\n",
              "      background-color: #E2EBFA;\n",
              "      box-shadow: 0px 1px 2px rgba(60, 64, 67, 0.3), 0px 1px 3px 1px rgba(60, 64, 67, 0.15);\n",
              "      fill: #174EA6;\n",
              "    }\n",
              "\n",
              "    [theme=dark] .colab-df-convert {\n",
              "      background-color: #3B4455;\n",
              "      fill: #D2E3FC;\n",
              "    }\n",
              "\n",
              "    [theme=dark] .colab-df-convert:hover {\n",
              "      background-color: #434B5C;\n",
              "      box-shadow: 0px 1px 3px 1px rgba(0, 0, 0, 0.15);\n",
              "      filter: drop-shadow(0px 1px 2px rgba(0, 0, 0, 0.3));\n",
              "      fill: #FFFFFF;\n",
              "    }\n",
              "  </style>\n",
              "\n",
              "      <script>\n",
              "        const buttonEl =\n",
              "          document.querySelector('#df-cf78ae96-9ce9-4c26-b9f5-2fad4bc36828 button.colab-df-convert');\n",
              "        buttonEl.style.display =\n",
              "          google.colab.kernel.accessAllowed ? 'block' : 'none';\n",
              "\n",
              "        async function convertToInteractive(key) {\n",
              "          const element = document.querySelector('#df-cf78ae96-9ce9-4c26-b9f5-2fad4bc36828');\n",
              "          const dataTable =\n",
              "            await google.colab.kernel.invokeFunction('convertToInteractive',\n",
              "                                                     [key], {});\n",
              "          if (!dataTable) return;\n",
              "\n",
              "          const docLinkHtml = 'Like what you see? Visit the ' +\n",
              "            '<a target=\"_blank\" href=https://colab.research.google.com/notebooks/data_table.ipynb>data table notebook</a>'\n",
              "            + ' to learn more about interactive tables.';\n",
              "          element.innerHTML = '';\n",
              "          dataTable['output_type'] = 'display_data';\n",
              "          await google.colab.output.renderOutput(dataTable, element);\n",
              "          const docLink = document.createElement('div');\n",
              "          docLink.innerHTML = docLinkHtml;\n",
              "          element.appendChild(docLink);\n",
              "        }\n",
              "      </script>\n",
              "    </div>\n",
              "  </div>\n",
              "  "
            ]
          },
          "metadata": {},
          "execution_count": 6
        }
      ]
    },
    {
      "cell_type": "code",
      "source": [
        "dataset = dataset.rename(columns={'title': 'target', 'description': 'message'})\n",
        "\n",
        "dataset.head()"
      ],
      "metadata": {
        "colab": {
          "base_uri": "https://localhost:8080/",
          "height": 687
        },
        "id": "-2uCS4szCY1Z",
        "outputId": "3d9ba892-5df9-4b13-fbf1-d7c1c5c0f43f"
      },
      "execution_count": 7,
      "outputs": [
        {
          "output_type": "execute_result",
          "data": {
            "text/plain": [
              "                                              target  \\\n",
              "0  Ukraine: Angry Zelensky vows to punish Russian...   \n",
              "1  War in Ukraine: Taking cover in a town under a...   \n",
              "2         Ukraine war 'catastrophic for global food'   \n",
              "3  Manchester Arena bombing: Saffie Roussos's par...   \n",
              "4  Ukraine conflict: Oil price soars to highest l...   \n",
              "\n",
              "                         pubDate  \\\n",
              "0  Mon, 07 Mar 2022 08:01:56 GMT   \n",
              "1  Sun, 06 Mar 2022 22:49:58 GMT   \n",
              "2  Mon, 07 Mar 2022 00:14:42 GMT   \n",
              "3  Mon, 07 Mar 2022 00:05:40 GMT   \n",
              "4  Mon, 07 Mar 2022 08:15:53 GMT   \n",
              "\n",
              "                                               guid  \\\n",
              "0  https://www.bbc.co.uk/news/world-europe-60638042   \n",
              "1  https://www.bbc.co.uk/news/world-europe-60641873   \n",
              "2      https://www.bbc.co.uk/news/business-60623941   \n",
              "3            https://www.bbc.co.uk/news/uk-60579079   \n",
              "4      https://www.bbc.co.uk/news/business-60642786   \n",
              "\n",
              "                                                link  \\\n",
              "0  https://www.bbc.co.uk/news/world-europe-606380...   \n",
              "1  https://www.bbc.co.uk/news/world-europe-606418...   \n",
              "2  https://www.bbc.co.uk/news/business-60623941?a...   \n",
              "3  https://www.bbc.co.uk/news/uk-60579079?at_medi...   \n",
              "4  https://www.bbc.co.uk/news/business-60642786?a...   \n",
              "\n",
              "                                             message  \n",
              "0  The Ukrainian president says the country will ...  \n",
              "1  Jeremy Bowen was on the frontline in Irpin, as...  \n",
              "2  One of the world's biggest fertiliser firms sa...  \n",
              "3  The parents of the Manchester Arena bombing's ...  \n",
              "4  Consumers are feeling the impact of higher ene...  "
            ],
            "text/html": [
              "\n",
              "  <div id=\"df-5992ba8f-b942-410e-a3b1-d607766dd870\">\n",
              "    <div class=\"colab-df-container\">\n",
              "      <div>\n",
              "<style scoped>\n",
              "    .dataframe tbody tr th:only-of-type {\n",
              "        vertical-align: middle;\n",
              "    }\n",
              "\n",
              "    .dataframe tbody tr th {\n",
              "        vertical-align: top;\n",
              "    }\n",
              "\n",
              "    .dataframe thead th {\n",
              "        text-align: right;\n",
              "    }\n",
              "</style>\n",
              "<table border=\"1\" class=\"dataframe\">\n",
              "  <thead>\n",
              "    <tr style=\"text-align: right;\">\n",
              "      <th></th>\n",
              "      <th>target</th>\n",
              "      <th>pubDate</th>\n",
              "      <th>guid</th>\n",
              "      <th>link</th>\n",
              "      <th>message</th>\n",
              "    </tr>\n",
              "  </thead>\n",
              "  <tbody>\n",
              "    <tr>\n",
              "      <th>0</th>\n",
              "      <td>Ukraine: Angry Zelensky vows to punish Russian...</td>\n",
              "      <td>Mon, 07 Mar 2022 08:01:56 GMT</td>\n",
              "      <td>https://www.bbc.co.uk/news/world-europe-60638042</td>\n",
              "      <td>https://www.bbc.co.uk/news/world-europe-606380...</td>\n",
              "      <td>The Ukrainian president says the country will ...</td>\n",
              "    </tr>\n",
              "    <tr>\n",
              "      <th>1</th>\n",
              "      <td>War in Ukraine: Taking cover in a town under a...</td>\n",
              "      <td>Sun, 06 Mar 2022 22:49:58 GMT</td>\n",
              "      <td>https://www.bbc.co.uk/news/world-europe-60641873</td>\n",
              "      <td>https://www.bbc.co.uk/news/world-europe-606418...</td>\n",
              "      <td>Jeremy Bowen was on the frontline in Irpin, as...</td>\n",
              "    </tr>\n",
              "    <tr>\n",
              "      <th>2</th>\n",
              "      <td>Ukraine war 'catastrophic for global food'</td>\n",
              "      <td>Mon, 07 Mar 2022 00:14:42 GMT</td>\n",
              "      <td>https://www.bbc.co.uk/news/business-60623941</td>\n",
              "      <td>https://www.bbc.co.uk/news/business-60623941?a...</td>\n",
              "      <td>One of the world's biggest fertiliser firms sa...</td>\n",
              "    </tr>\n",
              "    <tr>\n",
              "      <th>3</th>\n",
              "      <td>Manchester Arena bombing: Saffie Roussos's par...</td>\n",
              "      <td>Mon, 07 Mar 2022 00:05:40 GMT</td>\n",
              "      <td>https://www.bbc.co.uk/news/uk-60579079</td>\n",
              "      <td>https://www.bbc.co.uk/news/uk-60579079?at_medi...</td>\n",
              "      <td>The parents of the Manchester Arena bombing's ...</td>\n",
              "    </tr>\n",
              "    <tr>\n",
              "      <th>4</th>\n",
              "      <td>Ukraine conflict: Oil price soars to highest l...</td>\n",
              "      <td>Mon, 07 Mar 2022 08:15:53 GMT</td>\n",
              "      <td>https://www.bbc.co.uk/news/business-60642786</td>\n",
              "      <td>https://www.bbc.co.uk/news/business-60642786?a...</td>\n",
              "      <td>Consumers are feeling the impact of higher ene...</td>\n",
              "    </tr>\n",
              "  </tbody>\n",
              "</table>\n",
              "</div>\n",
              "      <button class=\"colab-df-convert\" onclick=\"convertToInteractive('df-5992ba8f-b942-410e-a3b1-d607766dd870')\"\n",
              "              title=\"Convert this dataframe to an interactive table.\"\n",
              "              style=\"display:none;\">\n",
              "        \n",
              "  <svg xmlns=\"http://www.w3.org/2000/svg\" height=\"24px\"viewBox=\"0 0 24 24\"\n",
              "       width=\"24px\">\n",
              "    <path d=\"M0 0h24v24H0V0z\" fill=\"none\"/>\n",
              "    <path d=\"M18.56 5.44l.94 2.06.94-2.06 2.06-.94-2.06-.94-.94-2.06-.94 2.06-2.06.94zm-11 1L8.5 8.5l.94-2.06 2.06-.94-2.06-.94L8.5 2.5l-.94 2.06-2.06.94zm10 10l.94 2.06.94-2.06 2.06-.94-2.06-.94-.94-2.06-.94 2.06-2.06.94z\"/><path d=\"M17.41 7.96l-1.37-1.37c-.4-.4-.92-.59-1.43-.59-.52 0-1.04.2-1.43.59L10.3 9.45l-7.72 7.72c-.78.78-.78 2.05 0 2.83L4 21.41c.39.39.9.59 1.41.59.51 0 1.02-.2 1.41-.59l7.78-7.78 2.81-2.81c.8-.78.8-2.07 0-2.86zM5.41 20L4 18.59l7.72-7.72 1.47 1.35L5.41 20z\"/>\n",
              "  </svg>\n",
              "      </button>\n",
              "      \n",
              "  <style>\n",
              "    .colab-df-container {\n",
              "      display:flex;\n",
              "      flex-wrap:wrap;\n",
              "      gap: 12px;\n",
              "    }\n",
              "\n",
              "    .colab-df-convert {\n",
              "      background-color: #E8F0FE;\n",
              "      border: none;\n",
              "      border-radius: 50%;\n",
              "      cursor: pointer;\n",
              "      display: none;\n",
              "      fill: #1967D2;\n",
              "      height: 32px;\n",
              "      padding: 0 0 0 0;\n",
              "      width: 32px;\n",
              "    }\n",
              "\n",
              "    .colab-df-convert:hover {\n",
              "      background-color: #E2EBFA;\n",
              "      box-shadow: 0px 1px 2px rgba(60, 64, 67, 0.3), 0px 1px 3px 1px rgba(60, 64, 67, 0.15);\n",
              "      fill: #174EA6;\n",
              "    }\n",
              "\n",
              "    [theme=dark] .colab-df-convert {\n",
              "      background-color: #3B4455;\n",
              "      fill: #D2E3FC;\n",
              "    }\n",
              "\n",
              "    [theme=dark] .colab-df-convert:hover {\n",
              "      background-color: #434B5C;\n",
              "      box-shadow: 0px 1px 3px 1px rgba(0, 0, 0, 0.15);\n",
              "      filter: drop-shadow(0px 1px 2px rgba(0, 0, 0, 0.3));\n",
              "      fill: #FFFFFF;\n",
              "    }\n",
              "  </style>\n",
              "\n",
              "      <script>\n",
              "        const buttonEl =\n",
              "          document.querySelector('#df-5992ba8f-b942-410e-a3b1-d607766dd870 button.colab-df-convert');\n",
              "        buttonEl.style.display =\n",
              "          google.colab.kernel.accessAllowed ? 'block' : 'none';\n",
              "\n",
              "        async function convertToInteractive(key) {\n",
              "          const element = document.querySelector('#df-5992ba8f-b942-410e-a3b1-d607766dd870');\n",
              "          const dataTable =\n",
              "            await google.colab.kernel.invokeFunction('convertToInteractive',\n",
              "                                                     [key], {});\n",
              "          if (!dataTable) return;\n",
              "\n",
              "          const docLinkHtml = 'Like what you see? Visit the ' +\n",
              "            '<a target=\"_blank\" href=https://colab.research.google.com/notebooks/data_table.ipynb>data table notebook</a>'\n",
              "            + ' to learn more about interactive tables.';\n",
              "          element.innerHTML = '';\n",
              "          dataTable['output_type'] = 'display_data';\n",
              "          await google.colab.output.renderOutput(dataTable, element);\n",
              "          const docLink = document.createElement('div');\n",
              "          docLink.innerHTML = docLinkHtml;\n",
              "          element.appendChild(docLink);\n",
              "        }\n",
              "      </script>\n",
              "    </div>\n",
              "  </div>\n",
              "  "
            ]
          },
          "metadata": {},
          "execution_count": 7
        }
      ]
    },
    {
      "cell_type": "code",
      "source": [
        "\n",
        "columns = ['target','message']\n",
        "dataset = pd.DataFrame(dataset, columns=columns)"
      ],
      "metadata": {
        "id": "MV7REytvCd8z"
      },
      "execution_count": 8,
      "outputs": []
    },
    {
      "cell_type": "code",
      "source": [
        "dataset.head()"
      ],
      "metadata": {
        "colab": {
          "base_uri": "https://localhost:8080/",
          "height": 320
        },
        "id": "3W1jyO1_Cfd_",
        "outputId": "270f1148-0719-4a8e-aabe-06042221ea8e"
      },
      "execution_count": 9,
      "outputs": [
        {
          "output_type": "execute_result",
          "data": {
            "text/plain": [
              "                                              target  \\\n",
              "0  Ukraine: Angry Zelensky vows to punish Russian...   \n",
              "1  War in Ukraine: Taking cover in a town under a...   \n",
              "2         Ukraine war 'catastrophic for global food'   \n",
              "3  Manchester Arena bombing: Saffie Roussos's par...   \n",
              "4  Ukraine conflict: Oil price soars to highest l...   \n",
              "\n",
              "                                             message  \n",
              "0  The Ukrainian president says the country will ...  \n",
              "1  Jeremy Bowen was on the frontline in Irpin, as...  \n",
              "2  One of the world's biggest fertiliser firms sa...  \n",
              "3  The parents of the Manchester Arena bombing's ...  \n",
              "4  Consumers are feeling the impact of higher ene...  "
            ],
            "text/html": [
              "\n",
              "  <div id=\"df-6ba4946a-4c3f-47e1-8d90-f93606e65312\">\n",
              "    <div class=\"colab-df-container\">\n",
              "      <div>\n",
              "<style scoped>\n",
              "    .dataframe tbody tr th:only-of-type {\n",
              "        vertical-align: middle;\n",
              "    }\n",
              "\n",
              "    .dataframe tbody tr th {\n",
              "        vertical-align: top;\n",
              "    }\n",
              "\n",
              "    .dataframe thead th {\n",
              "        text-align: right;\n",
              "    }\n",
              "</style>\n",
              "<table border=\"1\" class=\"dataframe\">\n",
              "  <thead>\n",
              "    <tr style=\"text-align: right;\">\n",
              "      <th></th>\n",
              "      <th>target</th>\n",
              "      <th>message</th>\n",
              "    </tr>\n",
              "  </thead>\n",
              "  <tbody>\n",
              "    <tr>\n",
              "      <th>0</th>\n",
              "      <td>Ukraine: Angry Zelensky vows to punish Russian...</td>\n",
              "      <td>The Ukrainian president says the country will ...</td>\n",
              "    </tr>\n",
              "    <tr>\n",
              "      <th>1</th>\n",
              "      <td>War in Ukraine: Taking cover in a town under a...</td>\n",
              "      <td>Jeremy Bowen was on the frontline in Irpin, as...</td>\n",
              "    </tr>\n",
              "    <tr>\n",
              "      <th>2</th>\n",
              "      <td>Ukraine war 'catastrophic for global food'</td>\n",
              "      <td>One of the world's biggest fertiliser firms sa...</td>\n",
              "    </tr>\n",
              "    <tr>\n",
              "      <th>3</th>\n",
              "      <td>Manchester Arena bombing: Saffie Roussos's par...</td>\n",
              "      <td>The parents of the Manchester Arena bombing's ...</td>\n",
              "    </tr>\n",
              "    <tr>\n",
              "      <th>4</th>\n",
              "      <td>Ukraine conflict: Oil price soars to highest l...</td>\n",
              "      <td>Consumers are feeling the impact of higher ene...</td>\n",
              "    </tr>\n",
              "  </tbody>\n",
              "</table>\n",
              "</div>\n",
              "      <button class=\"colab-df-convert\" onclick=\"convertToInteractive('df-6ba4946a-4c3f-47e1-8d90-f93606e65312')\"\n",
              "              title=\"Convert this dataframe to an interactive table.\"\n",
              "              style=\"display:none;\">\n",
              "        \n",
              "  <svg xmlns=\"http://www.w3.org/2000/svg\" height=\"24px\"viewBox=\"0 0 24 24\"\n",
              "       width=\"24px\">\n",
              "    <path d=\"M0 0h24v24H0V0z\" fill=\"none\"/>\n",
              "    <path d=\"M18.56 5.44l.94 2.06.94-2.06 2.06-.94-2.06-.94-.94-2.06-.94 2.06-2.06.94zm-11 1L8.5 8.5l.94-2.06 2.06-.94-2.06-.94L8.5 2.5l-.94 2.06-2.06.94zm10 10l.94 2.06.94-2.06 2.06-.94-2.06-.94-.94-2.06-.94 2.06-2.06.94z\"/><path d=\"M17.41 7.96l-1.37-1.37c-.4-.4-.92-.59-1.43-.59-.52 0-1.04.2-1.43.59L10.3 9.45l-7.72 7.72c-.78.78-.78 2.05 0 2.83L4 21.41c.39.39.9.59 1.41.59.51 0 1.02-.2 1.41-.59l7.78-7.78 2.81-2.81c.8-.78.8-2.07 0-2.86zM5.41 20L4 18.59l7.72-7.72 1.47 1.35L5.41 20z\"/>\n",
              "  </svg>\n",
              "      </button>\n",
              "      \n",
              "  <style>\n",
              "    .colab-df-container {\n",
              "      display:flex;\n",
              "      flex-wrap:wrap;\n",
              "      gap: 12px;\n",
              "    }\n",
              "\n",
              "    .colab-df-convert {\n",
              "      background-color: #E8F0FE;\n",
              "      border: none;\n",
              "      border-radius: 50%;\n",
              "      cursor: pointer;\n",
              "      display: none;\n",
              "      fill: #1967D2;\n",
              "      height: 32px;\n",
              "      padding: 0 0 0 0;\n",
              "      width: 32px;\n",
              "    }\n",
              "\n",
              "    .colab-df-convert:hover {\n",
              "      background-color: #E2EBFA;\n",
              "      box-shadow: 0px 1px 2px rgba(60, 64, 67, 0.3), 0px 1px 3px 1px rgba(60, 64, 67, 0.15);\n",
              "      fill: #174EA6;\n",
              "    }\n",
              "\n",
              "    [theme=dark] .colab-df-convert {\n",
              "      background-color: #3B4455;\n",
              "      fill: #D2E3FC;\n",
              "    }\n",
              "\n",
              "    [theme=dark] .colab-df-convert:hover {\n",
              "      background-color: #434B5C;\n",
              "      box-shadow: 0px 1px 3px 1px rgba(0, 0, 0, 0.15);\n",
              "      filter: drop-shadow(0px 1px 2px rgba(0, 0, 0, 0.3));\n",
              "      fill: #FFFFFF;\n",
              "    }\n",
              "  </style>\n",
              "\n",
              "      <script>\n",
              "        const buttonEl =\n",
              "          document.querySelector('#df-6ba4946a-4c3f-47e1-8d90-f93606e65312 button.colab-df-convert');\n",
              "        buttonEl.style.display =\n",
              "          google.colab.kernel.accessAllowed ? 'block' : 'none';\n",
              "\n",
              "        async function convertToInteractive(key) {\n",
              "          const element = document.querySelector('#df-6ba4946a-4c3f-47e1-8d90-f93606e65312');\n",
              "          const dataTable =\n",
              "            await google.colab.kernel.invokeFunction('convertToInteractive',\n",
              "                                                     [key], {});\n",
              "          if (!dataTable) return;\n",
              "\n",
              "          const docLinkHtml = 'Like what you see? Visit the ' +\n",
              "            '<a target=\"_blank\" href=https://colab.research.google.com/notebooks/data_table.ipynb>data table notebook</a>'\n",
              "            + ' to learn more about interactive tables.';\n",
              "          element.innerHTML = '';\n",
              "          dataTable['output_type'] = 'display_data';\n",
              "          await google.colab.output.renderOutput(dataTable, element);\n",
              "          const docLink = document.createElement('div');\n",
              "          docLink.innerHTML = docLinkHtml;\n",
              "          element.appendChild(docLink);\n",
              "        }\n",
              "      </script>\n",
              "    </div>\n",
              "  </div>\n",
              "  "
            ]
          },
          "metadata": {},
          "execution_count": 9
        }
      ]
    },
    {
      "cell_type": "code",
      "source": [
        "dataset['message_len'] = dataset['message'].apply(lambda x: len(x.split(' ')))\n",
        "dataset.head()"
      ],
      "metadata": {
        "colab": {
          "base_uri": "https://localhost:8080/",
          "height": 337
        },
        "id": "9D1dVA6NCieh",
        "outputId": "641a64f0-b762-4a9e-d06c-15a2561fe63d"
      },
      "execution_count": 10,
      "outputs": [
        {
          "output_type": "execute_result",
          "data": {
            "text/plain": [
              "                                              target  \\\n",
              "0  Ukraine: Angry Zelensky vows to punish Russian...   \n",
              "1  War in Ukraine: Taking cover in a town under a...   \n",
              "2         Ukraine war 'catastrophic for global food'   \n",
              "3  Manchester Arena bombing: Saffie Roussos's par...   \n",
              "4  Ukraine conflict: Oil price soars to highest l...   \n",
              "\n",
              "                                             message  message_len  \n",
              "0  The Ukrainian president says the country will ...           16  \n",
              "1  Jeremy Bowen was on the frontline in Irpin, as...           18  \n",
              "2  One of the world's biggest fertiliser firms sa...           17  \n",
              "3  The parents of the Manchester Arena bombing's ...           16  \n",
              "4  Consumers are feeling the impact of higher ene...           16  "
            ],
            "text/html": [
              "\n",
              "  <div id=\"df-e922721f-089b-48e8-8f22-b3d4ac3d4701\">\n",
              "    <div class=\"colab-df-container\">\n",
              "      <div>\n",
              "<style scoped>\n",
              "    .dataframe tbody tr th:only-of-type {\n",
              "        vertical-align: middle;\n",
              "    }\n",
              "\n",
              "    .dataframe tbody tr th {\n",
              "        vertical-align: top;\n",
              "    }\n",
              "\n",
              "    .dataframe thead th {\n",
              "        text-align: right;\n",
              "    }\n",
              "</style>\n",
              "<table border=\"1\" class=\"dataframe\">\n",
              "  <thead>\n",
              "    <tr style=\"text-align: right;\">\n",
              "      <th></th>\n",
              "      <th>target</th>\n",
              "      <th>message</th>\n",
              "      <th>message_len</th>\n",
              "    </tr>\n",
              "  </thead>\n",
              "  <tbody>\n",
              "    <tr>\n",
              "      <th>0</th>\n",
              "      <td>Ukraine: Angry Zelensky vows to punish Russian...</td>\n",
              "      <td>The Ukrainian president says the country will ...</td>\n",
              "      <td>16</td>\n",
              "    </tr>\n",
              "    <tr>\n",
              "      <th>1</th>\n",
              "      <td>War in Ukraine: Taking cover in a town under a...</td>\n",
              "      <td>Jeremy Bowen was on the frontline in Irpin, as...</td>\n",
              "      <td>18</td>\n",
              "    </tr>\n",
              "    <tr>\n",
              "      <th>2</th>\n",
              "      <td>Ukraine war 'catastrophic for global food'</td>\n",
              "      <td>One of the world's biggest fertiliser firms sa...</td>\n",
              "      <td>17</td>\n",
              "    </tr>\n",
              "    <tr>\n",
              "      <th>3</th>\n",
              "      <td>Manchester Arena bombing: Saffie Roussos's par...</td>\n",
              "      <td>The parents of the Manchester Arena bombing's ...</td>\n",
              "      <td>16</td>\n",
              "    </tr>\n",
              "    <tr>\n",
              "      <th>4</th>\n",
              "      <td>Ukraine conflict: Oil price soars to highest l...</td>\n",
              "      <td>Consumers are feeling the impact of higher ene...</td>\n",
              "      <td>16</td>\n",
              "    </tr>\n",
              "  </tbody>\n",
              "</table>\n",
              "</div>\n",
              "      <button class=\"colab-df-convert\" onclick=\"convertToInteractive('df-e922721f-089b-48e8-8f22-b3d4ac3d4701')\"\n",
              "              title=\"Convert this dataframe to an interactive table.\"\n",
              "              style=\"display:none;\">\n",
              "        \n",
              "  <svg xmlns=\"http://www.w3.org/2000/svg\" height=\"24px\"viewBox=\"0 0 24 24\"\n",
              "       width=\"24px\">\n",
              "    <path d=\"M0 0h24v24H0V0z\" fill=\"none\"/>\n",
              "    <path d=\"M18.56 5.44l.94 2.06.94-2.06 2.06-.94-2.06-.94-.94-2.06-.94 2.06-2.06.94zm-11 1L8.5 8.5l.94-2.06 2.06-.94-2.06-.94L8.5 2.5l-.94 2.06-2.06.94zm10 10l.94 2.06.94-2.06 2.06-.94-2.06-.94-.94-2.06-.94 2.06-2.06.94z\"/><path d=\"M17.41 7.96l-1.37-1.37c-.4-.4-.92-.59-1.43-.59-.52 0-1.04.2-1.43.59L10.3 9.45l-7.72 7.72c-.78.78-.78 2.05 0 2.83L4 21.41c.39.39.9.59 1.41.59.51 0 1.02-.2 1.41-.59l7.78-7.78 2.81-2.81c.8-.78.8-2.07 0-2.86zM5.41 20L4 18.59l7.72-7.72 1.47 1.35L5.41 20z\"/>\n",
              "  </svg>\n",
              "      </button>\n",
              "      \n",
              "  <style>\n",
              "    .colab-df-container {\n",
              "      display:flex;\n",
              "      flex-wrap:wrap;\n",
              "      gap: 12px;\n",
              "    }\n",
              "\n",
              "    .colab-df-convert {\n",
              "      background-color: #E8F0FE;\n",
              "      border: none;\n",
              "      border-radius: 50%;\n",
              "      cursor: pointer;\n",
              "      display: none;\n",
              "      fill: #1967D2;\n",
              "      height: 32px;\n",
              "      padding: 0 0 0 0;\n",
              "      width: 32px;\n",
              "    }\n",
              "\n",
              "    .colab-df-convert:hover {\n",
              "      background-color: #E2EBFA;\n",
              "      box-shadow: 0px 1px 2px rgba(60, 64, 67, 0.3), 0px 1px 3px 1px rgba(60, 64, 67, 0.15);\n",
              "      fill: #174EA6;\n",
              "    }\n",
              "\n",
              "    [theme=dark] .colab-df-convert {\n",
              "      background-color: #3B4455;\n",
              "      fill: #D2E3FC;\n",
              "    }\n",
              "\n",
              "    [theme=dark] .colab-df-convert:hover {\n",
              "      background-color: #434B5C;\n",
              "      box-shadow: 0px 1px 3px 1px rgba(0, 0, 0, 0.15);\n",
              "      filter: drop-shadow(0px 1px 2px rgba(0, 0, 0, 0.3));\n",
              "      fill: #FFFFFF;\n",
              "    }\n",
              "  </style>\n",
              "\n",
              "      <script>\n",
              "        const buttonEl =\n",
              "          document.querySelector('#df-e922721f-089b-48e8-8f22-b3d4ac3d4701 button.colab-df-convert');\n",
              "        buttonEl.style.display =\n",
              "          google.colab.kernel.accessAllowed ? 'block' : 'none';\n",
              "\n",
              "        async function convertToInteractive(key) {\n",
              "          const element = document.querySelector('#df-e922721f-089b-48e8-8f22-b3d4ac3d4701');\n",
              "          const dataTable =\n",
              "            await google.colab.kernel.invokeFunction('convertToInteractive',\n",
              "                                                     [key], {});\n",
              "          if (!dataTable) return;\n",
              "\n",
              "          const docLinkHtml = 'Like what you see? Visit the ' +\n",
              "            '<a target=\"_blank\" href=https://colab.research.google.com/notebooks/data_table.ipynb>data table notebook</a>'\n",
              "            + ' to learn more about interactive tables.';\n",
              "          element.innerHTML = '';\n",
              "          dataTable['output_type'] = 'display_data';\n",
              "          await google.colab.output.renderOutput(dataTable, element);\n",
              "          const docLink = document.createElement('div');\n",
              "          docLink.innerHTML = docLinkHtml;\n",
              "          element.appendChild(docLink);\n",
              "        }\n",
              "      </script>\n",
              "    </div>\n",
              "  </div>\n",
              "  "
            ]
          },
          "metadata": {},
          "execution_count": 10
        }
      ]
    },
    {
      "cell_type": "code",
      "source": [
        "max(dataset['message_len'])"
      ],
      "metadata": {
        "colab": {
          "base_uri": "https://localhost:8080/"
        },
        "id": "XfhE2U3BCkKN",
        "outputId": "c2f59317-275f-4eea-f7b7-de832843ccab"
      },
      "execution_count": 11,
      "outputs": [
        {
          "output_type": "execute_result",
          "data": {
            "text/plain": [
              "34"
            ]
          },
          "metadata": {},
          "execution_count": 11
        }
      ]
    },
    {
      "cell_type": "markdown",
      "source": [
        "**Exploratory Data**"
      ],
      "metadata": {
        "id": "oW7-bRiXCl3C"
      }
    },
    {
      "cell_type": "code",
      "source": [
        "balance_counts = dataset.groupby('target')['target'].agg('count').values\n",
        "balance_counts"
      ],
      "metadata": {
        "colab": {
          "base_uri": "https://localhost:8080/"
        },
        "id": "DYvFJyq-CnU-",
        "outputId": "f0846fe5-ec2d-4cd3-89fe-97f80e2e235c"
      },
      "execution_count": 17,
      "outputs": [
        {
          "output_type": "execute_result",
          "data": {
            "text/plain": [
              "array([1, 1, 1, ..., 1, 1, 1])"
            ]
          },
          "metadata": {},
          "execution_count": 17
        }
      ]
    },
    {
      "cell_type": "markdown",
      "source": [
        "**Data Pre-processing**"
      ],
      "metadata": {
        "id": "QyPtvNIrCrA0"
      }
    },
    {
      "cell_type": "markdown",
      "source": [
        "Case Folding"
      ],
      "metadata": {
        "id": "zvrSjYQ3DEZ_"
      }
    },
    {
      "cell_type": "code",
      "source": [
        "import re \n",
        "def clean_text(text):\n",
        "    '''Make text lowercase, remove text in square brackets,remove links,remove punctuation\n",
        "    and remove words containing numbers.'''\n",
        "    text = str(text).lower()\n",
        "    text = re.sub('\\[.*?\\]', '', text)\n",
        "    text = re.sub('https?://\\S+|www\\.\\S+', '', text)\n",
        "    text = re.sub('<.*?>+', '', text)\n",
        "    text = re.sub('\\n', '', text)\n",
        "    text = re.sub('\\w*\\d\\w*', '', text)\n",
        "    return text"
      ],
      "metadata": {
        "id": "nA1T8nwiCqU7"
      },
      "execution_count": 18,
      "outputs": []
    },
    {
      "cell_type": "code",
      "source": [
        "dataset['message_clean'] = dataset['message'].apply(clean_text)\n",
        "dataset.head()"
      ],
      "metadata": {
        "colab": {
          "base_uri": "https://localhost:8080/",
          "height": 389
        },
        "id": "M_FZ0ts1CvH3",
        "outputId": "b215b102-025d-4943-a706-094dab80e4f3"
      },
      "execution_count": 19,
      "outputs": [
        {
          "output_type": "execute_result",
          "data": {
            "text/plain": [
              "                                              target  \\\n",
              "0  Ukraine: Angry Zelensky vows to punish Russian...   \n",
              "1  War in Ukraine: Taking cover in a town under a...   \n",
              "2         Ukraine war 'catastrophic for global food'   \n",
              "3  Manchester Arena bombing: Saffie Roussos's par...   \n",
              "4  Ukraine conflict: Oil price soars to highest l...   \n",
              "\n",
              "                                             message  message_len  \\\n",
              "0  The Ukrainian president says the country will ...           16   \n",
              "1  Jeremy Bowen was on the frontline in Irpin, as...           18   \n",
              "2  One of the world's biggest fertiliser firms sa...           17   \n",
              "3  The parents of the Manchester Arena bombing's ...           16   \n",
              "4  Consumers are feeling the impact of higher ene...           16   \n",
              "\n",
              "                                       message_clean  \n",
              "0  the ukrainian president says the country will ...  \n",
              "1  jeremy bowen was on the frontline in irpin, as...  \n",
              "2  one of the world's biggest fertiliser firms sa...  \n",
              "3  the parents of the manchester arena bombing's ...  \n",
              "4  consumers are feeling the impact of higher ene...  "
            ],
            "text/html": [
              "\n",
              "  <div id=\"df-ae851024-4d92-4d5b-855e-d5061649f0e9\">\n",
              "    <div class=\"colab-df-container\">\n",
              "      <div>\n",
              "<style scoped>\n",
              "    .dataframe tbody tr th:only-of-type {\n",
              "        vertical-align: middle;\n",
              "    }\n",
              "\n",
              "    .dataframe tbody tr th {\n",
              "        vertical-align: top;\n",
              "    }\n",
              "\n",
              "    .dataframe thead th {\n",
              "        text-align: right;\n",
              "    }\n",
              "</style>\n",
              "<table border=\"1\" class=\"dataframe\">\n",
              "  <thead>\n",
              "    <tr style=\"text-align: right;\">\n",
              "      <th></th>\n",
              "      <th>target</th>\n",
              "      <th>message</th>\n",
              "      <th>message_len</th>\n",
              "      <th>message_clean</th>\n",
              "    </tr>\n",
              "  </thead>\n",
              "  <tbody>\n",
              "    <tr>\n",
              "      <th>0</th>\n",
              "      <td>Ukraine: Angry Zelensky vows to punish Russian...</td>\n",
              "      <td>The Ukrainian president says the country will ...</td>\n",
              "      <td>16</td>\n",
              "      <td>the ukrainian president says the country will ...</td>\n",
              "    </tr>\n",
              "    <tr>\n",
              "      <th>1</th>\n",
              "      <td>War in Ukraine: Taking cover in a town under a...</td>\n",
              "      <td>Jeremy Bowen was on the frontline in Irpin, as...</td>\n",
              "      <td>18</td>\n",
              "      <td>jeremy bowen was on the frontline in irpin, as...</td>\n",
              "    </tr>\n",
              "    <tr>\n",
              "      <th>2</th>\n",
              "      <td>Ukraine war 'catastrophic for global food'</td>\n",
              "      <td>One of the world's biggest fertiliser firms sa...</td>\n",
              "      <td>17</td>\n",
              "      <td>one of the world's biggest fertiliser firms sa...</td>\n",
              "    </tr>\n",
              "    <tr>\n",
              "      <th>3</th>\n",
              "      <td>Manchester Arena bombing: Saffie Roussos's par...</td>\n",
              "      <td>The parents of the Manchester Arena bombing's ...</td>\n",
              "      <td>16</td>\n",
              "      <td>the parents of the manchester arena bombing's ...</td>\n",
              "    </tr>\n",
              "    <tr>\n",
              "      <th>4</th>\n",
              "      <td>Ukraine conflict: Oil price soars to highest l...</td>\n",
              "      <td>Consumers are feeling the impact of higher ene...</td>\n",
              "      <td>16</td>\n",
              "      <td>consumers are feeling the impact of higher ene...</td>\n",
              "    </tr>\n",
              "  </tbody>\n",
              "</table>\n",
              "</div>\n",
              "      <button class=\"colab-df-convert\" onclick=\"convertToInteractive('df-ae851024-4d92-4d5b-855e-d5061649f0e9')\"\n",
              "              title=\"Convert this dataframe to an interactive table.\"\n",
              "              style=\"display:none;\">\n",
              "        \n",
              "  <svg xmlns=\"http://www.w3.org/2000/svg\" height=\"24px\"viewBox=\"0 0 24 24\"\n",
              "       width=\"24px\">\n",
              "    <path d=\"M0 0h24v24H0V0z\" fill=\"none\"/>\n",
              "    <path d=\"M18.56 5.44l.94 2.06.94-2.06 2.06-.94-2.06-.94-.94-2.06-.94 2.06-2.06.94zm-11 1L8.5 8.5l.94-2.06 2.06-.94-2.06-.94L8.5 2.5l-.94 2.06-2.06.94zm10 10l.94 2.06.94-2.06 2.06-.94-2.06-.94-.94-2.06-.94 2.06-2.06.94z\"/><path d=\"M17.41 7.96l-1.37-1.37c-.4-.4-.92-.59-1.43-.59-.52 0-1.04.2-1.43.59L10.3 9.45l-7.72 7.72c-.78.78-.78 2.05 0 2.83L4 21.41c.39.39.9.59 1.41.59.51 0 1.02-.2 1.41-.59l7.78-7.78 2.81-2.81c.8-.78.8-2.07 0-2.86zM5.41 20L4 18.59l7.72-7.72 1.47 1.35L5.41 20z\"/>\n",
              "  </svg>\n",
              "      </button>\n",
              "      \n",
              "  <style>\n",
              "    .colab-df-container {\n",
              "      display:flex;\n",
              "      flex-wrap:wrap;\n",
              "      gap: 12px;\n",
              "    }\n",
              "\n",
              "    .colab-df-convert {\n",
              "      background-color: #E8F0FE;\n",
              "      border: none;\n",
              "      border-radius: 50%;\n",
              "      cursor: pointer;\n",
              "      display: none;\n",
              "      fill: #1967D2;\n",
              "      height: 32px;\n",
              "      padding: 0 0 0 0;\n",
              "      width: 32px;\n",
              "    }\n",
              "\n",
              "    .colab-df-convert:hover {\n",
              "      background-color: #E2EBFA;\n",
              "      box-shadow: 0px 1px 2px rgba(60, 64, 67, 0.3), 0px 1px 3px 1px rgba(60, 64, 67, 0.15);\n",
              "      fill: #174EA6;\n",
              "    }\n",
              "\n",
              "    [theme=dark] .colab-df-convert {\n",
              "      background-color: #3B4455;\n",
              "      fill: #D2E3FC;\n",
              "    }\n",
              "\n",
              "    [theme=dark] .colab-df-convert:hover {\n",
              "      background-color: #434B5C;\n",
              "      box-shadow: 0px 1px 3px 1px rgba(0, 0, 0, 0.15);\n",
              "      filter: drop-shadow(0px 1px 2px rgba(0, 0, 0, 0.3));\n",
              "      fill: #FFFFFF;\n",
              "    }\n",
              "  </style>\n",
              "\n",
              "      <script>\n",
              "        const buttonEl =\n",
              "          document.querySelector('#df-ae851024-4d92-4d5b-855e-d5061649f0e9 button.colab-df-convert');\n",
              "        buttonEl.style.display =\n",
              "          google.colab.kernel.accessAllowed ? 'block' : 'none';\n",
              "\n",
              "        async function convertToInteractive(key) {\n",
              "          const element = document.querySelector('#df-ae851024-4d92-4d5b-855e-d5061649f0e9');\n",
              "          const dataTable =\n",
              "            await google.colab.kernel.invokeFunction('convertToInteractive',\n",
              "                                                     [key], {});\n",
              "          if (!dataTable) return;\n",
              "\n",
              "          const docLinkHtml = 'Like what you see? Visit the ' +\n",
              "            '<a target=\"_blank\" href=https://colab.research.google.com/notebooks/data_table.ipynb>data table notebook</a>'\n",
              "            + ' to learn more about interactive tables.';\n",
              "          element.innerHTML = '';\n",
              "          dataTable['output_type'] = 'display_data';\n",
              "          await google.colab.output.renderOutput(dataTable, element);\n",
              "          const docLink = document.createElement('div');\n",
              "          docLink.innerHTML = docLinkHtml;\n",
              "          element.appendChild(docLink);\n",
              "        }\n",
              "      </script>\n",
              "    </div>\n",
              "  </div>\n",
              "  "
            ]
          },
          "metadata": {},
          "execution_count": 19
        }
      ]
    },
    {
      "cell_type": "markdown",
      "source": [
        "Tokenisasi"
      ],
      "metadata": {
        "id": "FGz-gaa1Cyw1"
      }
    },
    {
      "cell_type": "code",
      "source": [
        "def tokenize(message_clean):\n",
        "    token = nltk.word_tokenize(message_clean)\n",
        "    return token"
      ],
      "metadata": {
        "id": "-In8obbZC0Rj"
      },
      "execution_count": 20,
      "outputs": []
    },
    {
      "cell_type": "code",
      "source": [
        "\n",
        "import nltk\n",
        "nltk.download('punkt')\n",
        "dataset['tokenized'] = dataset['message_clean'].apply(tokenize)\n",
        "\n",
        "print('Tokenizing Result : \\n') \n",
        "print(dataset['tokenized'].head())\n",
        "print('\\n\\n\\n')"
      ],
      "metadata": {
        "colab": {
          "base_uri": "https://localhost:8080/"
        },
        "id": "ooqq6ZFrC2lM",
        "outputId": "db4569fd-f460-47e4-adf0-499cd60d0f4b"
      },
      "execution_count": 21,
      "outputs": [
        {
          "output_type": "stream",
          "name": "stdout",
          "text": [
            "[nltk_data] Downloading package punkt to /root/nltk_data...\n",
            "[nltk_data]   Unzipping tokenizers/punkt.zip.\n",
            "Tokenizing Result : \n",
            "\n",
            "0    [the, ukrainian, president, says, the, country...\n",
            "1    [jeremy, bowen, was, on, the, frontline, in, i...\n",
            "2    [one, of, the, world, 's, biggest, fertiliser,...\n",
            "3    [the, parents, of, the, manchester, arena, bom...\n",
            "4    [consumers, are, feeling, the, impact, of, hig...\n",
            "Name: tokenized, dtype: object\n",
            "\n",
            "\n",
            "\n",
            "\n"
          ]
        }
      ]
    },
    {
      "cell_type": "markdown",
      "source": [
        "Stopwords"
      ],
      "metadata": {
        "id": "g5LoQhMXDQsi"
      }
    },
    {
      "cell_type": "code",
      "source": [
        "import re\n",
        "import nltk\n",
        "nltk.download('stopwords')\n",
        "from nltk.corpus import stopwords\n",
        "stop_words = stopwords.words('english')\n",
        "\n",
        "def remove_stop_words(message_clean):\n",
        "    removed_stop_words = []\n",
        "    for review in message_clean:\n",
        "        removed_stop_words.append(\n",
        "            ' '.join([word for word in review.split() \n",
        "                      if word not in stop_words])\n",
        "        )\n",
        "    return removed_stop_words"
      ],
      "metadata": {
        "colab": {
          "base_uri": "https://localhost:8080/"
        },
        "id": "Wcl177fcDSlX",
        "outputId": "efc3451e-83af-4c83-e0c5-3c3a69ee8526"
      },
      "execution_count": 22,
      "outputs": [
        {
          "output_type": "stream",
          "name": "stdout",
          "text": [
            "[nltk_data] Downloading package stopwords to /root/nltk_data...\n",
            "[nltk_data]   Package stopwords is already up-to-date!\n"
          ]
        }
      ]
    },
    {
      "cell_type": "code",
      "source": [
        "dataset['stopwords_removed'] = dataset['tokenized'].apply(remove_stop_words)\n",
        "\n",
        "print('Stopwords Result : \\n') \n",
        "print(dataset['stopwords_removed'].head())\n",
        "print('\\n\\n\\n')"
      ],
      "metadata": {
        "colab": {
          "base_uri": "https://localhost:8080/"
        },
        "id": "PniGiALZDU3x",
        "outputId": "43253746-d56f-479a-e70e-e32226cb7fee"
      },
      "execution_count": 23,
      "outputs": [
        {
          "output_type": "stream",
          "name": "stdout",
          "text": [
            "Stopwords Result : \n",
            "\n",
            "0    [, ukrainian, president, says, , country, , , ...\n",
            "1    [jeremy, bowen, , , , frontline, , irpin, ,, ,...\n",
            "2    [one, , , world, 's, biggest, fertiliser, firm...\n",
            "3    [, parents, , , manchester, arena, bombing, 's...\n",
            "4    [consumers, , feeling, , impact, , higher, ene...\n",
            "Name: stopwords_removed, dtype: object\n",
            "\n",
            "\n",
            "\n",
            "\n"
          ]
        }
      ]
    },
    {
      "cell_type": "markdown",
      "source": [
        "Stemming"
      ],
      "metadata": {
        "id": "WF6RUvOjDWj9"
      }
    },
    {
      "cell_type": "code",
      "source": [
        "dataset['stemming_removed'] = dataset['stopwords_removed'].apply(remove_stop_words)\n",
        "\n",
        "print('Stemming Result : \\n') \n",
        "print(dataset['stopwords_removed'].head())\n",
        "print('\\n\\n\\n')"
      ],
      "metadata": {
        "colab": {
          "base_uri": "https://localhost:8080/"
        },
        "id": "15o2HKRRDYc0",
        "outputId": "1f2d9abd-4dd7-4180-f683-a52c7b516ef9"
      },
      "execution_count": 24,
      "outputs": [
        {
          "output_type": "stream",
          "name": "stdout",
          "text": [
            "Stemming Result : \n",
            "\n",
            "0    [, ukrainian, president, says, , country, , , ...\n",
            "1    [jeremy, bowen, , , , frontline, , irpin, ,, ,...\n",
            "2    [one, , , world, 's, biggest, fertiliser, firm...\n",
            "3    [, parents, , , manchester, arena, bombing, 's...\n",
            "4    [consumers, , feeling, , impact, , higher, ene...\n",
            "Name: stopwords_removed, dtype: object\n",
            "\n",
            "\n",
            "\n",
            "\n"
          ]
        }
      ]
    },
    {
      "cell_type": "markdown",
      "source": [
        "Clustering"
      ],
      "metadata": {
        "id": "7VokINKfDaxB"
      }
    },
    {
      "cell_type": "code",
      "source": [
        "from sklearn.cluster import MiniBatchKMeans\n",
        "from sklearn.feature_extraction.text import TfidfVectorizer\n",
        "from sklearn.decomposition import PCA\n",
        "from sklearn.manifold import TSNE"
      ],
      "metadata": {
        "id": "__24QUhgDcJW"
      },
      "execution_count": 25,
      "outputs": []
    },
    {
      "cell_type": "markdown",
      "source": [
        "Clustering by the target"
      ],
      "metadata": {
        "id": "AQ7FFhuYDec3"
      }
    },
    {
      "cell_type": "code",
      "source": [
        "tfidf = TfidfVectorizer(\n",
        "    min_df = 5,\n",
        "    max_df = 0.95,\n",
        "    max_features = 8000,\n",
        "    stop_words = 'english'\n",
        ")\n",
        "tfidf.fit(dataset.message_clean)\n",
        "text1 = tfidf.transform(dataset.message_clean)"
      ],
      "metadata": {
        "id": "RW5qKe9bDgFz"
      },
      "execution_count": 26,
      "outputs": []
    },
    {
      "cell_type": "code",
      "source": [
        "import matplotlib.pyplot as plt\n",
        "def find_optimal_clusters(dataset, max_k):\n",
        "    iters = range(2, max_k+1, 2)\n",
        "    \n",
        "    sse = []\n",
        "    for k in iters:\n",
        "        sse.append(MiniBatchKMeans(n_clusters=k, init_size=10, batch_size=30, random_state=20).fit(dataset).inertia_)\n",
        "        print('Fit {} clusters'.format(k))\n",
        "        \n",
        "    f, ax = plt.subplots(1, 1)\n",
        "    ax.plot(iters, sse, marker='o')\n",
        "    ax.set_xlabel('Cluster Centers')\n",
        "    ax.set_xticks(iters)\n",
        "    ax.set_xticklabels(iters)\n",
        "    ax.set_ylabel('SSE')\n",
        "    ax.set_title('SSE by Cluster Center Plot')\n",
        "    \n",
        "find_optimal_clusters(text1, 20)"
      ],
      "metadata": {
        "colab": {
          "base_uri": "https://localhost:8080/",
          "height": 662
        },
        "id": "Ku_6BPLvDiDF",
        "outputId": "7faaae54-f2a0-4bb1-9bdb-a3f5fe49f7e1"
      },
      "execution_count": 27,
      "outputs": [
        {
          "output_type": "stream",
          "name": "stdout",
          "text": [
            "Fit 2 clusters\n",
            "Fit 4 clusters\n",
            "Fit 6 clusters\n",
            "Fit 8 clusters\n",
            "Fit 10 clusters\n",
            "Fit 12 clusters\n"
          ]
        },
        {
          "output_type": "stream",
          "name": "stderr",
          "text": [
            "/usr/local/lib/python3.7/dist-packages/sklearn/cluster/_kmeans.py:1902: RuntimeWarning: init_size=10 should be larger than n_clusters=12. Setting it to min(3*n_clusters, n_samples)\n",
            "  self._check_params(X)\n",
            "/usr/local/lib/python3.7/dist-packages/sklearn/cluster/_kmeans.py:1902: RuntimeWarning: init_size=10 should be larger than n_clusters=14. Setting it to min(3*n_clusters, n_samples)\n",
            "  self._check_params(X)\n"
          ]
        },
        {
          "output_type": "stream",
          "name": "stdout",
          "text": [
            "Fit 14 clusters\n"
          ]
        },
        {
          "output_type": "stream",
          "name": "stderr",
          "text": [
            "/usr/local/lib/python3.7/dist-packages/sklearn/cluster/_kmeans.py:1902: RuntimeWarning: init_size=10 should be larger than n_clusters=16. Setting it to min(3*n_clusters, n_samples)\n",
            "  self._check_params(X)\n"
          ]
        },
        {
          "output_type": "stream",
          "name": "stdout",
          "text": [
            "Fit 16 clusters\n"
          ]
        },
        {
          "output_type": "stream",
          "name": "stderr",
          "text": [
            "/usr/local/lib/python3.7/dist-packages/sklearn/cluster/_kmeans.py:1902: RuntimeWarning: init_size=10 should be larger than n_clusters=18. Setting it to min(3*n_clusters, n_samples)\n",
            "  self._check_params(X)\n"
          ]
        },
        {
          "output_type": "stream",
          "name": "stdout",
          "text": [
            "Fit 18 clusters\n"
          ]
        },
        {
          "output_type": "stream",
          "name": "stderr",
          "text": [
            "/usr/local/lib/python3.7/dist-packages/sklearn/cluster/_kmeans.py:1902: RuntimeWarning: init_size=10 should be larger than n_clusters=20. Setting it to min(3*n_clusters, n_samples)\n",
            "  self._check_params(X)\n"
          ]
        },
        {
          "output_type": "stream",
          "name": "stdout",
          "text": [
            "Fit 20 clusters\n"
          ]
        },
        {
          "output_type": "display_data",
          "data": {
            "text/plain": [
              "<Figure size 432x288 with 1 Axes>"
            ],
            "image/png": "[encoded data removed]"
          },
          "metadata": {
            "needs_background": "light"
          }
        }
      ]
    },
    {
      "cell_type": "code",
      "source": [
        "clusters = MiniBatchKMeans(n_clusters=16, init_size=10, batch_size=30, random_state=20).fit_predict(text1)"
      ],
      "metadata": {
        "colab": {
          "base_uri": "https://localhost:8080/"
        },
        "id": "KrEr707KDmIM",
        "outputId": "edfdde8f-019c-429e-c487-cff904925bc9"
      },
      "execution_count": 28,
      "outputs": [
        {
          "output_type": "stream",
          "name": "stderr",
          "text": [
            "/usr/local/lib/python3.7/dist-packages/sklearn/cluster/_kmeans.py:1902: RuntimeWarning: init_size=10 should be larger than n_clusters=16. Setting it to min(3*n_clusters, n_samples)\n",
            "  self._check_params(X)\n"
          ]
        }
      ]
    },
    {
      "cell_type": "code",
      "source": [
        "import numpy as np\n",
        "import matplotlib.cm as cm\n",
        "from sklearn.decomposition import PCA\n",
        "\n",
        "def plot_tsne_pca(dataset, labels):\n",
        "    max_label = max(labels)\n",
        "    max_items = np.random.choice(range(dataset.shape[0]), size=500, replace=False)\n",
        "    \n",
        "    pca = PCA(n_components=2).fit_transform(dataset[max_items,:].todense())\n",
        "    tsne = TSNE().fit_transform(PCA(n_components=1).fit_transform(dataset[max_items,:].todense()))\n",
        "    \n",
        "    \n",
        "    idx = np.random.choice(range(pca.shape[0]), size=300, replace=False)\n",
        "    label_subset = labels[max_items]\n",
        "    label_subset = [cm.hsv(i/max_label) for i in label_subset[idx]]\n",
        "    \n",
        "    f, ax = plt.subplots(1, 2, figsize=(14, 6))\n",
        "    \n",
        "    ax[0].scatter(pca[idx, 0], pca[idx, 1], c=label_subset)\n",
        "    ax[0].set_title('PCA Cluster Plot')\n",
        "    \n",
        "    ax[1].scatter(tsne[idx, 0], tsne[idx, 1], c=label_subset)\n",
        "    ax[1].set_title('TSNE Cluster Plot')\n",
        "    \n",
        "plot_tsne_pca(text1, clusters)"
      ],
      "metadata": {
        "colab": {
          "base_uri": "https://localhost:8080/",
          "height": 468
        },
        "id": "XdWAnq7vDnUF",
        "outputId": "12240eca-c213-41f4-9111-fcc594c0057b"
      },
      "execution_count": 29,
      "outputs": [
        {
          "output_type": "stream",
          "name": "stderr",
          "text": [
            "/usr/local/lib/python3.7/dist-packages/sklearn/utils/validation.py:598: FutureWarning: np.matrix usage is deprecated in 1.0 and will raise a TypeError in 1.2. Please convert to a numpy array with np.asarray. For more information see: https://numpy.org/doc/stable/reference/generated/numpy.matrix.html\n",
            "  FutureWarning,\n",
            "/usr/local/lib/python3.7/dist-packages/sklearn/utils/validation.py:598: FutureWarning: np.matrix usage is deprecated in 1.0 and will raise a TypeError in 1.2. Please convert to a numpy array with np.asarray. For more information see: https://numpy.org/doc/stable/reference/generated/numpy.matrix.html\n",
            "  FutureWarning,\n",
            "/usr/local/lib/python3.7/dist-packages/sklearn/manifold/_t_sne.py:783: FutureWarning: The default initialization in TSNE will change from 'random' to 'pca' in 1.2.\n",
            "  FutureWarning,\n",
            "/usr/local/lib/python3.7/dist-packages/sklearn/manifold/_t_sne.py:793: FutureWarning: The default learning rate in TSNE will change from 200.0 to 'auto' in 1.2.\n",
            "  FutureWarning,\n"
          ]
        },
        {
          "output_type": "display_data",
          "data": {
            "text/plain": [
              "<Figure size 1008x432 with 2 Axes>"
            ],
            "image/png": "[encoded data removed]"
          },
          "metadata": {
            "needs_background": "light"
          }
        }
      ]
    },
    {
      "cell_type": "code",
      "source": [
        "def get_top_keywords(dataset, clusters, labels, n_terms):\n",
        "    df3 = pd.DataFrame(dataset.todense()).groupby(clusters).mean()\n",
        "    \n",
        "    for i,r in df3.iterrows():\n",
        "        print('\\nCluster {}'.format(i))\n",
        "        print(','.join([labels[t] for t in np.argsort(r)[-n_terms:]]))\n",
        "            \n",
        "get_top_keywords(text1, clusters, tfidf.get_feature_names(), 10)"
      ],
      "metadata": {
        "colab": {
          "base_uri": "https://localhost:8080/"
        },
        "id": "cXzRRW0FDo93",
        "outputId": "e87d12d4-55ed-4225-e8df-d2c3aad43487"
      },
      "execution_count": 30,
      "outputs": [
        {
          "output_type": "stream",
          "name": "stdout",
          "text": [
            "\n",
            "Cluster 0\n",
            "game,gas,global,goals,going,future,zaghari,workers,union,join\n",
            "\n",
            "Cluster 1\n",
            "gas,global,goals,going,future,zaghari,says,leader,ex,wife\n",
            "\n",
            "Cluster 2\n",
            "global,goals,going,gold,gas,ukraine,military,work,turn,surging\n",
            "\n",
            "Cluster 3\n",
            "friday,fuel,future,russia,rising,boss,papers,stories,firm,ferry\n",
            "\n",
            "Cluster 4\n",
            "used,attacks,years,new,answers,turn,past,high,event,schools\n",
            "\n",
            "Cluster 5\n",
            "friday,french,government,work,wants,pay,money,match,future,does\n",
            "\n",
            "Cluster 6\n",
            "says,putin,calls,comes,mps,uk,refugee,meet,johnson,boris\n",
            "\n",
            "Cluster 7\n",
            "beat,match,fans,breaking,record,league,champions,real,madrid,barcelona\n",
            "\n",
            "Cluster 8\n",
            "got,friday,french,free,frank,france,fourth,countries,violence,record\n",
            "\n",
            "Cluster 9\n",
            "gas,global,goals,going,fuel,world,year,old,speech,daughter\n",
            "\n",
            "Cluster 10\n",
            "bbc,world,people,uk,england,war,russian,russia,says,ukraine\n",
            "\n",
            "Cluster 11\n",
            "faces,russia,russian,forces,areas,advances,ukrainian,ongoing,mariupol,fighting\n",
            "\n",
            "Cluster 12\n",
            "free,france,fa,says,league,manager,winning,premier,frank,struggling\n",
            "\n",
            "Cluster 13\n",
            "global,goals,gas,zaghari,does,service,public,westminster,duke,memorial\n",
            "\n",
            "Cluster 14\n",
            "performance,city,day,match,helped,hat,trick,beat,united,manchester\n",
            "\n",
            "Cluster 15\n",
            "game,gas,global,goals,going,future,zaghari,workers,french,started\n"
          ]
        },
        {
          "output_type": "stream",
          "name": "stderr",
          "text": [
            "/usr/local/lib/python3.7/dist-packages/sklearn/utils/deprecation.py:87: FutureWarning: Function get_feature_names is deprecated; get_feature_names is deprecated in 1.0 and will be removed in 1.2. Please use get_feature_names_out instead.\n",
            "  warnings.warn(msg, category=FutureWarning)\n"
          ]
        }
      ]
    },
    {
      "cell_type": "markdown",
      "source": [
        "vectorization"
      ],
      "metadata": {
        "id": "a2MKEK54DuB0"
      }
    },
    {
      "cell_type": "code",
      "source": [
        "from sklearn.preprocessing import LabelEncoder\n",
        "\n",
        "le = LabelEncoder()\n",
        "le.fit(dataset['target'])\n",
        "\n",
        "dataset['target_encoded'] = le.transform(dataset['target'])\n",
        "dataset.head()"
      ],
      "metadata": {
        "colab": {
          "base_uri": "https://localhost:8080/",
          "height": 687
        },
        "id": "8Q8lLCS8Dva0",
        "outputId": "f180fb9c-76c6-4f96-97ae-390f1c58b930"
      },
      "execution_count": 31,
      "outputs": [
        {
          "output_type": "execute_result",
          "data": {
            "text/plain": [
              "                                              target  \\\n",
              "0  Ukraine: Angry Zelensky vows to punish Russian...   \n",
              "1  War in Ukraine: Taking cover in a town under a...   \n",
              "2         Ukraine war 'catastrophic for global food'   \n",
              "3  Manchester Arena bombing: Saffie Roussos's par...   \n",
              "4  Ukraine conflict: Oil price soars to highest l...   \n",
              "\n",
              "                                             message  message_len  \\\n",
              "0  The Ukrainian president says the country will ...           16   \n",
              "1  Jeremy Bowen was on the frontline in Irpin, as...           18   \n",
              "2  One of the world's biggest fertiliser firms sa...           17   \n",
              "3  The parents of the Manchester Arena bombing's ...           16   \n",
              "4  Consumers are feeling the impact of higher ene...           16   \n",
              "\n",
              "                                       message_clean  \\\n",
              "0  the ukrainian president says the country will ...   \n",
              "1  jeremy bowen was on the frontline in irpin, as...   \n",
              "2  one of the world's biggest fertiliser firms sa...   \n",
              "3  the parents of the manchester arena bombing's ...   \n",
              "4  consumers are feeling the impact of higher ene...   \n",
              "\n",
              "                                           tokenized  \\\n",
              "0  [the, ukrainian, president, says, the, country...   \n",
              "1  [jeremy, bowen, was, on, the, frontline, in, i...   \n",
              "2  [one, of, the, world, 's, biggest, fertiliser,...   \n",
              "3  [the, parents, of, the, manchester, arena, bom...   \n",
              "4  [consumers, are, feeling, the, impact, of, hig...   \n",
              "\n",
              "                                   stopwords_removed  \\\n",
              "0  [, ukrainian, president, says, , country, , , ...   \n",
              "1  [jeremy, bowen, , , , frontline, , irpin, ,, ,...   \n",
              "2  [one, , , world, 's, biggest, fertiliser, firm...   \n",
              "3  [, parents, , , manchester, arena, bombing, 's...   \n",
              "4  [consumers, , feeling, , impact, , higher, ene...   \n",
              "\n",
              "                                    stemming_removed  target_encoded  \n",
              "0  [, ukrainian, president, says, , country, , , ...             976  \n",
              "1  [jeremy, bowen, , , , frontline, , irpin, ,, ,...            1063  \n",
              "2  [one, , , world, 's, biggest, fertiliser, firm...             875  \n",
              "3  [, parents, , , manchester, arena, bombing, 's...             480  \n",
              "4  [consumers, , feeling, , impact, , higher, ene...             845  "
            ],
            "text/html": [
              "\n",
              "  <div id=\"df-c2127e7d-d71d-4c52-99c4-0bd5ad06638b\">\n",
              "    <div class=\"colab-df-container\">\n",
              "      <div>\n",
              "<style scoped>\n",
              "    .dataframe tbody tr th:only-of-type {\n",
              "        vertical-align: middle;\n",
              "    }\n",
              "\n",
              "    .dataframe tbody tr th {\n",
              "        vertical-align: top;\n",
              "    }\n",
              "\n",
              "    .dataframe thead th {\n",
              "        text-align: right;\n",
              "    }\n",
              "</style>\n",
              "<table border=\"1\" class=\"dataframe\">\n",
              "  <thead>\n",
              "    <tr style=\"text-align: right;\">\n",
              "      <th></th>\n",
              "      <th>target</th>\n",
              "      <th>message</th>\n",
              "      <th>message_len</th>\n",
              "      <th>message_clean</th>\n",
              "      <th>tokenized</th>\n",
              "      <th>stopwords_removed</th>\n",
              "      <th>stemming_removed</th>\n",
              "      <th>target_encoded</th>\n",
              "    </tr>\n",
              "  </thead>\n",
              "  <tbody>\n",
              "    <tr>\n",
              "      <th>0</th>\n",
              "      <td>Ukraine: Angry Zelensky vows to punish Russian...</td>\n",
              "      <td>The Ukrainian president says the country will ...</td>\n",
              "      <td>16</td>\n",
              "      <td>the ukrainian president says the country will ...</td>\n",
              "      <td>[the, ukrainian, president, says, the, country...</td>\n",
              "      <td>[, ukrainian, president, says, , country, , , ...</td>\n",
              "      <td>[, ukrainian, president, says, , country, , , ...</td>\n",
              "      <td>976</td>\n",
              "    </tr>\n",
              "    <tr>\n",
              "      <th>1</th>\n",
              "      <td>War in Ukraine: Taking cover in a town under a...</td>\n",
              "      <td>Jeremy Bowen was on the frontline in Irpin, as...</td>\n",
              "      <td>18</td>\n",
              "      <td>jeremy bowen was on the frontline in irpin, as...</td>\n",
              "      <td>[jeremy, bowen, was, on, the, frontline, in, i...</td>\n",
              "      <td>[jeremy, bowen, , , , frontline, , irpin, ,, ,...</td>\n",
              "      <td>[jeremy, bowen, , , , frontline, , irpin, ,, ,...</td>\n",
              "      <td>1063</td>\n",
              "    </tr>\n",
              "    <tr>\n",
              "      <th>2</th>\n",
              "      <td>Ukraine war 'catastrophic for global food'</td>\n",
              "      <td>One of the world's biggest fertiliser firms sa...</td>\n",
              "      <td>17</td>\n",
              "      <td>one of the world's biggest fertiliser firms sa...</td>\n",
              "      <td>[one, of, the, world, 's, biggest, fertiliser,...</td>\n",
              "      <td>[one, , , world, 's, biggest, fertiliser, firm...</td>\n",
              "      <td>[one, , , world, 's, biggest, fertiliser, firm...</td>\n",
              "      <td>875</td>\n",
              "    </tr>\n",
              "    <tr>\n",
              "      <th>3</th>\n",
              "      <td>Manchester Arena bombing: Saffie Roussos's par...</td>\n",
              "      <td>The parents of the Manchester Arena bombing's ...</td>\n",
              "      <td>16</td>\n",
              "      <td>the parents of the manchester arena bombing's ...</td>\n",
              "      <td>[the, parents, of, the, manchester, arena, bom...</td>\n",
              "      <td>[, parents, , , manchester, arena, bombing, 's...</td>\n",
              "      <td>[, parents, , , manchester, arena, bombing, 's...</td>\n",
              "      <td>480</td>\n",
              "    </tr>\n",
              "    <tr>\n",
              "      <th>4</th>\n",
              "      <td>Ukraine conflict: Oil price soars to highest l...</td>\n",
              "      <td>Consumers are feeling the impact of higher ene...</td>\n",
              "      <td>16</td>\n",
              "      <td>consumers are feeling the impact of higher ene...</td>\n",
              "      <td>[consumers, are, feeling, the, impact, of, hig...</td>\n",
              "      <td>[consumers, , feeling, , impact, , higher, ene...</td>\n",
              "      <td>[consumers, , feeling, , impact, , higher, ene...</td>\n",
              "      <td>845</td>\n",
              "    </tr>\n",
              "  </tbody>\n",
              "</table>\n",
              "</div>\n",
              "      <button class=\"colab-df-convert\" onclick=\"convertToInteractive('df-c2127e7d-d71d-4c52-99c4-0bd5ad06638b')\"\n",
              "              title=\"Convert this dataframe to an interactive table.\"\n",
              "              style=\"display:none;\">\n",
              "        \n",
              "  <svg xmlns=\"http://www.w3.org/2000/svg\" height=\"24px\"viewBox=\"0 0 24 24\"\n",
              "       width=\"24px\">\n",
              "    <path d=\"M0 0h24v24H0V0z\" fill=\"none\"/>\n",
              "    <path d=\"M18.56 5.44l.94 2.06.94-2.06 2.06-.94-2.06-.94-.94-2.06-.94 2.06-2.06.94zm-11 1L8.5 8.5l.94-2.06 2.06-.94-2.06-.94L8.5 2.5l-.94 2.06-2.06.94zm10 10l.94 2.06.94-2.06 2.06-.94-2.06-.94-.94-2.06-.94 2.06-2.06.94z\"/><path d=\"M17.41 7.96l-1.37-1.37c-.4-.4-.92-.59-1.43-.59-.52 0-1.04.2-1.43.59L10.3 9.45l-7.72 7.72c-.78.78-.78 2.05 0 2.83L4 21.41c.39.39.9.59 1.41.59.51 0 1.02-.2 1.41-.59l7.78-7.78 2.81-2.81c.8-.78.8-2.07 0-2.86zM5.41 20L4 18.59l7.72-7.72 1.47 1.35L5.41 20z\"/>\n",
              "  </svg>\n",
              "      </button>\n",
              "      \n",
              "  <style>\n",
              "    .colab-df-container {\n",
              "      display:flex;\n",
              "      flex-wrap:wrap;\n",
              "      gap: 12px;\n",
              "    }\n",
              "\n",
              "    .colab-df-convert {\n",
              "      background-color: #E8F0FE;\n",
              "      border: none;\n",
              "      border-radius: 50%;\n",
              "      cursor: pointer;\n",
              "      display: none;\n",
              "      fill: #1967D2;\n",
              "      height: 32px;\n",
              "      padding: 0 0 0 0;\n",
              "      width: 32px;\n",
              "    }\n",
              "\n",
              "    .colab-df-convert:hover {\n",
              "      background-color: #E2EBFA;\n",
              "      box-shadow: 0px 1px 2px rgba(60, 64, 67, 0.3), 0px 1px 3px 1px rgba(60, 64, 67, 0.15);\n",
              "      fill: #174EA6;\n",
              "    }\n",
              "\n",
              "    [theme=dark] .colab-df-convert {\n",
              "      background-color: #3B4455;\n",
              "      fill: #D2E3FC;\n",
              "    }\n",
              "\n",
              "    [theme=dark] .colab-df-convert:hover {\n",
              "      background-color: #434B5C;\n",
              "      box-shadow: 0px 1px 3px 1px rgba(0, 0, 0, 0.15);\n",
              "      filter: drop-shadow(0px 1px 2px rgba(0, 0, 0, 0.3));\n",
              "      fill: #FFFFFF;\n",
              "    }\n",
              "  </style>\n",
              "\n",
              "      <script>\n",
              "        const buttonEl =\n",
              "          document.querySelector('#df-c2127e7d-d71d-4c52-99c4-0bd5ad06638b button.colab-df-convert');\n",
              "        buttonEl.style.display =\n",
              "          google.colab.kernel.accessAllowed ? 'block' : 'none';\n",
              "\n",
              "        async function convertToInteractive(key) {\n",
              "          const element = document.querySelector('#df-c2127e7d-d71d-4c52-99c4-0bd5ad06638b');\n",
              "          const dataTable =\n",
              "            await google.colab.kernel.invokeFunction('convertToInteractive',\n",
              "                                                     [key], {});\n",
              "          if (!dataTable) return;\n",
              "\n",
              "          const docLinkHtml = 'Like what you see? Visit the ' +\n",
              "            '<a target=\"_blank\" href=https://colab.research.google.com/notebooks/data_table.ipynb>data table notebook</a>'\n",
              "            + ' to learn more about interactive tables.';\n",
              "          element.innerHTML = '';\n",
              "          dataTable['output_type'] = 'display_data';\n",
              "          await google.colab.output.renderOutput(dataTable, element);\n",
              "          const docLink = document.createElement('div');\n",
              "          docLink.innerHTML = docLinkHtml;\n",
              "          element.appendChild(docLink);\n",
              "        }\n",
              "      </script>\n",
              "    </div>\n",
              "  </div>\n",
              "  "
            ]
          },
          "metadata": {},
          "execution_count": 31
        }
      ]
    },
    {
      "cell_type": "code",
      "source": [
        "# how to define X and y (from the SMS data) for use with COUNTVECTORIZER\n",
        "x = dataset['message_clean']\n",
        "y = dataset['target_encoded']\n",
        "\n",
        "print(len(x), len(y))"
      ],
      "metadata": {
        "colab": {
          "base_uri": "https://localhost:8080/"
        },
        "id": "Eoat1SghDx_3",
        "outputId": "aed7ff07-9e48-4cdb-f021-a60c4b63a82d"
      },
      "execution_count": 32,
      "outputs": [
        {
          "output_type": "stream",
          "name": "stdout",
          "text": [
            "1234 1234\n"
          ]
        }
      ]
    },
    {
      "cell_type": "code",
      "source": [
        "# Split into train and test sets\n",
        "from sklearn.model_selection import train_test_split\n",
        "\n",
        "x_train, x_test, y_train, y_test = train_test_split(x, y, random_state=42)\n",
        "print(len(x_train), len(y_train))\n",
        "print(len(x_test), len(y_test))"
      ],
      "metadata": {
        "colab": {
          "base_uri": "https://localhost:8080/"
        },
        "id": "Cdet8V8tDzBe",
        "outputId": "3ccce2b0-367b-44f9-98f5-045126e34cc0"
      },
      "execution_count": 33,
      "outputs": [
        {
          "output_type": "stream",
          "name": "stdout",
          "text": [
            "925 925\n",
            "309 309\n"
          ]
        }
      ]
    },
    {
      "cell_type": "code",
      "source": [
        "from sklearn.feature_extraction.text import CountVectorizer\n",
        "\n",
        "# instantiate the vectorizer\n",
        "vect = CountVectorizer()\n",
        "vect.fit(x_train)"
      ],
      "metadata": {
        "colab": {
          "base_uri": "https://localhost:8080/"
        },
        "id": "7SHnOi7WD1C_",
        "outputId": "2443c754-407b-41f4-afc3-44e5e3b7d225"
      },
      "execution_count": 34,
      "outputs": [
        {
          "output_type": "execute_result",
          "data": {
            "text/plain": [
              "CountVectorizer()"
            ]
          },
          "metadata": {},
          "execution_count": 34
        }
      ]
    },
    {
      "cell_type": "code",
      "source": [
        "# Use the trained to create a document-term matrix from train and test sets\n",
        "x_train_dtm = vect.transform(x_train)\n",
        "x_test_dtm = vect.transform(x_test)"
      ],
      "metadata": {
        "id": "yEnucghQD2ea"
      },
      "execution_count": 35,
      "outputs": []
    },
    {
      "cell_type": "markdown",
      "source": [
        "Word Embeding : GlOVE"
      ],
      "metadata": {
        "id": "N0khjfdZD3bR"
      }
    },
    {
      "cell_type": "code",
      "source": [
        "texts = dataset['message_clean']\n",
        "target = dataset['target_encoded']"
      ],
      "metadata": {
        "id": "V4j2sSS6D5PY"
      },
      "execution_count": 36,
      "outputs": []
    },
    {
      "cell_type": "code",
      "source": [
        "# Calculate the length of our vocabulary\n",
        "from keras.preprocessing.text import Tokenizer\n",
        "word_tokenizer = Tokenizer()\n",
        "word_tokenizer.fit_on_texts(texts)\n",
        "\n",
        "vocab_length = len(word_tokenizer.word_index) + 1\n",
        "vocab_length"
      ],
      "metadata": {
        "colab": {
          "base_uri": "https://localhost:8080/"
        },
        "id": "FmBSHlGHD8WJ",
        "outputId": "88591d23-d9ba-43e7-ddb5-b17527f9bcbc"
      },
      "execution_count": 37,
      "outputs": [
        {
          "output_type": "execute_result",
          "data": {
            "text/plain": [
              "4997"
            ]
          },
          "metadata": {},
          "execution_count": 37
        }
      ]
    },
    {
      "cell_type": "code",
      "source": [
        "!wget http://nlp.stanford.edu/data/glove.6B.zip\n",
        "!unzip glove*.zip"
      ],
      "metadata": {
        "colab": {
          "base_uri": "https://localhost:8080/"
        },
        "id": "MCpq-UxRD9ty",
        "outputId": "88761adb-6611-46bb-ecf0-56663fb01624"
      },
      "execution_count": 38,
      "outputs": [
        {
          "output_type": "stream",
          "name": "stdout",
          "text": [
            "--2022-05-20 15:22:16--  http://nlp.stanford.edu/data/glove.6B.zip\n",
            "Resolving nlp.stanford.edu (nlp.stanford.edu)... 171.64.67.140\n",
            "Connecting to nlp.stanford.edu (nlp.stanford.edu)|171.64.67.140|:80... connected.\n",
            "HTTP request sent, awaiting response... 302 Found\n",
            "Location: https://nlp.stanford.edu/data/glove.6B.zip [following]\n",
            "--2022-05-20 15:22:16--  https://nlp.stanford.edu/data/glove.6B.zip\n",
            "Connecting to nlp.stanford.edu (nlp.stanford.edu)|171.64.67.140|:443... connected.\n",
            "HTTP request sent, awaiting response... 301 Moved Permanently\n",
            "Location: http://downloads.cs.stanford.edu/nlp/data/glove.6B.zip [following]\n",
            "--2022-05-20 15:22:17--  http://downloads.cs.stanford.edu/nlp/data/glove.6B.zip\n",
            "Resolving downloads.cs.stanford.edu (downloads.cs.stanford.edu)... 171.64.64.22\n",
            "Connecting to downloads.cs.stanford.edu (downloads.cs.stanford.edu)|171.64.64.22|:80... connected.\n",
            "HTTP request sent, awaiting response... 200 OK\n",
            "Length: 862182613 (822M) [application/zip]\n",
            "Saving to: ‘glove.6B.zip’\n",
            "\n",
            "glove.6B.zip        100%[===================>] 822.24M  5.21MB/s    in 2m 41s  \n",
            "\n",
            "2022-05-20 15:24:58 (5.10 MB/s) - ‘glove.6B.zip’ saved [862182613/862182613]\n",
            "\n",
            "Archive:  glove.6B.zip\n",
            "  inflating: glove.6B.50d.txt        \n",
            "  inflating: glove.6B.100d.txt       \n",
            "  inflating: glove.6B.200d.txt       \n",
            "  inflating: glove.6B.300d.txt       \n"
          ]
        }
      ]
    },
    {
      "cell_type": "code",
      "source": [
        "embeddings_dictionary = dict()\n",
        "embedding_dim = 100\n",
        "\n",
        "# Load GloVe 100D embeddings\n",
        "with open('/content/glove.6B.100d.txt') as fp:\n",
        "    for line in fp.readlines():\n",
        "        records = line.split()\n",
        "        word = records[0]\n",
        "        vector_dimensions = np.asarray(records[1:], dtype='float32')\n",
        "        embeddings_dictionary [word] = vector_dimensions\n",
        "\n",
        "# embeddings_dictionary"
      ],
      "metadata": {
        "id": "R6nYoECtEFcp"
      },
      "execution_count": 39,
      "outputs": []
    },
    {
      "cell_type": "code",
      "source": [
        "embedding_matrix = np.zeros((vocab_length, embedding_dim))\n",
        "\n",
        "for word, index in word_tokenizer.word_index.items():\n",
        "    embedding_vector = embeddings_dictionary.get(word)\n",
        "    if embedding_vector is not None:\n",
        "        embedding_matrix[index] = embedding_vector\n",
        "        \n",
        "embedding_matrix"
      ],
      "metadata": {
        "colab": {
          "base_uri": "https://localhost:8080/"
        },
        "id": "aE-D31ZEEG_m",
        "outputId": "f9969724-7400-4d3f-a517-9a7a3870e50b"
      },
      "execution_count": 40,
      "outputs": [
        {
          "output_type": "execute_result",
          "data": {
            "text/plain": [
              "array([[ 0.        ,  0.        ,  0.        , ...,  0.        ,\n",
              "         0.        ,  0.        ],\n",
              "       [-0.038194  , -0.24487001,  0.72812003, ..., -0.1459    ,\n",
              "         0.82779998,  0.27061999],\n",
              "       [-0.18970001,  0.050024  ,  0.19084001, ..., -0.39804   ,\n",
              "         0.47646999, -0.15983   ],\n",
              "       ...,\n",
              "       [ 0.        ,  0.        ,  0.        , ...,  0.        ,\n",
              "         0.        ,  0.        ],\n",
              "       [-0.42794999, -0.17565   , -0.52432001, ...,  0.66737998,\n",
              "         0.24405   ,  0.12504999],\n",
              "       [ 0.39230999, -0.21544001,  0.10567   , ...,  0.043646  ,\n",
              "         0.093244  , -0.47871   ]])"
            ]
          },
          "metadata": {},
          "execution_count": 40
        }
      ]
    },
    {
      "cell_type": "markdown",
      "source": [
        "TF-IDF"
      ],
      "metadata": {
        "id": "muwRlSG7Ezyg"
      }
    },
    {
      "cell_type": "code",
      "source": [
        "def calc_TF(message_clean):\n",
        "    # Counts the number of times the word appears in review\n",
        "    TF_dict = {}\n",
        "    for term in message_clean:\n",
        "        if term in TF_dict:\n",
        "            TF_dict[term] += 1\n",
        "        else:\n",
        "            TF_dict[term] = 1\n",
        "    # Computes tf for each word\n",
        "    for term in TF_dict:\n",
        "        TF_dict[term] = TF_dict[term] / len(target)\n",
        "    return TF_dict\n",
        "\n",
        "dataset[\"embeddings_dictionary\"] = dataset['message_clean'].apply(calc_TF)\n",
        "\n",
        "dataset[\"embeddings_dictionary\"].head()"
      ],
      "metadata": {
        "colab": {
          "base_uri": "https://localhost:8080/"
        },
        "id": "SPW0X2tJE1dg",
        "outputId": "9b61c45a-ab49-4dae-fa79-3befc8961c8f"
      },
      "execution_count": 41,
      "outputs": [
        {
          "output_type": "execute_result",
          "data": {
            "text/plain": [
              "0    {'t': 0.006482982171799027, 'h': 0.00324149108...\n",
              "1    {'j': 0.0008103727714748784, 'e': 0.0105348460...\n",
              "2    {'o': 0.007293354943273906, 'n': 0.00162074554...\n",
              "3    {'t': 0.006482982171799027, 'h': 0.00405186385...\n",
              "4    {'c': 0.0032414910858995136, 'o': 0.0040518638...\n",
              "Name: embeddings_dictionary, dtype: object"
            ]
          },
          "metadata": {},
          "execution_count": 41
        }
      ]
    },
    {
      "cell_type": "code",
      "source": [
        "index = 90\n",
        "\n",
        "print('%20s' % \"term\", \"\\t\", \"TF\\n\")\n",
        "for key in dataset[\"embeddings_dictionary\"][index]:\n",
        "    print('%20s' % key, \"\\t\", dataset[\"embeddings_dictionary\"][index][key])"
      ],
      "metadata": {
        "colab": {
          "base_uri": "https://localhost:8080/"
        },
        "id": "9o22Z9dYE4BE",
        "outputId": "3a5012f7-dfad-4e1d-c68a-3fa7f2aab64b"
      },
      "execution_count": 42,
      "outputs": [
        {
          "output_type": "stream",
          "name": "stdout",
          "text": [
            "                term \t TF\n",
            "\n",
            "                   t \t 0.006482982171799027\n",
            "                   h \t 0.005672609400324149\n",
            "                   r \t 0.004862236628849271\n",
            "                   e \t 0.012155591572123177\n",
            "                     \t 0.014586709886547812\n",
            "                   c \t 0.0016207455429497568\n",
            "                   w \t 0.0032414910858995136\n",
            "                   f \t 0.004051863857374392\n",
            "                   l \t 0.0032414910858995136\n",
            "                   o \t 0.006482982171799027\n",
            "                   n \t 0.0032414910858995136\n",
            "                   s \t 0.0016207455429497568\n",
            "                   p \t 0.0016207455429497568\n",
            "                   i \t 0.0032414910858995136\n",
            "                   a \t 0.004051863857374392\n",
            "                   b \t 0.0016207455429497568\n",
            "                   g \t 0.0008103727714748784\n",
            "                   u \t 0.0008103727714748784\n",
            "                   d \t 0.0024311183144246355\n",
            "                   k \t 0.0008103727714748784\n",
            "                   m \t 0.0008103727714748784\n",
            "                   . \t 0.0008103727714748784\n"
          ]
        }
      ]
    },
    {
      "cell_type": "code",
      "source": [
        "def calc_DF(tfDict):\n",
        "    count_DF = {}\n",
        "    # Run through each document's tf dictionary and increment countDict's (term, doc) pair\n",
        "    for document in tfDict:\n",
        "        for term in document:\n",
        "            if term in count_DF:\n",
        "                count_DF[term] += 1\n",
        "            else:\n",
        "                count_DF[term] = 1\n",
        "    return count_DF\n",
        "\n",
        "DF = calc_DF(dataset[\"embeddings_dictionary\"])\n",
        "DF"
      ],
      "metadata": {
        "colab": {
          "base_uri": "https://localhost:8080/"
        },
        "id": "YKVg9pwzE59L",
        "outputId": "e6aa969e-88a0-4fba-9623-8a56988043af"
      },
      "execution_count": 43,
      "outputs": [
        {
          "output_type": "execute_result",
          "data": {
            "text/plain": [
              "{' ': 1234,\n",
              " '\"': 113,\n",
              " '$': 2,\n",
              " '%': 10,\n",
              " '&': 9,\n",
              " \"'\": 332,\n",
              " '(': 2,\n",
              " ')': 2,\n",
              " '+': 1,\n",
              " ',': 404,\n",
              " '-': 272,\n",
              " '.': 1184,\n",
              " '/': 2,\n",
              " ':': 1,\n",
              " ';': 1,\n",
              " '?': 44,\n",
              " 'a': 1234,\n",
              " 'b': 886,\n",
              " 'c': 1140,\n",
              " 'd': 1170,\n",
              " 'e': 1234,\n",
              " 'f': 1072,\n",
              " 'g': 1025,\n",
              " 'h': 1205,\n",
              " 'i': 1231,\n",
              " 'j': 169,\n",
              " 'k': 777,\n",
              " 'l': 1183,\n",
              " 'm': 1059,\n",
              " 'n': 1234,\n",
              " 'o': 1233,\n",
              " 'p': 1009,\n",
              " 'q': 83,\n",
              " 'r': 1232,\n",
              " 's': 1232,\n",
              " 't': 1234,\n",
              " 'u': 1140,\n",
              " 'v': 760,\n",
              " 'w': 952,\n",
              " 'x': 176,\n",
              " 'y': 930,\n",
              " 'z': 93,\n",
              " '£': 11,\n",
              " 'à': 1,\n",
              " 'á': 2,\n",
              " 'ã': 1,\n",
              " 'é': 3,\n",
              " 'ö': 2,\n",
              " '‘': 1,\n",
              " '’': 12,\n",
              " '€': 1}"
            ]
          },
          "metadata": {},
          "execution_count": 43
        }
      ]
    },
    {
      "cell_type": "code",
      "source": [
        "import numpy as np\n",
        "n_document = len(dataset)\n",
        "\n",
        "def calc_IDF(__n_document, __DF):\n",
        "    IDF_Dict = {}\n",
        "    for term in __DF:\n",
        "        IDF_Dict[term] = np.log(__n_document / (__DF[term] + 1))\n",
        "    return IDF_Dict\n",
        "  \n",
        "#Stores the idf dictionary\n",
        "IDF = calc_IDF(n_document, DF)"
      ],
      "metadata": {
        "id": "eQSzD2UNE7tG"
      },
      "execution_count": 44,
      "outputs": []
    },
    {
      "cell_type": "code",
      "source": [
        "#calc TF-IDF\n",
        "def calc_TF_IDF(TF):\n",
        "    TF_IDF_Dict = {}\n",
        "    #For each word in the review, we multiply its tf and its idf.\n",
        "    for key in TF:\n",
        "        TF_IDF_Dict[key] = TF[key] * IDF[key]\n",
        "    return TF_IDF_Dict\n",
        "\n",
        "#Stores the TF-IDF Series\n",
        "dataset[\"TF-IDF_dict\"] = dataset[\"embeddings_dictionary\"].apply(calc_TF_IDF)"
      ],
      "metadata": {
        "id": "OV7aLratE83D"
      },
      "execution_count": 45,
      "outputs": []
    },
    {
      "cell_type": "code",
      "source": [
        "# Check TF-IDF result\n",
        "index = 1\n",
        "\n",
        "print('%20s' % \"term\", \"\\t\", '%10s' % \"TF\", \"\\t\", '%20s' % \"TF-IDF\\n\")\n",
        "for key in dataset[\"TF-IDF_dict\"][index]:\n",
        "    print('%20s' % key, \"\\t\", dataset[\"embeddings_dictionary\"][index][key] ,\"\\t\" , dataset[\"TF-IDF_dict\"][index][key])\n",
        "    \n",
        "TF_IDF = pd.DataFrame(dataset, columns=['term', 'rank'])"
      ],
      "metadata": {
        "colab": {
          "base_uri": "https://localhost:8080/"
        },
        "id": "jKQTu1AYE9-4",
        "outputId": "d795c22a-85b5-4552-ab4e-e73f14ce2212"
      },
      "execution_count": 46,
      "outputs": [
        {
          "output_type": "stream",
          "name": "stdout",
          "text": [
            "                term \t         TF \t              TF-IDF\n",
            "\n",
            "                   j \t 0.0008103727714748784 \t 0.0016063353058468973\n",
            "                   e \t 0.01053484602917342 \t -8.53369510346647e-06\n",
            "                   r \t 0.006482982171799027 \t 5.255762080965065e-06\n",
            "                   m \t 0.0016207455429497568 \t 0.00024634038469889845\n",
            "                   y \t 0.0016207455429497568 \t 0.0004566562839356015\n",
            "                     \t 0.013776337115072933 \t -1.1159447442994615e-05\n",
            "                   b \t 0.0008103727714748784 \t 0.0002675617683596059\n",
            "                   o \t 0.0032414910858995136 \t 0.0\n",
            "                   w \t 0.0024311183144246355 \t 0.0006282041348730902\n",
            "                   n \t 0.008103727714748784 \t -6.564380848820362e-06\n",
            "                   a \t 0.0032414910858995136 \t -2.6257523395281444e-06\n",
            "                   s \t 0.004862236628849271 \t 3.941821560723799e-06\n",
            "                   t \t 0.004051863857374392 \t -3.282190424410181e-06\n",
            "                   h \t 0.0016207455429497568 \t 3.7199071601624424e-05\n",
            "                   f \t 0.0024311183144246355 \t 0.0003398763253678314\n",
            "                   l \t 0.0024311183144246355 \t 0.00010055686147823879\n",
            "                   i \t 0.007293354943273906 \t 1.183026203145256e-05\n",
            "                   p \t 0.0008103727714748784 \t 0.00016232625172611664\n",
            "                   , \t 0.0008103727714748784 \t 0.0009028599168223614\n",
            "                   d \t 0.0016207455429497568 \t 8.493167077409377e-05\n",
            "                   c \t 0.0008103727714748784 \t 6.349745105612442e-05\n",
            "                   u \t 0.0016207455429497568 \t 0.00012699490211224884\n",
            "                   g \t 0.0008103727714748784 \t 0.0001495892858465302\n",
            "                   . \t 0.0008103727714748784 \t 3.2834806236711207e-05\n"
          ]
        }
      ]
    },
    {
      "cell_type": "code",
      "source": [
        "# sort descending by value for DF dictionary \n",
        "sorted_DF = sorted(DF.items(), key=lambda kv: kv[1], reverse=True)[:50]\n",
        "\n",
        "# Create a list of unique words from sorted dictionay `sorted_DF`\n",
        "unique_term = [item[0] for item in sorted_DF]\n",
        "\n",
        "def calc_TF_IDF_Vec(__TF_IDF_Dict):\n",
        "    TF_IDF_vector = [0.0] * len(unique_term)\n",
        "\n",
        "    # For each unique word, if it is in the review, store its TF-IDF value.\n",
        "    for i, term in enumerate(unique_term):\n",
        "        if term in __TF_IDF_Dict:\n",
        "            TF_IDF_vector[i] = __TF_IDF_Dict[term]\n",
        "    return TF_IDF_vector\n",
        "\n",
        "dataset[\"TF_IDF_Vec\"] = dataset[\"TF-IDF_dict\"].apply(calc_TF_IDF_Vec)\n",
        "\n",
        "print(\"print first row matrix TF_IDF_Vec Series\\n\")\n",
        "print(dataset[\"TF_IDF_Vec\"][0])\n",
        "\n",
        "print(\"\\nmatrix size : \", len(dataset[\"TF_IDF_Vec\"][0]))"
      ],
      "metadata": {
        "colab": {
          "base_uri": "https://localhost:8080/"
        },
        "id": "fhjTXp_QE_li",
        "outputId": "cb796229-0041-42a6-a565-bd667a4f6de9"
      },
      "execution_count": 48,
      "outputs": [
        {
          "output_type": "stream",
          "name": "stdout",
          "text": [
            "print first row matrix TF_IDF_Vec Series\n",
            "\n",
            "[-5.251504679056289e-06, -5.251504679056289e-06, -9.846571273230542e-06, -2.6257523395281444e-06, -3.938628509292217e-06, 0.0, 5.255762080965065e-06, 3.941821560723799e-06, 1.183026203145256e-05, 7.439814320324885e-05, 3.2834806236711207e-05, 0.00010055686147823879, 8.493167077409377e-05, 0.0001904923531683733, 0.00012699490211224884, 0.00022658421691188756, 0.00012317019234944922, 0.0002991785716930604, 0.00016232625172611664, 0.00041880275658206004, 0.0004566562839356015, 0.0, 0.00037381659666688936, 0.0007834405941712273, 0.0, 0.0, 0.0, 0.0, 0.0, 0.0, 0.0, 0.0, 0.0, 0.0, 0.0, 0.0, 0.0, 0.0, 0.0, 0.0, 0.0, 0.0, 0.0, 0.0, 0.0, 0.0, 0.0, 0.0, 0.0, 0.0]\n",
            "\n",
            "matrix size :  50\n"
          ]
        }
      ]
    },
    {
      "cell_type": "code",
      "source": [
        "# Convert Series to List\n",
        "TF_IDF_Vec_List = np.array(dataset[\"TF_IDF_Vec\"].to_list())\n",
        "\n",
        "# Sum element vector in axis=0 \n",
        "sums = TF_IDF_Vec_List.sum(axis=0)\n",
        "\n",
        "data = []\n",
        "\n",
        "for col, term in enumerate(unique_term):\n",
        "    data.append((term, sums[col]))\n",
        "    \n",
        "ranking = pd.DataFrame(data, columns=['term', 'rank'])\n",
        "ranking.sort_values('rank', ascending=False)"
      ],
      "metadata": {
        "colab": {
          "base_uri": "https://localhost:8080/",
          "height": 1000
        },
        "id": "7EgvKL0SFEgv",
        "outputId": "8840328e-3963-401f-c5bc-e0416fc467a4"
      },
      "execution_count": 49,
      "outputs": [
        {
          "output_type": "execute_result",
          "data": {
            "text/plain": [
              "   term      rank\n",
              "24    ,  0.468584\n",
              "23    v  0.465755\n",
              "29    \"  0.463238\n",
              "21    b  0.444955\n",
              "26    -  0.443761\n",
              "22    k  0.435496\n",
              "25    '  0.429902\n",
              "20    y  0.392724\n",
              "19    w  0.383414\n",
              "18    p  0.353222\n",
              "17    g  0.332537\n",
              "27    x  0.310006\n",
              "28    j  0.303597\n",
              "16    m  0.296101\n",
              "15    f  0.281871\n",
              "30    z  0.223254\n",
              "14    c  0.206748\n",
              "13    u  0.193350\n",
              "31    q  0.185099\n",
              "12    d  0.156487\n",
              "11    l  0.142690\n",
              "32    ?  0.128805\n",
              "9     h  0.083307\n",
              "33    ’  0.055345\n",
              "34    £  0.045055\n",
              "10    .  0.039829\n",
              "35    %  0.038251\n",
              "36    &  0.035121\n",
              "37    é  0.013934\n",
              "8     i  0.010763\n",
              "41    á  0.009756\n",
              "38    (  0.009756\n",
              "43    ö  0.009756\n",
              "39    )  0.009756\n",
              "40    $  0.009756\n",
              "42    /  0.009756\n",
              "7     s  0.005317\n",
              "48    ‘  0.005207\n",
              "47    €  0.005207\n",
              "45    ;  0.005207\n",
              "44    à  0.005207\n",
              "46    :  0.005207\n",
              "49    +  0.005207\n",
              "6     r  0.004726\n",
              "5     o  0.000000\n",
              "4     n -0.005127\n",
              "0     t -0.005384\n",
              "3     a -0.006164\n",
              "1     e -0.007972\n",
              "2       -0.013370"
            ],
            "text/html": [
              "\n",
              "  <div id=\"df-4ba18aa9-81cb-4e37-a397-a931b2b2b1f0\">\n",
              "    <div class=\"colab-df-container\">\n",
              "      <div>\n",
              "<style scoped>\n",
              "    .dataframe tbody tr th:only-of-type {\n",
              "        vertical-align: middle;\n",
              "    }\n",
              "\n",
              "    .dataframe tbody tr th {\n",
              "        vertical-align: top;\n",
              "    }\n",
              "\n",
              "    .dataframe thead th {\n",
              "        text-align: right;\n",
              "    }\n",
              "</style>\n",
              "<table border=\"1\" class=\"dataframe\">\n",
              "  <thead>\n",
              "    <tr style=\"text-align: right;\">\n",
              "      <th></th>\n",
              "      <th>term</th>\n",
              "      <th>rank</th>\n",
              "    </tr>\n",
              "  </thead>\n",
              "  <tbody>\n",
              "    <tr>\n",
              "      <th>24</th>\n",
              "      <td>,</td>\n",
              "      <td>0.468584</td>\n",
              "    </tr>\n",
              "    <tr>\n",
              "      <th>23</th>\n",
              "      <td>v</td>\n",
              "      <td>0.465755</td>\n",
              "    </tr>\n",
              "    <tr>\n",
              "      <th>29</th>\n",
              "      <td>\"</td>\n",
              "      <td>0.463238</td>\n",
              "    </tr>\n",
              "    <tr>\n",
              "      <th>21</th>\n",
              "      <td>b</td>\n",
              "      <td>0.444955</td>\n",
              "    </tr>\n",
              "    <tr>\n",
              "      <th>26</th>\n",
              "      <td>-</td>\n",
              "      <td>0.443761</td>\n",
              "    </tr>\n",
              "    <tr>\n",
              "      <th>22</th>\n",
              "      <td>k</td>\n",
              "      <td>0.435496</td>\n",
              "    </tr>\n",
              "    <tr>\n",
              "      <th>25</th>\n",
              "      <td>'</td>\n",
              "      <td>0.429902</td>\n",
              "    </tr>\n",
              "    <tr>\n",
              "      <th>20</th>\n",
              "      <td>y</td>\n",
              "      <td>0.392724</td>\n",
              "    </tr>\n",
              "    <tr>\n",
              "      <th>19</th>\n",
              "      <td>w</td>\n",
              "      <td>0.383414</td>\n",
              "    </tr>\n",
              "    <tr>\n",
              "      <th>18</th>\n",
              "      <td>p</td>\n",
              "      <td>0.353222</td>\n",
              "    </tr>\n",
              "    <tr>\n",
              "      <th>17</th>\n",
              "      <td>g</td>\n",
              "      <td>0.332537</td>\n",
              "    </tr>\n",
              "    <tr>\n",
              "      <th>27</th>\n",
              "      <td>x</td>\n",
              "      <td>0.310006</td>\n",
              "    </tr>\n",
              "    <tr>\n",
              "      <th>28</th>\n",
              "      <td>j</td>\n",
              "      <td>0.303597</td>\n",
              "    </tr>\n",
              "    <tr>\n",
              "      <th>16</th>\n",
              "      <td>m</td>\n",
              "      <td>0.296101</td>\n",
              "    </tr>\n",
              "    <tr>\n",
              "      <th>15</th>\n",
              "      <td>f</td>\n",
              "      <td>0.281871</td>\n",
              "    </tr>\n",
              "    <tr>\n",
              "      <th>30</th>\n",
              "      <td>z</td>\n",
              "      <td>0.223254</td>\n",
              "    </tr>\n",
              "    <tr>\n",
              "      <th>14</th>\n",
              "      <td>c</td>\n",
              "      <td>0.206748</td>\n",
              "    </tr>\n",
              "    <tr>\n",
              "      <th>13</th>\n",
              "      <td>u</td>\n",
              "      <td>0.193350</td>\n",
              "    </tr>\n",
              "    <tr>\n",
              "      <th>31</th>\n",
              "      <td>q</td>\n",
              "      <td>0.185099</td>\n",
              "    </tr>\n",
              "    <tr>\n",
              "      <th>12</th>\n",
              "      <td>d</td>\n",
              "      <td>0.156487</td>\n",
              "    </tr>\n",
              "    <tr>\n",
              "      <th>11</th>\n",
              "      <td>l</td>\n",
              "      <td>0.142690</td>\n",
              "    </tr>\n",
              "    <tr>\n",
              "      <th>32</th>\n",
              "      <td>?</td>\n",
              "      <td>0.128805</td>\n",
              "    </tr>\n",
              "    <tr>\n",
              "      <th>9</th>\n",
              "      <td>h</td>\n",
              "      <td>0.083307</td>\n",
              "    </tr>\n",
              "    <tr>\n",
              "      <th>33</th>\n",
              "      <td>’</td>\n",
              "      <td>0.055345</td>\n",
              "    </tr>\n",
              "    <tr>\n",
              "      <th>34</th>\n",
              "      <td>£</td>\n",
              "      <td>0.045055</td>\n",
              "    </tr>\n",
              "    <tr>\n",
              "      <th>10</th>\n",
              "      <td>.</td>\n",
              "      <td>0.039829</td>\n",
              "    </tr>\n",
              "    <tr>\n",
              "      <th>35</th>\n",
              "      <td>%</td>\n",
              "      <td>0.038251</td>\n",
              "    </tr>\n",
              "    <tr>\n",
              "      <th>36</th>\n",
              "      <td>&amp;</td>\n",
              "      <td>0.035121</td>\n",
              "    </tr>\n",
              "    <tr>\n",
              "      <th>37</th>\n",
              "      <td>é</td>\n",
              "      <td>0.013934</td>\n",
              "    </tr>\n",
              "    <tr>\n",
              "      <th>8</th>\n",
              "      <td>i</td>\n",
              "      <td>0.010763</td>\n",
              "    </tr>\n",
              "    <tr>\n",
              "      <th>41</th>\n",
              "      <td>á</td>\n",
              "      <td>0.009756</td>\n",
              "    </tr>\n",
              "    <tr>\n",
              "      <th>38</th>\n",
              "      <td>(</td>\n",
              "      <td>0.009756</td>\n",
              "    </tr>\n",
              "    <tr>\n",
              "      <th>43</th>\n",
              "      <td>ö</td>\n",
              "      <td>0.009756</td>\n",
              "    </tr>\n",
              "    <tr>\n",
              "      <th>39</th>\n",
              "      <td>)</td>\n",
              "      <td>0.009756</td>\n",
              "    </tr>\n",
              "    <tr>\n",
              "      <th>40</th>\n",
              "      <td>$</td>\n",
              "      <td>0.009756</td>\n",
              "    </tr>\n",
              "    <tr>\n",
              "      <th>42</th>\n",
              "      <td>/</td>\n",
              "      <td>0.009756</td>\n",
              "    </tr>\n",
              "    <tr>\n",
              "      <th>7</th>\n",
              "      <td>s</td>\n",
              "      <td>0.005317</td>\n",
              "    </tr>\n",
              "    <tr>\n",
              "      <th>48</th>\n",
              "      <td>‘</td>\n",
              "      <td>0.005207</td>\n",
              "    </tr>\n",
              "    <tr>\n",
              "      <th>47</th>\n",
              "      <td>€</td>\n",
              "      <td>0.005207</td>\n",
              "    </tr>\n",
              "    <tr>\n",
              "      <th>45</th>\n",
              "      <td>;</td>\n",
              "      <td>0.005207</td>\n",
              "    </tr>\n",
              "    <tr>\n",
              "      <th>44</th>\n",
              "      <td>à</td>\n",
              "      <td>0.005207</td>\n",
              "    </tr>\n",
              "    <tr>\n",
              "      <th>46</th>\n",
              "      <td>:</td>\n",
              "      <td>0.005207</td>\n",
              "    </tr>\n",
              "    <tr>\n",
              "      <th>49</th>\n",
              "      <td>+</td>\n",
              "      <td>0.005207</td>\n",
              "    </tr>\n",
              "    <tr>\n",
              "      <th>6</th>\n",
              "      <td>r</td>\n",
              "      <td>0.004726</td>\n",
              "    </tr>\n",
              "    <tr>\n",
              "      <th>5</th>\n",
              "      <td>o</td>\n",
              "      <td>0.000000</td>\n",
              "    </tr>\n",
              "    <tr>\n",
              "      <th>4</th>\n",
              "      <td>n</td>\n",
              "      <td>-0.005127</td>\n",
              "    </tr>\n",
              "    <tr>\n",
              "      <th>0</th>\n",
              "      <td>t</td>\n",
              "      <td>-0.005384</td>\n",
              "    </tr>\n",
              "    <tr>\n",
              "      <th>3</th>\n",
              "      <td>a</td>\n",
              "      <td>-0.006164</td>\n",
              "    </tr>\n",
              "    <tr>\n",
              "      <th>1</th>\n",
              "      <td>e</td>\n",
              "      <td>-0.007972</td>\n",
              "    </tr>\n",
              "    <tr>\n",
              "      <th>2</th>\n",
              "      <td></td>\n",
              "      <td>-0.013370</td>\n",
              "    </tr>\n",
              "  </tbody>\n",
              "</table>\n",
              "</div>\n",
              "      <button class=\"colab-df-convert\" onclick=\"convertToInteractive('df-4ba18aa9-81cb-4e37-a397-a931b2b2b1f0')\"\n",
              "              title=\"Convert this dataframe to an interactive table.\"\n",
              "              style=\"display:none;\">\n",
              "        \n",
              "  <svg xmlns=\"http://www.w3.org/2000/svg\" height=\"24px\"viewBox=\"0 0 24 24\"\n",
              "       width=\"24px\">\n",
              "    <path d=\"M0 0h24v24H0V0z\" fill=\"none\"/>\n",
              "    <path d=\"M18.56 5.44l.94 2.06.94-2.06 2.06-.94-2.06-.94-.94-2.06-.94 2.06-2.06.94zm-11 1L8.5 8.5l.94-2.06 2.06-.94-2.06-.94L8.5 2.5l-.94 2.06-2.06.94zm10 10l.94 2.06.94-2.06 2.06-.94-2.06-.94-.94-2.06-.94 2.06-2.06.94z\"/><path d=\"M17.41 7.96l-1.37-1.37c-.4-.4-.92-.59-1.43-.59-.52 0-1.04.2-1.43.59L10.3 9.45l-7.72 7.72c-.78.78-.78 2.05 0 2.83L4 21.41c.39.39.9.59 1.41.59.51 0 1.02-.2 1.41-.59l7.78-7.78 2.81-2.81c.8-.78.8-2.07 0-2.86zM5.41 20L4 18.59l7.72-7.72 1.47 1.35L5.41 20z\"/>\n",
              "  </svg>\n",
              "      </button>\n",
              "      \n",
              "  <style>\n",
              "    .colab-df-container {\n",
              "      display:flex;\n",
              "      flex-wrap:wrap;\n",
              "      gap: 12px;\n",
              "    }\n",
              "\n",
              "    .colab-df-convert {\n",
              "      background-color: #E8F0FE;\n",
              "      border: none;\n",
              "      border-radius: 50%;\n",
              "      cursor: pointer;\n",
              "      display: none;\n",
              "      fill: #1967D2;\n",
              "      height: 32px;\n",
              "      padding: 0 0 0 0;\n",
              "      width: 32px;\n",
              "    }\n",
              "\n",
              "    .colab-df-convert:hover {\n",
              "      background-color: #E2EBFA;\n",
              "      box-shadow: 0px 1px 2px rgba(60, 64, 67, 0.3), 0px 1px 3px 1px rgba(60, 64, 67, 0.15);\n",
              "      fill: #174EA6;\n",
              "    }\n",
              "\n",
              "    [theme=dark] .colab-df-convert {\n",
              "      background-color: #3B4455;\n",
              "      fill: #D2E3FC;\n",
              "    }\n",
              "\n",
              "    [theme=dark] .colab-df-convert:hover {\n",
              "      background-color: #434B5C;\n",
              "      box-shadow: 0px 1px 3px 1px rgba(0, 0, 0, 0.15);\n",
              "      filter: drop-shadow(0px 1px 2px rgba(0, 0, 0, 0.3));\n",
              "      fill: #FFFFFF;\n",
              "    }\n",
              "  </style>\n",
              "\n",
              "      <script>\n",
              "        const buttonEl =\n",
              "          document.querySelector('#df-4ba18aa9-81cb-4e37-a397-a931b2b2b1f0 button.colab-df-convert');\n",
              "        buttonEl.style.display =\n",
              "          google.colab.kernel.accessAllowed ? 'block' : 'none';\n",
              "\n",
              "        async function convertToInteractive(key) {\n",
              "          const element = document.querySelector('#df-4ba18aa9-81cb-4e37-a397-a931b2b2b1f0');\n",
              "          const dataTable =\n",
              "            await google.colab.kernel.invokeFunction('convertToInteractive',\n",
              "                                                     [key], {});\n",
              "          if (!dataTable) return;\n",
              "\n",
              "          const docLinkHtml = 'Like what you see? Visit the ' +\n",
              "            '<a target=\"_blank\" href=https://colab.research.google.com/notebooks/data_table.ipynb>data table notebook</a>'\n",
              "            + ' to learn more about interactive tables.';\n",
              "          element.innerHTML = '';\n",
              "          dataTable['output_type'] = 'display_data';\n",
              "          await google.colab.output.renderOutput(dataTable, element);\n",
              "          const docLink = document.createElement('div');\n",
              "          docLink.innerHTML = docLinkHtml;\n",
              "          element.appendChild(docLink);\n",
              "        }\n",
              "      </script>\n",
              "    </div>\n",
              "  </div>\n",
              "  "
            ]
          },
          "metadata": {},
          "execution_count": 49
        }
      ]
    }
  ]
}
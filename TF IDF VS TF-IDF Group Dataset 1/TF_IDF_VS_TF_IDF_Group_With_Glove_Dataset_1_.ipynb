{
  "nbformat": 4,
  "nbformat_minor": 0,
  "metadata": {
    "colab": {
      "name": "TF- IDF VS TF-IDF-Group With Glove Dataset 1 .ipynb",
      "provenance": [],
      "collapsed_sections": []
    },
    "kernelspec": {
      "name": "python3",
      "display_name": "Python 3"
    },
    "language_info": {
      "name": "python"
    }
  },
  "cells": [
    {
      "cell_type": "markdown",
      "source": [
        "**Load Dataset**"
      ],
      "metadata": {
        "id": "dn7TT2g0KvNQ"
      }
    },
    {
      "cell_type": "code",
      "execution_count": 1,
      "metadata": {
        "colab": {
          "base_uri": "https://localhost:8080/"
        },
        "id": "hM90n6kmKY-s",
        "outputId": "930640e5-fa7a-4bc2-bdfc-01a10337ce6f"
      },
      "outputs": [
        {
          "output_type": "stream",
          "name": "stdout",
          "text": [
            "Mounted at /content/drive\n"
          ]
        }
      ],
      "source": [
        "from google.colab import drive\n",
        "drive.mount('/content/drive')"
      ]
    },
    {
      "cell_type": "code",
      "source": [
        "import pandas as pd\n",
        "dataset = pd.read_csv(\"/content/drive/MyDrive/Colab Notebooks/spam (1).csv\", encoding=\"latin-1\")\n",
        "\n",
        "dataset = dataset.dropna(how=\"any\", axis=1)\n",
        "dataset.columns = ['target', 'message']\n",
        "\n",
        "dataset.head()"
      ],
      "metadata": {
        "colab": {
          "base_uri": "https://localhost:8080/",
          "height": 206
        },
        "id": "iduaC51ZKdYD",
        "outputId": "7b1e527a-68c2-4449-de4d-71cfafcb701d"
      },
      "execution_count": 2,
      "outputs": [
        {
          "output_type": "execute_result",
          "data": {
            "text/plain": [
              "  target                                            message\n",
              "0    ham  Go until jurong point, crazy.. Available only ...\n",
              "1    ham                      Ok lar... Joking wif u oni...\n",
              "2   spam  Free entry in 2 a wkly comp to win FA Cup fina...\n",
              "3    ham  U dun say so early hor... U c already then say...\n",
              "4    ham  Nah I don't think he goes to usf, he lives aro..."
            ],
            "text/html": [
              "\n",
              "  <div id=\"df-2e57f2b8-da5b-47a8-8963-becaa0a4e12d\">\n",
              "    <div class=\"colab-df-container\">\n",
              "      <div>\n",
              "<style scoped>\n",
              "    .dataframe tbody tr th:only-of-type {\n",
              "        vertical-align: middle;\n",
              "    }\n",
              "\n",
              "    .dataframe tbody tr th {\n",
              "        vertical-align: top;\n",
              "    }\n",
              "\n",
              "    .dataframe thead th {\n",
              "        text-align: right;\n",
              "    }\n",
              "</style>\n",
              "<table border=\"1\" class=\"dataframe\">\n",
              "  <thead>\n",
              "    <tr style=\"text-align: right;\">\n",
              "      <th></th>\n",
              "      <th>target</th>\n",
              "      <th>message</th>\n",
              "    </tr>\n",
              "  </thead>\n",
              "  <tbody>\n",
              "    <tr>\n",
              "      <th>0</th>\n",
              "      <td>ham</td>\n",
              "      <td>Go until jurong point, crazy.. Available only ...</td>\n",
              "    </tr>\n",
              "    <tr>\n",
              "      <th>1</th>\n",
              "      <td>ham</td>\n",
              "      <td>Ok lar... Joking wif u oni...</td>\n",
              "    </tr>\n",
              "    <tr>\n",
              "      <th>2</th>\n",
              "      <td>spam</td>\n",
              "      <td>Free entry in 2 a wkly comp to win FA Cup fina...</td>\n",
              "    </tr>\n",
              "    <tr>\n",
              "      <th>3</th>\n",
              "      <td>ham</td>\n",
              "      <td>U dun say so early hor... U c already then say...</td>\n",
              "    </tr>\n",
              "    <tr>\n",
              "      <th>4</th>\n",
              "      <td>ham</td>\n",
              "      <td>Nah I don't think he goes to usf, he lives aro...</td>\n",
              "    </tr>\n",
              "  </tbody>\n",
              "</table>\n",
              "</div>\n",
              "      <button class=\"colab-df-convert\" onclick=\"convertToInteractive('df-2e57f2b8-da5b-47a8-8963-becaa0a4e12d')\"\n",
              "              title=\"Convert this dataframe to an interactive table.\"\n",
              "              style=\"display:none;\">\n",
              "        \n",
              "  <svg xmlns=\"http://www.w3.org/2000/svg\" height=\"24px\"viewBox=\"0 0 24 24\"\n",
              "       width=\"24px\">\n",
              "    <path d=\"M0 0h24v24H0V0z\" fill=\"none\"/>\n",
              "    <path d=\"M18.56 5.44l.94 2.06.94-2.06 2.06-.94-2.06-.94-.94-2.06-.94 2.06-2.06.94zm-11 1L8.5 8.5l.94-2.06 2.06-.94-2.06-.94L8.5 2.5l-.94 2.06-2.06.94zm10 10l.94 2.06.94-2.06 2.06-.94-2.06-.94-.94-2.06-.94 2.06-2.06.94z\"/><path d=\"M17.41 7.96l-1.37-1.37c-.4-.4-.92-.59-1.43-.59-.52 0-1.04.2-1.43.59L10.3 9.45l-7.72 7.72c-.78.78-.78 2.05 0 2.83L4 21.41c.39.39.9.59 1.41.59.51 0 1.02-.2 1.41-.59l7.78-7.78 2.81-2.81c.8-.78.8-2.07 0-2.86zM5.41 20L4 18.59l7.72-7.72 1.47 1.35L5.41 20z\"/>\n",
              "  </svg>\n",
              "      </button>\n",
              "      \n",
              "  <style>\n",
              "    .colab-df-container {\n",
              "      display:flex;\n",
              "      flex-wrap:wrap;\n",
              "      gap: 12px;\n",
              "    }\n",
              "\n",
              "    .colab-df-convert {\n",
              "      background-color: #E8F0FE;\n",
              "      border: none;\n",
              "      border-radius: 50%;\n",
              "      cursor: pointer;\n",
              "      display: none;\n",
              "      fill: #1967D2;\n",
              "      height: 32px;\n",
              "      padding: 0 0 0 0;\n",
              "      width: 32px;\n",
              "    }\n",
              "\n",
              "    .colab-df-convert:hover {\n",
              "      background-color: #E2EBFA;\n",
              "      box-shadow: 0px 1px 2px rgba(60, 64, 67, 0.3), 0px 1px 3px 1px rgba(60, 64, 67, 0.15);\n",
              "      fill: #174EA6;\n",
              "    }\n",
              "\n",
              "    [theme=dark] .colab-df-convert {\n",
              "      background-color: #3B4455;\n",
              "      fill: #D2E3FC;\n",
              "    }\n",
              "\n",
              "    [theme=dark] .colab-df-convert:hover {\n",
              "      background-color: #434B5C;\n",
              "      box-shadow: 0px 1px 3px 1px rgba(0, 0, 0, 0.15);\n",
              "      filter: drop-shadow(0px 1px 2px rgba(0, 0, 0, 0.3));\n",
              "      fill: #FFFFFF;\n",
              "    }\n",
              "  </style>\n",
              "\n",
              "      <script>\n",
              "        const buttonEl =\n",
              "          document.querySelector('#df-2e57f2b8-da5b-47a8-8963-becaa0a4e12d button.colab-df-convert');\n",
              "        buttonEl.style.display =\n",
              "          google.colab.kernel.accessAllowed ? 'block' : 'none';\n",
              "\n",
              "        async function convertToInteractive(key) {\n",
              "          const element = document.querySelector('#df-2e57f2b8-da5b-47a8-8963-becaa0a4e12d');\n",
              "          const dataTable =\n",
              "            await google.colab.kernel.invokeFunction('convertToInteractive',\n",
              "                                                     [key], {});\n",
              "          if (!dataTable) return;\n",
              "\n",
              "          const docLinkHtml = 'Like what you see? Visit the ' +\n",
              "            '<a target=\"_blank\" href=https://colab.research.google.com/notebooks/data_table.ipynb>data table notebook</a>'\n",
              "            + ' to learn more about interactive tables.';\n",
              "          element.innerHTML = '';\n",
              "          dataTable['output_type'] = 'display_data';\n",
              "          await google.colab.output.renderOutput(dataTable, element);\n",
              "          const docLink = document.createElement('div');\n",
              "          docLink.innerHTML = docLinkHtml;\n",
              "          element.appendChild(docLink);\n",
              "        }\n",
              "      </script>\n",
              "    </div>\n",
              "  </div>\n",
              "  "
            ]
          },
          "metadata": {},
          "execution_count": 2
        }
      ]
    },
    {
      "cell_type": "code",
      "source": [
        "dataset['message_len'] = dataset['message'].apply(lambda x: len(x.split(' ')))\n",
        "dataset.head()"
      ],
      "metadata": {
        "colab": {
          "base_uri": "https://localhost:8080/",
          "height": 206
        },
        "id": "2UXj1bPeKqA4",
        "outputId": "1fc6e238-79ba-41a6-9858-daf299981aab"
      },
      "execution_count": 3,
      "outputs": [
        {
          "output_type": "execute_result",
          "data": {
            "text/plain": [
              "  target                                            message  message_len\n",
              "0    ham  Go until jurong point, crazy.. Available only ...           20\n",
              "1    ham                      Ok lar... Joking wif u oni...            6\n",
              "2   spam  Free entry in 2 a wkly comp to win FA Cup fina...           28\n",
              "3    ham  U dun say so early hor... U c already then say...           11\n",
              "4    ham  Nah I don't think he goes to usf, he lives aro...           13"
            ],
            "text/html": [
              "\n",
              "  <div id=\"df-1056179d-1af0-4a05-b099-3d48203d1937\">\n",
              "    <div class=\"colab-df-container\">\n",
              "      <div>\n",
              "<style scoped>\n",
              "    .dataframe tbody tr th:only-of-type {\n",
              "        vertical-align: middle;\n",
              "    }\n",
              "\n",
              "    .dataframe tbody tr th {\n",
              "        vertical-align: top;\n",
              "    }\n",
              "\n",
              "    .dataframe thead th {\n",
              "        text-align: right;\n",
              "    }\n",
              "</style>\n",
              "<table border=\"1\" class=\"dataframe\">\n",
              "  <thead>\n",
              "    <tr style=\"text-align: right;\">\n",
              "      <th></th>\n",
              "      <th>target</th>\n",
              "      <th>message</th>\n",
              "      <th>message_len</th>\n",
              "    </tr>\n",
              "  </thead>\n",
              "  <tbody>\n",
              "    <tr>\n",
              "      <th>0</th>\n",
              "      <td>ham</td>\n",
              "      <td>Go until jurong point, crazy.. Available only ...</td>\n",
              "      <td>20</td>\n",
              "    </tr>\n",
              "    <tr>\n",
              "      <th>1</th>\n",
              "      <td>ham</td>\n",
              "      <td>Ok lar... Joking wif u oni...</td>\n",
              "      <td>6</td>\n",
              "    </tr>\n",
              "    <tr>\n",
              "      <th>2</th>\n",
              "      <td>spam</td>\n",
              "      <td>Free entry in 2 a wkly comp to win FA Cup fina...</td>\n",
              "      <td>28</td>\n",
              "    </tr>\n",
              "    <tr>\n",
              "      <th>3</th>\n",
              "      <td>ham</td>\n",
              "      <td>U dun say so early hor... U c already then say...</td>\n",
              "      <td>11</td>\n",
              "    </tr>\n",
              "    <tr>\n",
              "      <th>4</th>\n",
              "      <td>ham</td>\n",
              "      <td>Nah I don't think he goes to usf, he lives aro...</td>\n",
              "      <td>13</td>\n",
              "    </tr>\n",
              "  </tbody>\n",
              "</table>\n",
              "</div>\n",
              "      <button class=\"colab-df-convert\" onclick=\"convertToInteractive('df-1056179d-1af0-4a05-b099-3d48203d1937')\"\n",
              "              title=\"Convert this dataframe to an interactive table.\"\n",
              "              style=\"display:none;\">\n",
              "        \n",
              "  <svg xmlns=\"http://www.w3.org/2000/svg\" height=\"24px\"viewBox=\"0 0 24 24\"\n",
              "       width=\"24px\">\n",
              "    <path d=\"M0 0h24v24H0V0z\" fill=\"none\"/>\n",
              "    <path d=\"M18.56 5.44l.94 2.06.94-2.06 2.06-.94-2.06-.94-.94-2.06-.94 2.06-2.06.94zm-11 1L8.5 8.5l.94-2.06 2.06-.94-2.06-.94L8.5 2.5l-.94 2.06-2.06.94zm10 10l.94 2.06.94-2.06 2.06-.94-2.06-.94-.94-2.06-.94 2.06-2.06.94z\"/><path d=\"M17.41 7.96l-1.37-1.37c-.4-.4-.92-.59-1.43-.59-.52 0-1.04.2-1.43.59L10.3 9.45l-7.72 7.72c-.78.78-.78 2.05 0 2.83L4 21.41c.39.39.9.59 1.41.59.51 0 1.02-.2 1.41-.59l7.78-7.78 2.81-2.81c.8-.78.8-2.07 0-2.86zM5.41 20L4 18.59l7.72-7.72 1.47 1.35L5.41 20z\"/>\n",
              "  </svg>\n",
              "      </button>\n",
              "      \n",
              "  <style>\n",
              "    .colab-df-container {\n",
              "      display:flex;\n",
              "      flex-wrap:wrap;\n",
              "      gap: 12px;\n",
              "    }\n",
              "\n",
              "    .colab-df-convert {\n",
              "      background-color: #E8F0FE;\n",
              "      border: none;\n",
              "      border-radius: 50%;\n",
              "      cursor: pointer;\n",
              "      display: none;\n",
              "      fill: #1967D2;\n",
              "      height: 32px;\n",
              "      padding: 0 0 0 0;\n",
              "      width: 32px;\n",
              "    }\n",
              "\n",
              "    .colab-df-convert:hover {\n",
              "      background-color: #E2EBFA;\n",
              "      box-shadow: 0px 1px 2px rgba(60, 64, 67, 0.3), 0px 1px 3px 1px rgba(60, 64, 67, 0.15);\n",
              "      fill: #174EA6;\n",
              "    }\n",
              "\n",
              "    [theme=dark] .colab-df-convert {\n",
              "      background-color: #3B4455;\n",
              "      fill: #D2E3FC;\n",
              "    }\n",
              "\n",
              "    [theme=dark] .colab-df-convert:hover {\n",
              "      background-color: #434B5C;\n",
              "      box-shadow: 0px 1px 3px 1px rgba(0, 0, 0, 0.15);\n",
              "      filter: drop-shadow(0px 1px 2px rgba(0, 0, 0, 0.3));\n",
              "      fill: #FFFFFF;\n",
              "    }\n",
              "  </style>\n",
              "\n",
              "      <script>\n",
              "        const buttonEl =\n",
              "          document.querySelector('#df-1056179d-1af0-4a05-b099-3d48203d1937 button.colab-df-convert');\n",
              "        buttonEl.style.display =\n",
              "          google.colab.kernel.accessAllowed ? 'block' : 'none';\n",
              "\n",
              "        async function convertToInteractive(key) {\n",
              "          const element = document.querySelector('#df-1056179d-1af0-4a05-b099-3d48203d1937');\n",
              "          const dataTable =\n",
              "            await google.colab.kernel.invokeFunction('convertToInteractive',\n",
              "                                                     [key], {});\n",
              "          if (!dataTable) return;\n",
              "\n",
              "          const docLinkHtml = 'Like what you see? Visit the ' +\n",
              "            '<a target=\"_blank\" href=https://colab.research.google.com/notebooks/data_table.ipynb>data table notebook</a>'\n",
              "            + ' to learn more about interactive tables.';\n",
              "          element.innerHTML = '';\n",
              "          dataTable['output_type'] = 'display_data';\n",
              "          await google.colab.output.renderOutput(dataTable, element);\n",
              "          const docLink = document.createElement('div');\n",
              "          docLink.innerHTML = docLinkHtml;\n",
              "          element.appendChild(docLink);\n",
              "        }\n",
              "      </script>\n",
              "    </div>\n",
              "  </div>\n",
              "  "
            ]
          },
          "metadata": {},
          "execution_count": 3
        }
      ]
    },
    {
      "cell_type": "code",
      "source": [
        "max(dataset['message_len'])"
      ],
      "metadata": {
        "colab": {
          "base_uri": "https://localhost:8080/"
        },
        "id": "ImtkJlRmKrX5",
        "outputId": "a7fcc503-cefc-4fa9-9bca-c5d8847a4985"
      },
      "execution_count": 4,
      "outputs": [
        {
          "output_type": "execute_result",
          "data": {
            "text/plain": [
              "171"
            ]
          },
          "metadata": {},
          "execution_count": 4
        }
      ]
    },
    {
      "cell_type": "markdown",
      "source": [
        "**Exploratory Data Analysis**"
      ],
      "metadata": {
        "id": "kshV33zaKsCF"
      }
    },
    {
      "cell_type": "code",
      "source": [
        "balance_counts = dataset.groupby('target')['target'].agg('count').values\n",
        "balance_counts"
      ],
      "metadata": {
        "colab": {
          "base_uri": "https://localhost:8080/"
        },
        "id": "0cmeUjhqKtYw",
        "outputId": "12315894-52d7-4012-9735-a1717ed189ac"
      },
      "execution_count": 5,
      "outputs": [
        {
          "output_type": "execute_result",
          "data": {
            "text/plain": [
              "array([4825,  747])"
            ]
          },
          "metadata": {},
          "execution_count": 5
        }
      ]
    },
    {
      "cell_type": "code",
      "source": [
        "import plotly.graph_objs as go\n",
        "fig = go.Figure()\n",
        "fig.add_trace(go.Bar(\n",
        "    x=['ham'],\n",
        "    y=[balance_counts[0]],\n",
        "    name='ham',\n",
        "    text=[balance_counts[0]],\n",
        "    textposition='auto',\n",
        "   \n",
        "))\n",
        "fig.add_trace(go.Bar(\n",
        "    x=['spam'],\n",
        "    y=[balance_counts[1]],\n",
        "    name='spam',\n",
        "    text=[balance_counts[1]],\n",
        "    textposition='auto',\n",
        "    \n",
        "))\n",
        "fig.update_layout(\n",
        "    title='<span style=\"font-size:32px; font-family:Times New Roman\">Dataset distribution by target</span>'\n",
        ")\n",
        "fig.show()"
      ],
      "metadata": {
        "colab": {
          "base_uri": "https://localhost:8080/",
          "height": 542
        },
        "id": "-4jyfzzdKzzF",
        "outputId": "00b5f68d-33b5-4483-e9ca-f357acc1dbd2"
      },
      "execution_count": 6,
      "outputs": [
        {
          "output_type": "display_data",
          "data": {
            "text/html": [
              "<html>\n",
              "<head><meta charset=\"utf-8\" /></head>\n",
              "<body>\n",
              "    <div>            <script src=\"https://cdnjs.cloudflare.com/ajax/libs/mathjax/2.7.5/MathJax.js?config=TeX-AMS-MML_SVG\"></script><script type=\"text/javascript\">if (window.MathJax) {MathJax.Hub.Config({SVG: {font: \"STIX-Web\"}});}</script>                <script type=\"text/javascript\">window.PlotlyConfig = {MathJaxConfig: 'local'};</script>\n",
              "        <script src=\"https://cdn.plot.ly/plotly-2.8.3.min.js\"></script>                <div id=\"6f944d62-0a26-460a-a4fd-3b0c27bd550c\" class=\"plotly-graph-div\" style=\"height:525px; width:100%;\"></div>            <script type=\"text/javascript\">                                    window.PLOTLYENV=window.PLOTLYENV || {};                                    if (document.getElementById(\"6f944d62-0a26-460a-a4fd-3b0c27bd550c\")) {                    Plotly.newPlot(                        \"6f944d62-0a26-460a-a4fd-3b0c27bd550c\",                        [{\"name\":\"ham\",\"text\":[\"4825\"],\"textposition\":\"auto\",\"x\":[\"ham\"],\"y\":[4825],\"type\":\"bar\"},{\"name\":\"spam\",\"text\":[\"747\"],\"textposition\":\"auto\",\"x\":[\"spam\"],\"y\":[747],\"type\":\"bar\"}],                        {\"template\":{\"data\":{\"bar\":[{\"error_x\":{\"color\":\"#2a3f5f\"},\"error_y\":{\"color\":\"#2a3f5f\"},\"marker\":{\"line\":{\"color\":\"#E5ECF6\",\"width\":0.5},\"pattern\":{\"fillmode\":\"overlay\",\"size\":10,\"solidity\":0.2}},\"type\":\"bar\"}],\"barpolar\":[{\"marker\":{\"line\":{\"color\":\"#E5ECF6\",\"width\":0.5},\"pattern\":{\"fillmode\":\"overlay\",\"size\":10,\"solidity\":0.2}},\"type\":\"barpolar\"}],\"carpet\":[{\"aaxis\":{\"endlinecolor\":\"#2a3f5f\",\"gridcolor\":\"white\",\"linecolor\":\"white\",\"minorgridcolor\":\"white\",\"startlinecolor\":\"#2a3f5f\"},\"baxis\":{\"endlinecolor\":\"#2a3f5f\",\"gridcolor\":\"white\",\"linecolor\":\"white\",\"minorgridcolor\":\"white\",\"startlinecolor\":\"#2a3f5f\"},\"type\":\"carpet\"}],\"choropleth\":[{\"colorbar\":{\"outlinewidth\":0,\"ticks\":\"\"},\"type\":\"choropleth\"}],\"contour\":[{\"colorbar\":{\"outlinewidth\":0,\"ticks\":\"\"},\"colorscale\":[[0.0,\"#0d0887\"],[0.1111111111111111,\"#46039f\"],[0.2222222222222222,\"#7201a8\"],[0.3333333333333333,\"#9c179e\"],[0.4444444444444444,\"#bd3786\"],[0.5555555555555556,\"#d8576b\"],[0.6666666666666666,\"#ed7953\"],[0.7777777777777778,\"#fb9f3a\"],[0.8888888888888888,\"#fdca26\"],[1.0,\"#f0f921\"]],\"type\":\"contour\"}],\"contourcarpet\":[{\"colorbar\":{\"outlinewidth\":0,\"ticks\":\"\"},\"type\":\"contourcarpet\"}],\"heatmap\":[{\"colorbar\":{\"outlinewidth\":0,\"ticks\":\"\"},\"colorscale\":[[0.0,\"#0d0887\"],[0.1111111111111111,\"#46039f\"],[0.2222222222222222,\"#7201a8\"],[0.3333333333333333,\"#9c179e\"],[0.4444444444444444,\"#bd3786\"],[0.5555555555555556,\"#d8576b\"],[0.6666666666666666,\"#ed7953\"],[0.7777777777777778,\"#fb9f3a\"],[0.8888888888888888,\"#fdca26\"],[1.0,\"#f0f921\"]],\"type\":\"heatmap\"}],\"heatmapgl\":[{\"colorbar\":{\"outlinewidth\":0,\"ticks\":\"\"},\"colorscale\":[[0.0,\"#0d0887\"],[0.1111111111111111,\"#46039f\"],[0.2222222222222222,\"#7201a8\"],[0.3333333333333333,\"#9c179e\"],[0.4444444444444444,\"#bd3786\"],[0.5555555555555556,\"#d8576b\"],[0.6666666666666666,\"#ed7953\"],[0.7777777777777778,\"#fb9f3a\"],[0.8888888888888888,\"#fdca26\"],[1.0,\"#f0f921\"]],\"type\":\"heatmapgl\"}],\"histogram\":[{\"marker\":{\"pattern\":{\"fillmode\":\"overlay\",\"size\":10,\"solidity\":0.2}},\"type\":\"histogram\"}],\"histogram2d\":[{\"colorbar\":{\"outlinewidth\":0,\"ticks\":\"\"},\"colorscale\":[[0.0,\"#0d0887\"],[0.1111111111111111,\"#46039f\"],[0.2222222222222222,\"#7201a8\"],[0.3333333333333333,\"#9c179e\"],[0.4444444444444444,\"#bd3786\"],[0.5555555555555556,\"#d8576b\"],[0.6666666666666666,\"#ed7953\"],[0.7777777777777778,\"#fb9f3a\"],[0.8888888888888888,\"#fdca26\"],[1.0,\"#f0f921\"]],\"type\":\"histogram2d\"}],\"histogram2dcontour\":[{\"colorbar\":{\"outlinewidth\":0,\"ticks\":\"\"},\"colorscale\":[[0.0,\"#0d0887\"],[0.1111111111111111,\"#46039f\"],[0.2222222222222222,\"#7201a8\"],[0.3333333333333333,\"#9c179e\"],[0.4444444444444444,\"#bd3786\"],[0.5555555555555556,\"#d8576b\"],[0.6666666666666666,\"#ed7953\"],[0.7777777777777778,\"#fb9f3a\"],[0.8888888888888888,\"#fdca26\"],[1.0,\"#f0f921\"]],\"type\":\"histogram2dcontour\"}],\"mesh3d\":[{\"colorbar\":{\"outlinewidth\":0,\"ticks\":\"\"},\"type\":\"mesh3d\"}],\"parcoords\":[{\"line\":{\"colorbar\":{\"outlinewidth\":0,\"ticks\":\"\"}},\"type\":\"parcoords\"}],\"pie\":[{\"automargin\":true,\"type\":\"pie\"}],\"scatter\":[{\"marker\":{\"colorbar\":{\"outlinewidth\":0,\"ticks\":\"\"}},\"type\":\"scatter\"}],\"scatter3d\":[{\"line\":{\"colorbar\":{\"outlinewidth\":0,\"ticks\":\"\"}},\"marker\":{\"colorbar\":{\"outlinewidth\":0,\"ticks\":\"\"}},\"type\":\"scatter3d\"}],\"scattercarpet\":[{\"marker\":{\"colorbar\":{\"outlinewidth\":0,\"ticks\":\"\"}},\"type\":\"scattercarpet\"}],\"scattergeo\":[{\"marker\":{\"colorbar\":{\"outlinewidth\":0,\"ticks\":\"\"}},\"type\":\"scattergeo\"}],\"scattergl\":[{\"marker\":{\"colorbar\":{\"outlinewidth\":0,\"ticks\":\"\"}},\"type\":\"scattergl\"}],\"scattermapbox\":[{\"marker\":{\"colorbar\":{\"outlinewidth\":0,\"ticks\":\"\"}},\"type\":\"scattermapbox\"}],\"scatterpolar\":[{\"marker\":{\"colorbar\":{\"outlinewidth\":0,\"ticks\":\"\"}},\"type\":\"scatterpolar\"}],\"scatterpolargl\":[{\"marker\":{\"colorbar\":{\"outlinewidth\":0,\"ticks\":\"\"}},\"type\":\"scatterpolargl\"}],\"scatterternary\":[{\"marker\":{\"colorbar\":{\"outlinewidth\":0,\"ticks\":\"\"}},\"type\":\"scatterternary\"}],\"surface\":[{\"colorbar\":{\"outlinewidth\":0,\"ticks\":\"\"},\"colorscale\":[[0.0,\"#0d0887\"],[0.1111111111111111,\"#46039f\"],[0.2222222222222222,\"#7201a8\"],[0.3333333333333333,\"#9c179e\"],[0.4444444444444444,\"#bd3786\"],[0.5555555555555556,\"#d8576b\"],[0.6666666666666666,\"#ed7953\"],[0.7777777777777778,\"#fb9f3a\"],[0.8888888888888888,\"#fdca26\"],[1.0,\"#f0f921\"]],\"type\":\"surface\"}],\"table\":[{\"cells\":{\"fill\":{\"color\":\"#EBF0F8\"},\"line\":{\"color\":\"white\"}},\"header\":{\"fill\":{\"color\":\"#C8D4E3\"},\"line\":{\"color\":\"white\"}},\"type\":\"table\"}]},\"layout\":{\"annotationdefaults\":{\"arrowcolor\":\"#2a3f5f\",\"arrowhead\":0,\"arrowwidth\":1},\"autotypenumbers\":\"strict\",\"coloraxis\":{\"colorbar\":{\"outlinewidth\":0,\"ticks\":\"\"}},\"colorscale\":{\"diverging\":[[0,\"#8e0152\"],[0.1,\"#c51b7d\"],[0.2,\"#de77ae\"],[0.3,\"#f1b6da\"],[0.4,\"#fde0ef\"],[0.5,\"#f7f7f7\"],[0.6,\"#e6f5d0\"],[0.7,\"#b8e186\"],[0.8,\"#7fbc41\"],[0.9,\"#4d9221\"],[1,\"#276419\"]],\"sequential\":[[0.0,\"#0d0887\"],[0.1111111111111111,\"#46039f\"],[0.2222222222222222,\"#7201a8\"],[0.3333333333333333,\"#9c179e\"],[0.4444444444444444,\"#bd3786\"],[0.5555555555555556,\"#d8576b\"],[0.6666666666666666,\"#ed7953\"],[0.7777777777777778,\"#fb9f3a\"],[0.8888888888888888,\"#fdca26\"],[1.0,\"#f0f921\"]],\"sequentialminus\":[[0.0,\"#0d0887\"],[0.1111111111111111,\"#46039f\"],[0.2222222222222222,\"#7201a8\"],[0.3333333333333333,\"#9c179e\"],[0.4444444444444444,\"#bd3786\"],[0.5555555555555556,\"#d8576b\"],[0.6666666666666666,\"#ed7953\"],[0.7777777777777778,\"#fb9f3a\"],[0.8888888888888888,\"#fdca26\"],[1.0,\"#f0f921\"]]},\"colorway\":[\"#636efa\",\"#EF553B\",\"#00cc96\",\"#ab63fa\",\"#FFA15A\",\"#19d3f3\",\"#FF6692\",\"#B6E880\",\"#FF97FF\",\"#FECB52\"],\"font\":{\"color\":\"#2a3f5f\"},\"geo\":{\"bgcolor\":\"white\",\"lakecolor\":\"white\",\"landcolor\":\"#E5ECF6\",\"showlakes\":true,\"showland\":true,\"subunitcolor\":\"white\"},\"hoverlabel\":{\"align\":\"left\"},\"hovermode\":\"closest\",\"mapbox\":{\"style\":\"light\"},\"paper_bgcolor\":\"white\",\"plot_bgcolor\":\"#E5ECF6\",\"polar\":{\"angularaxis\":{\"gridcolor\":\"white\",\"linecolor\":\"white\",\"ticks\":\"\"},\"bgcolor\":\"#E5ECF6\",\"radialaxis\":{\"gridcolor\":\"white\",\"linecolor\":\"white\",\"ticks\":\"\"}},\"scene\":{\"xaxis\":{\"backgroundcolor\":\"#E5ECF6\",\"gridcolor\":\"white\",\"gridwidth\":2,\"linecolor\":\"white\",\"showbackground\":true,\"ticks\":\"\",\"zerolinecolor\":\"white\"},\"yaxis\":{\"backgroundcolor\":\"#E5ECF6\",\"gridcolor\":\"white\",\"gridwidth\":2,\"linecolor\":\"white\",\"showbackground\":true,\"ticks\":\"\",\"zerolinecolor\":\"white\"},\"zaxis\":{\"backgroundcolor\":\"#E5ECF6\",\"gridcolor\":\"white\",\"gridwidth\":2,\"linecolor\":\"white\",\"showbackground\":true,\"ticks\":\"\",\"zerolinecolor\":\"white\"}},\"shapedefaults\":{\"line\":{\"color\":\"#2a3f5f\"}},\"ternary\":{\"aaxis\":{\"gridcolor\":\"white\",\"linecolor\":\"white\",\"ticks\":\"\"},\"baxis\":{\"gridcolor\":\"white\",\"linecolor\":\"white\",\"ticks\":\"\"},\"bgcolor\":\"#E5ECF6\",\"caxis\":{\"gridcolor\":\"white\",\"linecolor\":\"white\",\"ticks\":\"\"}},\"title\":{\"x\":0.05},\"xaxis\":{\"automargin\":true,\"gridcolor\":\"white\",\"linecolor\":\"white\",\"ticks\":\"\",\"title\":{\"standoff\":15},\"zerolinecolor\":\"white\",\"zerolinewidth\":2},\"yaxis\":{\"automargin\":true,\"gridcolor\":\"white\",\"linecolor\":\"white\",\"ticks\":\"\",\"title\":{\"standoff\":15},\"zerolinecolor\":\"white\",\"zerolinewidth\":2}}},\"title\":{\"text\":\"<span style=\\\"font-size:32px; font-family:Times New Roman\\\">Dataset distribution by target</span>\"}},                        {\"responsive\": true}                    ).then(function(){\n",
              "                            \n",
              "var gd = document.getElementById('6f944d62-0a26-460a-a4fd-3b0c27bd550c');\n",
              "var x = new MutationObserver(function (mutations, observer) {{\n",
              "        var display = window.getComputedStyle(gd).display;\n",
              "        if (!display || display === 'none') {{\n",
              "            console.log([gd, 'removed!']);\n",
              "            Plotly.purge(gd);\n",
              "            observer.disconnect();\n",
              "        }}\n",
              "}});\n",
              "\n",
              "// Listen for the removal of the full notebook cells\n",
              "var notebookContainer = gd.closest('#notebook-container');\n",
              "if (notebookContainer) {{\n",
              "    x.observe(notebookContainer, {childList: true});\n",
              "}}\n",
              "\n",
              "// Listen for the clearing of the current output cell\n",
              "var outputEl = gd.closest('.output');\n",
              "if (outputEl) {{\n",
              "    x.observe(outputEl, {childList: true});\n",
              "}}\n",
              "\n",
              "                        })                };                            </script>        </div>\n",
              "</body>\n",
              "</html>"
            ]
          },
          "metadata": {}
        }
      ]
    },
    {
      "cell_type": "code",
      "source": [
        "ham_dataset = dataset[dataset['target'] == 'ham']['message_len'].value_counts().sort_index()\n",
        "spam_dataset = dataset[dataset['target'] == 'spam']['message_len'].value_counts().sort_index()\n",
        "\n",
        "fig = go.Figure()\n",
        "fig.add_trace(go.Scatter(\n",
        "    x=ham_dataset.index,\n",
        "    y=ham_dataset.values,\n",
        "    name='ham',\n",
        "    fill='tozeroy',\n",
        "    \n",
        "))\n",
        "fig.add_trace(go.Scatter(\n",
        "    x=spam_dataset.index,\n",
        "    y=spam_dataset.values,\n",
        "    name='spam',\n",
        "    fill='tozeroy',\n",
        "    \n",
        "))\n",
        "fig.update_layout(\n",
        "    title='<span style=\"font-size:32px; font-family:Times New Roman\">Data Roles in Different Fields</span>'\n",
        ")\n",
        "fig.update_xaxes(range=[0, 70])\n",
        "fig.show()"
      ],
      "metadata": {
        "colab": {
          "base_uri": "https://localhost:8080/",
          "height": 542
        },
        "id": "Erm2TRZ6K1UC",
        "outputId": "413d83d9-3789-4ad8-bfa1-9cd763b78e08"
      },
      "execution_count": 7,
      "outputs": [
        {
          "output_type": "display_data",
          "data": {
            "text/html": [
              "<html>\n",
              "<head><meta charset=\"utf-8\" /></head>\n",
              "<body>\n",
              "    <div>            <script src=\"https://cdnjs.cloudflare.com/ajax/libs/mathjax/2.7.5/MathJax.js?config=TeX-AMS-MML_SVG\"></script><script type=\"text/javascript\">if (window.MathJax) {MathJax.Hub.Config({SVG: {font: \"STIX-Web\"}});}</script>                <script type=\"text/javascript\">window.PlotlyConfig = {MathJaxConfig: 'local'};</script>\n",
              "        <script src=\"https://cdn.plot.ly/plotly-2.8.3.min.js\"></script>                <div id=\"36db821c-333f-46d8-8c07-864117387a56\" class=\"plotly-graph-div\" style=\"height:525px; width:100%;\"></div>            <script type=\"text/javascript\">                                    window.PLOTLYENV=window.PLOTLYENV || {};                                    if (document.getElementById(\"36db821c-333f-46d8-8c07-864117387a56\")) {                    Plotly.newPlot(                        \"36db821c-333f-46d8-8c07-864117387a56\",                        [{\"fill\":\"tozeroy\",\"name\":\"ham\",\"x\":[1,2,3,4,5,6,7,8,9,10,11,12,13,14,15,16,17,18,19,20,21,22,23,24,25,26,27,28,29,30,31,32,33,34,35,36,37,38,39,40,41,42,43,44,45,46,47,48,49,50,52,53,54,55,56,57,58,59,60,61,62,63,65,66,69,70,71,72,73,76,77,80,88,89,95,96,99,119,121,125,162,171],\"y\":[40,38,76,189,348,412,378,337,304,246,230,185,162,156,160,118,108,109,93,94,70,67,66,74,64,83,72,59,59,60,42,49,37,39,30,20,16,12,9,11,5,7,8,2,3,3,2,3,4,3,4,2,1,3,3,2,3,2,3,4,4,3,2,1,1,3,1,2,3,1,2,1,1,1,1,2,1,1,1,2,1,1],\"type\":\"scatter\"},{\"fill\":\"tozeroy\",\"name\":\"spam\",\"x\":[2,3,4,5,6,7,8,9,10,11,12,13,14,15,16,17,18,19,20,21,22,23,24,25,26,27,28,29,30,31,32,33,34,35],\"y\":[2,1,1,3,4,4,8,2,5,4,12,14,6,12,8,11,16,19,27,16,48,46,61,67,64,73,85,45,35,15,20,8,3,2],\"type\":\"scatter\"}],                        {\"template\":{\"data\":{\"bar\":[{\"error_x\":{\"color\":\"#2a3f5f\"},\"error_y\":{\"color\":\"#2a3f5f\"},\"marker\":{\"line\":{\"color\":\"#E5ECF6\",\"width\":0.5},\"pattern\":{\"fillmode\":\"overlay\",\"size\":10,\"solidity\":0.2}},\"type\":\"bar\"}],\"barpolar\":[{\"marker\":{\"line\":{\"color\":\"#E5ECF6\",\"width\":0.5},\"pattern\":{\"fillmode\":\"overlay\",\"size\":10,\"solidity\":0.2}},\"type\":\"barpolar\"}],\"carpet\":[{\"aaxis\":{\"endlinecolor\":\"#2a3f5f\",\"gridcolor\":\"white\",\"linecolor\":\"white\",\"minorgridcolor\":\"white\",\"startlinecolor\":\"#2a3f5f\"},\"baxis\":{\"endlinecolor\":\"#2a3f5f\",\"gridcolor\":\"white\",\"linecolor\":\"white\",\"minorgridcolor\":\"white\",\"startlinecolor\":\"#2a3f5f\"},\"type\":\"carpet\"}],\"choropleth\":[{\"colorbar\":{\"outlinewidth\":0,\"ticks\":\"\"},\"type\":\"choropleth\"}],\"contour\":[{\"colorbar\":{\"outlinewidth\":0,\"ticks\":\"\"},\"colorscale\":[[0.0,\"#0d0887\"],[0.1111111111111111,\"#46039f\"],[0.2222222222222222,\"#7201a8\"],[0.3333333333333333,\"#9c179e\"],[0.4444444444444444,\"#bd3786\"],[0.5555555555555556,\"#d8576b\"],[0.6666666666666666,\"#ed7953\"],[0.7777777777777778,\"#fb9f3a\"],[0.8888888888888888,\"#fdca26\"],[1.0,\"#f0f921\"]],\"type\":\"contour\"}],\"contourcarpet\":[{\"colorbar\":{\"outlinewidth\":0,\"ticks\":\"\"},\"type\":\"contourcarpet\"}],\"heatmap\":[{\"colorbar\":{\"outlinewidth\":0,\"ticks\":\"\"},\"colorscale\":[[0.0,\"#0d0887\"],[0.1111111111111111,\"#46039f\"],[0.2222222222222222,\"#7201a8\"],[0.3333333333333333,\"#9c179e\"],[0.4444444444444444,\"#bd3786\"],[0.5555555555555556,\"#d8576b\"],[0.6666666666666666,\"#ed7953\"],[0.7777777777777778,\"#fb9f3a\"],[0.8888888888888888,\"#fdca26\"],[1.0,\"#f0f921\"]],\"type\":\"heatmap\"}],\"heatmapgl\":[{\"colorbar\":{\"outlinewidth\":0,\"ticks\":\"\"},\"colorscale\":[[0.0,\"#0d0887\"],[0.1111111111111111,\"#46039f\"],[0.2222222222222222,\"#7201a8\"],[0.3333333333333333,\"#9c179e\"],[0.4444444444444444,\"#bd3786\"],[0.5555555555555556,\"#d8576b\"],[0.6666666666666666,\"#ed7953\"],[0.7777777777777778,\"#fb9f3a\"],[0.8888888888888888,\"#fdca26\"],[1.0,\"#f0f921\"]],\"type\":\"heatmapgl\"}],\"histogram\":[{\"marker\":{\"pattern\":{\"fillmode\":\"overlay\",\"size\":10,\"solidity\":0.2}},\"type\":\"histogram\"}],\"histogram2d\":[{\"colorbar\":{\"outlinewidth\":0,\"ticks\":\"\"},\"colorscale\":[[0.0,\"#0d0887\"],[0.1111111111111111,\"#46039f\"],[0.2222222222222222,\"#7201a8\"],[0.3333333333333333,\"#9c179e\"],[0.4444444444444444,\"#bd3786\"],[0.5555555555555556,\"#d8576b\"],[0.6666666666666666,\"#ed7953\"],[0.7777777777777778,\"#fb9f3a\"],[0.8888888888888888,\"#fdca26\"],[1.0,\"#f0f921\"]],\"type\":\"histogram2d\"}],\"histogram2dcontour\":[{\"colorbar\":{\"outlinewidth\":0,\"ticks\":\"\"},\"colorscale\":[[0.0,\"#0d0887\"],[0.1111111111111111,\"#46039f\"],[0.2222222222222222,\"#7201a8\"],[0.3333333333333333,\"#9c179e\"],[0.4444444444444444,\"#bd3786\"],[0.5555555555555556,\"#d8576b\"],[0.6666666666666666,\"#ed7953\"],[0.7777777777777778,\"#fb9f3a\"],[0.8888888888888888,\"#fdca26\"],[1.0,\"#f0f921\"]],\"type\":\"histogram2dcontour\"}],\"mesh3d\":[{\"colorbar\":{\"outlinewidth\":0,\"ticks\":\"\"},\"type\":\"mesh3d\"}],\"parcoords\":[{\"line\":{\"colorbar\":{\"outlinewidth\":0,\"ticks\":\"\"}},\"type\":\"parcoords\"}],\"pie\":[{\"automargin\":true,\"type\":\"pie\"}],\"scatter\":[{\"marker\":{\"colorbar\":{\"outlinewidth\":0,\"ticks\":\"\"}},\"type\":\"scatter\"}],\"scatter3d\":[{\"line\":{\"colorbar\":{\"outlinewidth\":0,\"ticks\":\"\"}},\"marker\":{\"colorbar\":{\"outlinewidth\":0,\"ticks\":\"\"}},\"type\":\"scatter3d\"}],\"scattercarpet\":[{\"marker\":{\"colorbar\":{\"outlinewidth\":0,\"ticks\":\"\"}},\"type\":\"scattercarpet\"}],\"scattergeo\":[{\"marker\":{\"colorbar\":{\"outlinewidth\":0,\"ticks\":\"\"}},\"type\":\"scattergeo\"}],\"scattergl\":[{\"marker\":{\"colorbar\":{\"outlinewidth\":0,\"ticks\":\"\"}},\"type\":\"scattergl\"}],\"scattermapbox\":[{\"marker\":{\"colorbar\":{\"outlinewidth\":0,\"ticks\":\"\"}},\"type\":\"scattermapbox\"}],\"scatterpolar\":[{\"marker\":{\"colorbar\":{\"outlinewidth\":0,\"ticks\":\"\"}},\"type\":\"scatterpolar\"}],\"scatterpolargl\":[{\"marker\":{\"colorbar\":{\"outlinewidth\":0,\"ticks\":\"\"}},\"type\":\"scatterpolargl\"}],\"scatterternary\":[{\"marker\":{\"colorbar\":{\"outlinewidth\":0,\"ticks\":\"\"}},\"type\":\"scatterternary\"}],\"surface\":[{\"colorbar\":{\"outlinewidth\":0,\"ticks\":\"\"},\"colorscale\":[[0.0,\"#0d0887\"],[0.1111111111111111,\"#46039f\"],[0.2222222222222222,\"#7201a8\"],[0.3333333333333333,\"#9c179e\"],[0.4444444444444444,\"#bd3786\"],[0.5555555555555556,\"#d8576b\"],[0.6666666666666666,\"#ed7953\"],[0.7777777777777778,\"#fb9f3a\"],[0.8888888888888888,\"#fdca26\"],[1.0,\"#f0f921\"]],\"type\":\"surface\"}],\"table\":[{\"cells\":{\"fill\":{\"color\":\"#EBF0F8\"},\"line\":{\"color\":\"white\"}},\"header\":{\"fill\":{\"color\":\"#C8D4E3\"},\"line\":{\"color\":\"white\"}},\"type\":\"table\"}]},\"layout\":{\"annotationdefaults\":{\"arrowcolor\":\"#2a3f5f\",\"arrowhead\":0,\"arrowwidth\":1},\"autotypenumbers\":\"strict\",\"coloraxis\":{\"colorbar\":{\"outlinewidth\":0,\"ticks\":\"\"}},\"colorscale\":{\"diverging\":[[0,\"#8e0152\"],[0.1,\"#c51b7d\"],[0.2,\"#de77ae\"],[0.3,\"#f1b6da\"],[0.4,\"#fde0ef\"],[0.5,\"#f7f7f7\"],[0.6,\"#e6f5d0\"],[0.7,\"#b8e186\"],[0.8,\"#7fbc41\"],[0.9,\"#4d9221\"],[1,\"#276419\"]],\"sequential\":[[0.0,\"#0d0887\"],[0.1111111111111111,\"#46039f\"],[0.2222222222222222,\"#7201a8\"],[0.3333333333333333,\"#9c179e\"],[0.4444444444444444,\"#bd3786\"],[0.5555555555555556,\"#d8576b\"],[0.6666666666666666,\"#ed7953\"],[0.7777777777777778,\"#fb9f3a\"],[0.8888888888888888,\"#fdca26\"],[1.0,\"#f0f921\"]],\"sequentialminus\":[[0.0,\"#0d0887\"],[0.1111111111111111,\"#46039f\"],[0.2222222222222222,\"#7201a8\"],[0.3333333333333333,\"#9c179e\"],[0.4444444444444444,\"#bd3786\"],[0.5555555555555556,\"#d8576b\"],[0.6666666666666666,\"#ed7953\"],[0.7777777777777778,\"#fb9f3a\"],[0.8888888888888888,\"#fdca26\"],[1.0,\"#f0f921\"]]},\"colorway\":[\"#636efa\",\"#EF553B\",\"#00cc96\",\"#ab63fa\",\"#FFA15A\",\"#19d3f3\",\"#FF6692\",\"#B6E880\",\"#FF97FF\",\"#FECB52\"],\"font\":{\"color\":\"#2a3f5f\"},\"geo\":{\"bgcolor\":\"white\",\"lakecolor\":\"white\",\"landcolor\":\"#E5ECF6\",\"showlakes\":true,\"showland\":true,\"subunitcolor\":\"white\"},\"hoverlabel\":{\"align\":\"left\"},\"hovermode\":\"closest\",\"mapbox\":{\"style\":\"light\"},\"paper_bgcolor\":\"white\",\"plot_bgcolor\":\"#E5ECF6\",\"polar\":{\"angularaxis\":{\"gridcolor\":\"white\",\"linecolor\":\"white\",\"ticks\":\"\"},\"bgcolor\":\"#E5ECF6\",\"radialaxis\":{\"gridcolor\":\"white\",\"linecolor\":\"white\",\"ticks\":\"\"}},\"scene\":{\"xaxis\":{\"backgroundcolor\":\"#E5ECF6\",\"gridcolor\":\"white\",\"gridwidth\":2,\"linecolor\":\"white\",\"showbackground\":true,\"ticks\":\"\",\"zerolinecolor\":\"white\"},\"yaxis\":{\"backgroundcolor\":\"#E5ECF6\",\"gridcolor\":\"white\",\"gridwidth\":2,\"linecolor\":\"white\",\"showbackground\":true,\"ticks\":\"\",\"zerolinecolor\":\"white\"},\"zaxis\":{\"backgroundcolor\":\"#E5ECF6\",\"gridcolor\":\"white\",\"gridwidth\":2,\"linecolor\":\"white\",\"showbackground\":true,\"ticks\":\"\",\"zerolinecolor\":\"white\"}},\"shapedefaults\":{\"line\":{\"color\":\"#2a3f5f\"}},\"ternary\":{\"aaxis\":{\"gridcolor\":\"white\",\"linecolor\":\"white\",\"ticks\":\"\"},\"baxis\":{\"gridcolor\":\"white\",\"linecolor\":\"white\",\"ticks\":\"\"},\"bgcolor\":\"#E5ECF6\",\"caxis\":{\"gridcolor\":\"white\",\"linecolor\":\"white\",\"ticks\":\"\"}},\"title\":{\"x\":0.05},\"xaxis\":{\"automargin\":true,\"gridcolor\":\"white\",\"linecolor\":\"white\",\"ticks\":\"\",\"title\":{\"standoff\":15},\"zerolinecolor\":\"white\",\"zerolinewidth\":2},\"yaxis\":{\"automargin\":true,\"gridcolor\":\"white\",\"linecolor\":\"white\",\"ticks\":\"\",\"title\":{\"standoff\":15},\"zerolinecolor\":\"white\",\"zerolinewidth\":2}}},\"title\":{\"text\":\"<span style=\\\"font-size:32px; font-family:Times New Roman\\\">Data Roles in Different Fields</span>\"},\"xaxis\":{\"range\":[0,70]}},                        {\"responsive\": true}                    ).then(function(){\n",
              "                            \n",
              "var gd = document.getElementById('36db821c-333f-46d8-8c07-864117387a56');\n",
              "var x = new MutationObserver(function (mutations, observer) {{\n",
              "        var display = window.getComputedStyle(gd).display;\n",
              "        if (!display || display === 'none') {{\n",
              "            console.log([gd, 'removed!']);\n",
              "            Plotly.purge(gd);\n",
              "            observer.disconnect();\n",
              "        }}\n",
              "}});\n",
              "\n",
              "// Listen for the removal of the full notebook cells\n",
              "var notebookContainer = gd.closest('#notebook-container');\n",
              "if (notebookContainer) {{\n",
              "    x.observe(notebookContainer, {childList: true});\n",
              "}}\n",
              "\n",
              "// Listen for the clearing of the current output cell\n",
              "var outputEl = gd.closest('.output');\n",
              "if (outputEl) {{\n",
              "    x.observe(outputEl, {childList: true});\n",
              "}}\n",
              "\n",
              "                        })                };                            </script>        </div>\n",
              "</body>\n",
              "</html>"
            ]
          },
          "metadata": {}
        }
      ]
    },
    {
      "cell_type": "markdown",
      "source": [
        "**Data Preprocessing**"
      ],
      "metadata": {
        "id": "bJmBJhjyK3wq"
      }
    },
    {
      "cell_type": "markdown",
      "source": [
        "Case Folding"
      ],
      "metadata": {
        "id": "SqNYKLEzK5um"
      }
    },
    {
      "cell_type": "code",
      "source": [
        "import re \n",
        "def clean_text(text):\n",
        "    '''Make text lowercase, remove text in square brackets,remove links,remove punctuation\n",
        "    and remove words containing numbers.'''\n",
        "    text = str(text).lower()\n",
        "    text = re.sub('\\[.*?\\]', '', text)\n",
        "    text = re.sub('https?://\\S+|www\\.\\S+', '', text)\n",
        "    text = re.sub('<.*?>+', '', text)\n",
        "    text = re.sub('\\n', '', text)\n",
        "    text = re.sub('\\w*\\d\\w*', '', text)\n",
        "    return text"
      ],
      "metadata": {
        "id": "cG7QGc3WK0uq"
      },
      "execution_count": 8,
      "outputs": []
    },
    {
      "cell_type": "code",
      "source": [
        "dataset['message_clean'] = dataset['message'].apply(clean_text)\n",
        "dataset.head()"
      ],
      "metadata": {
        "colab": {
          "base_uri": "https://localhost:8080/",
          "height": 206
        },
        "id": "kO85rqVzLAr4",
        "outputId": "c0b965db-4b04-4f89-89c6-d5c6b52eb1ba"
      },
      "execution_count": 9,
      "outputs": [
        {
          "output_type": "execute_result",
          "data": {
            "text/plain": [
              "  target                                            message  message_len  \\\n",
              "0    ham  Go until jurong point, crazy.. Available only ...           20   \n",
              "1    ham                      Ok lar... Joking wif u oni...            6   \n",
              "2   spam  Free entry in 2 a wkly comp to win FA Cup fina...           28   \n",
              "3    ham  U dun say so early hor... U c already then say...           11   \n",
              "4    ham  Nah I don't think he goes to usf, he lives aro...           13   \n",
              "\n",
              "                                       message_clean  \n",
              "0  go until jurong point, crazy.. available only ...  \n",
              "1                      ok lar... joking wif u oni...  \n",
              "2  free entry in  a wkly comp to win fa cup final...  \n",
              "3  u dun say so early hor... u c already then say...  \n",
              "4  nah i don't think he goes to usf, he lives aro...  "
            ],
            "text/html": [
              "\n",
              "  <div id=\"df-fe2e6def-1d86-464c-813d-7facbc0451d0\">\n",
              "    <div class=\"colab-df-container\">\n",
              "      <div>\n",
              "<style scoped>\n",
              "    .dataframe tbody tr th:only-of-type {\n",
              "        vertical-align: middle;\n",
              "    }\n",
              "\n",
              "    .dataframe tbody tr th {\n",
              "        vertical-align: top;\n",
              "    }\n",
              "\n",
              "    .dataframe thead th {\n",
              "        text-align: right;\n",
              "    }\n",
              "</style>\n",
              "<table border=\"1\" class=\"dataframe\">\n",
              "  <thead>\n",
              "    <tr style=\"text-align: right;\">\n",
              "      <th></th>\n",
              "      <th>target</th>\n",
              "      <th>message</th>\n",
              "      <th>message_len</th>\n",
              "      <th>message_clean</th>\n",
              "    </tr>\n",
              "  </thead>\n",
              "  <tbody>\n",
              "    <tr>\n",
              "      <th>0</th>\n",
              "      <td>ham</td>\n",
              "      <td>Go until jurong point, crazy.. Available only ...</td>\n",
              "      <td>20</td>\n",
              "      <td>go until jurong point, crazy.. available only ...</td>\n",
              "    </tr>\n",
              "    <tr>\n",
              "      <th>1</th>\n",
              "      <td>ham</td>\n",
              "      <td>Ok lar... Joking wif u oni...</td>\n",
              "      <td>6</td>\n",
              "      <td>ok lar... joking wif u oni...</td>\n",
              "    </tr>\n",
              "    <tr>\n",
              "      <th>2</th>\n",
              "      <td>spam</td>\n",
              "      <td>Free entry in 2 a wkly comp to win FA Cup fina...</td>\n",
              "      <td>28</td>\n",
              "      <td>free entry in  a wkly comp to win fa cup final...</td>\n",
              "    </tr>\n",
              "    <tr>\n",
              "      <th>3</th>\n",
              "      <td>ham</td>\n",
              "      <td>U dun say so early hor... U c already then say...</td>\n",
              "      <td>11</td>\n",
              "      <td>u dun say so early hor... u c already then say...</td>\n",
              "    </tr>\n",
              "    <tr>\n",
              "      <th>4</th>\n",
              "      <td>ham</td>\n",
              "      <td>Nah I don't think he goes to usf, he lives aro...</td>\n",
              "      <td>13</td>\n",
              "      <td>nah i don't think he goes to usf, he lives aro...</td>\n",
              "    </tr>\n",
              "  </tbody>\n",
              "</table>\n",
              "</div>\n",
              "      <button class=\"colab-df-convert\" onclick=\"convertToInteractive('df-fe2e6def-1d86-464c-813d-7facbc0451d0')\"\n",
              "              title=\"Convert this dataframe to an interactive table.\"\n",
              "              style=\"display:none;\">\n",
              "        \n",
              "  <svg xmlns=\"http://www.w3.org/2000/svg\" height=\"24px\"viewBox=\"0 0 24 24\"\n",
              "       width=\"24px\">\n",
              "    <path d=\"M0 0h24v24H0V0z\" fill=\"none\"/>\n",
              "    <path d=\"M18.56 5.44l.94 2.06.94-2.06 2.06-.94-2.06-.94-.94-2.06-.94 2.06-2.06.94zm-11 1L8.5 8.5l.94-2.06 2.06-.94-2.06-.94L8.5 2.5l-.94 2.06-2.06.94zm10 10l.94 2.06.94-2.06 2.06-.94-2.06-.94-.94-2.06-.94 2.06-2.06.94z\"/><path d=\"M17.41 7.96l-1.37-1.37c-.4-.4-.92-.59-1.43-.59-.52 0-1.04.2-1.43.59L10.3 9.45l-7.72 7.72c-.78.78-.78 2.05 0 2.83L4 21.41c.39.39.9.59 1.41.59.51 0 1.02-.2 1.41-.59l7.78-7.78 2.81-2.81c.8-.78.8-2.07 0-2.86zM5.41 20L4 18.59l7.72-7.72 1.47 1.35L5.41 20z\"/>\n",
              "  </svg>\n",
              "      </button>\n",
              "      \n",
              "  <style>\n",
              "    .colab-df-container {\n",
              "      display:flex;\n",
              "      flex-wrap:wrap;\n",
              "      gap: 12px;\n",
              "    }\n",
              "\n",
              "    .colab-df-convert {\n",
              "      background-color: #E8F0FE;\n",
              "      border: none;\n",
              "      border-radius: 50%;\n",
              "      cursor: pointer;\n",
              "      display: none;\n",
              "      fill: #1967D2;\n",
              "      height: 32px;\n",
              "      padding: 0 0 0 0;\n",
              "      width: 32px;\n",
              "    }\n",
              "\n",
              "    .colab-df-convert:hover {\n",
              "      background-color: #E2EBFA;\n",
              "      box-shadow: 0px 1px 2px rgba(60, 64, 67, 0.3), 0px 1px 3px 1px rgba(60, 64, 67, 0.15);\n",
              "      fill: #174EA6;\n",
              "    }\n",
              "\n",
              "    [theme=dark] .colab-df-convert {\n",
              "      background-color: #3B4455;\n",
              "      fill: #D2E3FC;\n",
              "    }\n",
              "\n",
              "    [theme=dark] .colab-df-convert:hover {\n",
              "      background-color: #434B5C;\n",
              "      box-shadow: 0px 1px 3px 1px rgba(0, 0, 0, 0.15);\n",
              "      filter: drop-shadow(0px 1px 2px rgba(0, 0, 0, 0.3));\n",
              "      fill: #FFFFFF;\n",
              "    }\n",
              "  </style>\n",
              "\n",
              "      <script>\n",
              "        const buttonEl =\n",
              "          document.querySelector('#df-fe2e6def-1d86-464c-813d-7facbc0451d0 button.colab-df-convert');\n",
              "        buttonEl.style.display =\n",
              "          google.colab.kernel.accessAllowed ? 'block' : 'none';\n",
              "\n",
              "        async function convertToInteractive(key) {\n",
              "          const element = document.querySelector('#df-fe2e6def-1d86-464c-813d-7facbc0451d0');\n",
              "          const dataTable =\n",
              "            await google.colab.kernel.invokeFunction('convertToInteractive',\n",
              "                                                     [key], {});\n",
              "          if (!dataTable) return;\n",
              "\n",
              "          const docLinkHtml = 'Like what you see? Visit the ' +\n",
              "            '<a target=\"_blank\" href=https://colab.research.google.com/notebooks/data_table.ipynb>data table notebook</a>'\n",
              "            + ' to learn more about interactive tables.';\n",
              "          element.innerHTML = '';\n",
              "          dataTable['output_type'] = 'display_data';\n",
              "          await google.colab.output.renderOutput(dataTable, element);\n",
              "          const docLink = document.createElement('div');\n",
              "          docLink.innerHTML = docLinkHtml;\n",
              "          element.appendChild(docLink);\n",
              "        }\n",
              "      </script>\n",
              "    </div>\n",
              "  </div>\n",
              "  "
            ]
          },
          "metadata": {},
          "execution_count": 9
        }
      ]
    },
    {
      "cell_type": "markdown",
      "source": [
        "Tokenisasi"
      ],
      "metadata": {
        "id": "aYXzLNjsX2Wm"
      }
    },
    {
      "cell_type": "code",
      "source": [
        "def tokenize(message_clean):\n",
        "    token = nltk.word_tokenize(message_clean)\n",
        "    return token"
      ],
      "metadata": {
        "id": "EB2FKaUXX5ge"
      },
      "execution_count": 10,
      "outputs": []
    },
    {
      "cell_type": "code",
      "source": [
        "\n",
        "import nltk\n",
        "nltk.download('punkt')\n",
        "dataset['tokenized'] = dataset['message_clean'].apply(tokenize)\n",
        "\n",
        "print('Tokenizing Result : \\n') \n",
        "print(dataset['tokenized'].head())\n",
        "print('\\n\\n\\n')"
      ],
      "metadata": {
        "colab": {
          "base_uri": "https://localhost:8080/"
        },
        "id": "EKRGiKp8Y8_l",
        "outputId": "ef67874e-0423-4632-bc7d-ec812ebc40f1"
      },
      "execution_count": 11,
      "outputs": [
        {
          "output_type": "stream",
          "name": "stdout",
          "text": [
            "[nltk_data] Downloading package punkt to /root/nltk_data...\n",
            "[nltk_data]   Unzipping tokenizers/punkt.zip.\n",
            "Tokenizing Result : \n",
            "\n",
            "0    [go, until, jurong, point, ,, crazy.., availab...\n",
            "1             [ok, lar, ..., joking, wif, u, oni, ...]\n",
            "2    [free, entry, in, a, wkly, comp, to, win, fa, ...\n",
            "3    [u, dun, say, so, early, hor, ..., u, c, alrea...\n",
            "4    [nah, i, do, n't, think, he, goes, to, usf, ,,...\n",
            "Name: tokenized, dtype: object\n",
            "\n",
            "\n",
            "\n",
            "\n"
          ]
        }
      ]
    },
    {
      "cell_type": "markdown",
      "source": [
        "Stopwords"
      ],
      "metadata": {
        "id": "bfr3lSf8LG5K"
      }
    },
    {
      "cell_type": "code",
      "source": [
        "import re\n",
        "import nltk\n",
        "nltk.download('stopwords')\n",
        "from nltk.corpus import stopwords\n",
        "stop_words = stopwords.words('english')\n",
        "\n",
        "def remove_stop_words(message_clean):\n",
        "    removed_stop_words = []\n",
        "    for review in message_clean:\n",
        "        removed_stop_words.append(\n",
        "            ' '.join([word for word in review.split() \n",
        "                      if word not in stop_words])\n",
        "        )\n",
        "    return removed_stop_words"
      ],
      "metadata": {
        "colab": {
          "base_uri": "https://localhost:8080/"
        },
        "id": "xYFQDYljX69e",
        "outputId": "e6cd4c9b-b925-4470-9ab4-936417cf3a98"
      },
      "execution_count": 12,
      "outputs": [
        {
          "output_type": "stream",
          "name": "stdout",
          "text": [
            "[nltk_data] Downloading package stopwords to /root/nltk_data...\n",
            "[nltk_data]   Unzipping corpora/stopwords.zip.\n"
          ]
        }
      ]
    },
    {
      "cell_type": "code",
      "source": [
        "dataset['stopwords_removed'] = dataset['tokenized'].apply(remove_stop_words)\n",
        "\n",
        "print('Stopwords Result : \\n') \n",
        "print(dataset['stopwords_removed'].head())\n",
        "print('\\n\\n\\n')"
      ],
      "metadata": {
        "colab": {
          "base_uri": "https://localhost:8080/"
        },
        "id": "twWT-MFHZErX",
        "outputId": "c959dc82-c05c-49f1-f889-60e1c633f41f"
      },
      "execution_count": 13,
      "outputs": [
        {
          "output_type": "stream",
          "name": "stdout",
          "text": [
            "Stopwords Result : \n",
            "\n",
            "0    [go, , jurong, point, ,, crazy.., available, ,...\n",
            "1             [ok, lar, ..., joking, wif, u, oni, ...]\n",
            "2    [free, entry, , , wkly, comp, , win, fa, cup, ...\n",
            "3    [u, dun, say, , early, hor, ..., u, c, already...\n",
            "4    [nah, , , n't, think, , goes, , usf, ,, , live...\n",
            "Name: stopwords_removed, dtype: object\n",
            "\n",
            "\n",
            "\n",
            "\n"
          ]
        }
      ]
    },
    {
      "cell_type": "markdown",
      "source": [
        "Stemming"
      ],
      "metadata": {
        "id": "VhlY3FunMu1o"
      }
    },
    {
      "cell_type": "code",
      "source": [
        "dataset['stemming_removed'] = dataset['stopwords_removed'].apply(remove_stop_words)\n",
        "\n",
        "print('Stemming Result : \\n') \n",
        "print(dataset['stopwords_removed'].head())\n",
        "print('\\n\\n\\n')"
      ],
      "metadata": {
        "colab": {
          "base_uri": "https://localhost:8080/"
        },
        "id": "-G-BQ4wjZlWs",
        "outputId": "3165b8f4-5bcc-4884-bfe5-8027d3dcd19c"
      },
      "execution_count": 14,
      "outputs": [
        {
          "output_type": "stream",
          "name": "stdout",
          "text": [
            "Stemming Result : \n",
            "\n",
            "0    [go, , jurong, point, ,, crazy.., available, ,...\n",
            "1             [ok, lar, ..., joking, wif, u, oni, ...]\n",
            "2    [free, entry, , , wkly, comp, , win, fa, cup, ...\n",
            "3    [u, dun, say, , early, hor, ..., u, c, already...\n",
            "4    [nah, , , n't, think, , goes, , usf, ,, , live...\n",
            "Name: stopwords_removed, dtype: object\n",
            "\n",
            "\n",
            "\n",
            "\n"
          ]
        }
      ]
    },
    {
      "cell_type": "markdown",
      "source": [
        "**K-Means with Mini Batch**"
      ],
      "metadata": {
        "id": "OxpcIpEFHzf4"
      }
    },
    {
      "cell_type": "markdown",
      "source": [
        "Clustering"
      ],
      "metadata": {
        "id": "U9SWY2HdNHIu"
      }
    },
    {
      "cell_type": "code",
      "source": [
        "from sklearn.cluster import MiniBatchKMeans\n",
        "from sklearn.feature_extraction.text import TfidfVectorizer\n",
        "from sklearn.decomposition import PCA\n",
        "from sklearn.manifold import TSNE"
      ],
      "metadata": {
        "id": "JGtxVoJDNIja"
      },
      "execution_count": 15,
      "outputs": []
    },
    {
      "cell_type": "markdown",
      "source": [
        "Clustering by the message_clean"
      ],
      "metadata": {
        "id": "9roZap1LNT90"
      }
    },
    {
      "cell_type": "code",
      "source": [
        "tfidf = TfidfVectorizer(\n",
        "    min_df = 5,\n",
        "    max_df = 0.95,\n",
        "    max_features = 8000,\n",
        "    stop_words = 'english'\n",
        ")\n",
        "tfidf.fit(dataset.message_clean)\n",
        "text1 = tfidf.transform(dataset.message_clean)"
      ],
      "metadata": {
        "id": "0RRYM8C1NYPQ"
      },
      "execution_count": 16,
      "outputs": []
    },
    {
      "cell_type": "code",
      "source": [
        "import matplotlib.pyplot as plt\n",
        "def find_optimal_clusters(dataset, max_k):\n",
        "    iters = range(2, max_k+1, 2)\n",
        "    \n",
        "    sse = []\n",
        "    for k in iters:\n",
        "        sse.append(MiniBatchKMeans(n_clusters=k, init_size=10, batch_size=30, random_state=20).fit(dataset).inertia_)\n",
        "        print('Fit {} clusters'.format(k))\n",
        "        \n",
        "    f, ax = plt.subplots(1, 1)\n",
        "    ax.plot(iters, sse, marker='o')\n",
        "    ax.set_xlabel('Cluster Centers')\n",
        "    ax.set_xticks(iters)\n",
        "    ax.set_xticklabels(iters)\n",
        "    ax.set_ylabel('SSE')\n",
        "    ax.set_title('SSE by Cluster Center Plot')\n",
        "    \n",
        "find_optimal_clusters(text1, 20)"
      ],
      "metadata": {
        "colab": {
          "base_uri": "https://localhost:8080/",
          "height": 816
        },
        "id": "plSrtBFXNi1H",
        "outputId": "7f972e6e-ad1a-490d-ff1b-a88e0065e5b2"
      },
      "execution_count": 17,
      "outputs": [
        {
          "output_type": "stream",
          "name": "stdout",
          "text": [
            "Fit 2 clusters\n",
            "Fit 4 clusters\n",
            "Fit 6 clusters\n",
            "Fit 8 clusters\n",
            "Fit 10 clusters\n",
            "Fit 12 clusters\n"
          ]
        },
        {
          "output_type": "stream",
          "name": "stderr",
          "text": [
            "/usr/local/lib/python3.7/dist-packages/sklearn/cluster/_kmeans.py:1902: RuntimeWarning:\n",
            "\n",
            "init_size=10 should be larger than n_clusters=12. Setting it to min(3*n_clusters, n_samples)\n",
            "\n",
            "/usr/local/lib/python3.7/dist-packages/sklearn/cluster/_kmeans.py:1902: RuntimeWarning:\n",
            "\n",
            "init_size=10 should be larger than n_clusters=14. Setting it to min(3*n_clusters, n_samples)\n",
            "\n",
            "/usr/local/lib/python3.7/dist-packages/sklearn/cluster/_kmeans.py:1902: RuntimeWarning:\n",
            "\n",
            "init_size=10 should be larger than n_clusters=16. Setting it to min(3*n_clusters, n_samples)\n",
            "\n"
          ]
        },
        {
          "output_type": "stream",
          "name": "stdout",
          "text": [
            "Fit 14 clusters\n",
            "Fit 16 clusters\n"
          ]
        },
        {
          "output_type": "stream",
          "name": "stderr",
          "text": [
            "/usr/local/lib/python3.7/dist-packages/sklearn/cluster/_kmeans.py:1902: RuntimeWarning:\n",
            "\n",
            "init_size=10 should be larger than n_clusters=18. Setting it to min(3*n_clusters, n_samples)\n",
            "\n",
            "/usr/local/lib/python3.7/dist-packages/sklearn/cluster/_kmeans.py:1902: RuntimeWarning:\n",
            "\n",
            "init_size=10 should be larger than n_clusters=20. Setting it to min(3*n_clusters, n_samples)\n",
            "\n"
          ]
        },
        {
          "output_type": "stream",
          "name": "stdout",
          "text": [
            "Fit 18 clusters\n",
            "Fit 20 clusters\n"
          ]
        },
        {
          "output_type": "display_data",
          "data": {
            "text/plain": [
              "<Figure size 432x288 with 1 Axes>"
            ],
            "image/png": "[encoded data removed]"
          },
          "metadata": {
            "needs_background": "light"
          }
        }
      ]
    },
    {
      "cell_type": "code",
      "source": [
        "clusters = MiniBatchKMeans(n_clusters=16, init_size=10, batch_size=30, random_state=20).fit_predict(text1)"
      ],
      "metadata": {
        "colab": {
          "base_uri": "https://localhost:8080/"
        },
        "id": "5KnVS-B4N-Af",
        "outputId": "7460e17f-b16d-4a03-c0f4-663e60db031d"
      },
      "execution_count": 18,
      "outputs": [
        {
          "output_type": "stream",
          "name": "stderr",
          "text": [
            "/usr/local/lib/python3.7/dist-packages/sklearn/cluster/_kmeans.py:1902: RuntimeWarning:\n",
            "\n",
            "init_size=10 should be larger than n_clusters=16. Setting it to min(3*n_clusters, n_samples)\n",
            "\n"
          ]
        }
      ]
    },
    {
      "cell_type": "code",
      "source": [
        "import numpy as np\n",
        "import matplotlib.cm as cm\n",
        "from sklearn.decomposition import PCA\n",
        "\n",
        "def plot_tsne_pca(dataset, labels):\n",
        "    max_label = max(labels)\n",
        "    max_items = np.random.choice(range(dataset.shape[0]), size=500, replace=False)\n",
        "    \n",
        "    pca = PCA(n_components=2).fit_transform(dataset[max_items,:].todense())\n",
        "    tsne = TSNE().fit_transform(PCA(n_components=1).fit_transform(dataset[max_items,:].todense()))\n",
        "    \n",
        "    \n",
        "    idx = np.random.choice(range(pca.shape[0]), size=300, replace=False)\n",
        "    label_subset = labels[max_items]\n",
        "    label_subset = [cm.hsv(i/max_label) for i in label_subset[idx]]\n",
        "    \n",
        "    f, ax = plt.subplots(1, 2, figsize=(14, 6))\n",
        "    \n",
        "    ax[0].scatter(pca[idx, 0], pca[idx, 1], c=label_subset)\n",
        "    ax[0].set_title('PCA Cluster Plot')\n",
        "    \n",
        "    ax[1].scatter(tsne[idx, 0], tsne[idx, 1], c=label_subset)\n",
        "    ax[1].set_title('TSNE Cluster Plot')\n",
        "    \n",
        "plot_tsne_pca(text1, clusters)"
      ],
      "metadata": {
        "colab": {
          "base_uri": "https://localhost:8080/",
          "height": 688
        },
        "id": "fcWxfdyEON6t",
        "outputId": "95fdf844-3ed4-412c-80b4-77c8f54c5b1c"
      },
      "execution_count": 19,
      "outputs": [
        {
          "output_type": "stream",
          "name": "stderr",
          "text": [
            "/usr/local/lib/python3.7/dist-packages/sklearn/utils/validation.py:598: FutureWarning:\n",
            "\n",
            "np.matrix usage is deprecated in 1.0 and will raise a TypeError in 1.2. Please convert to a numpy array with np.asarray. For more information see: https://numpy.org/doc/stable/reference/generated/numpy.matrix.html\n",
            "\n",
            "/usr/local/lib/python3.7/dist-packages/sklearn/utils/validation.py:598: FutureWarning:\n",
            "\n",
            "np.matrix usage is deprecated in 1.0 and will raise a TypeError in 1.2. Please convert to a numpy array with np.asarray. For more information see: https://numpy.org/doc/stable/reference/generated/numpy.matrix.html\n",
            "\n",
            "/usr/local/lib/python3.7/dist-packages/sklearn/manifold/_t_sne.py:783: FutureWarning:\n",
            "\n",
            "The default initialization in TSNE will change from 'random' to 'pca' in 1.2.\n",
            "\n",
            "/usr/local/lib/python3.7/dist-packages/sklearn/manifold/_t_sne.py:793: FutureWarning:\n",
            "\n",
            "The default learning rate in TSNE will change from 200.0 to 'auto' in 1.2.\n",
            "\n"
          ]
        },
        {
          "output_type": "display_data",
          "data": {
            "text/plain": [
              "<Figure size 1008x432 with 2 Axes>"
            ],
            "image/png": "[encoded data removed]"
          },
          "metadata": {
            "needs_background": "light"
          }
        }
      ]
    },
    {
      "cell_type": "code",
      "source": [
        "def get_top_keywords(dataset, clusters, labels, n_terms):\n",
        "    df3 = pd.DataFrame(dataset.todense()).groupby(clusters).mean()\n",
        "    \n",
        "    for i,r in df3.iterrows():\n",
        "        print('\\nCluster {}'.format(i))\n",
        "        print(','.join([labels[t] for t in np.argsort(r)[-n_terms:]]))\n",
        "            \n",
        "get_top_keywords(text1, clusters, tfidf.get_feature_names(), 10)"
      ],
      "metadata": {
        "colab": {
          "base_uri": "https://localhost:8080/"
        },
        "id": "aaVnZ535PlGm",
        "outputId": "ca600107-d77a-4266-c67d-37c591e354b2"
      },
      "execution_count": 20,
      "outputs": [
        {
          "output_type": "stream",
          "name": "stdout",
          "text": [
            "\n",
            "Cluster 0\n",
            "later,phone,time,prob,ur,plan,todays,whats,oh,ok\n",
            "\n",
            "Cluster 1\n",
            "movie,shower,did,lol,msg,house,yeah,ok,ll,leave\n",
            "\n",
            "Cluster 2\n",
            "good,like,come,know,lt,gt,ok,ur,ll,just\n",
            "\n",
            "Cluster 3\n",
            "ûò,don,hope,say,little,pain,hours,took,die,meds\n",
            "\n",
            "Cluster 4\n",
            "glad,gone,just,stuff,worry,xx,darlin,mate,film,ok\n",
            "\n",
            "Cluster 5\n",
            "gn,gm,gonna,ûò,just,like,sent,food,stuff,type\n",
            "\n",
            "Cluster 6\n",
            "god,gn,gonna,yes,thats,days,room,office,didnt,think\n",
            "\n",
            "Cluster 7\n",
            "goes,god,gn,gm,gonna,ûò,need,hey,visit,talk\n",
            "\n",
            "Cluster 8\n",
            "god,gn,gm,ûò,ok,lol,didn,remember,til,nite\n",
            "\n",
            "Cluster 9\n",
            "birthday,morning,ok,did,day,returns,happy,use,aathi,dear\n",
            "\n",
            "Cluster 10\n",
            "goin,ûò,going,car,ok,ur,come,home,half,hour\n",
            "\n",
            "Cluster 11\n",
            "goes,god,gn,day,things,enjoy,beautiful,smiling,moment,wishing\n",
            "\n",
            "Cluster 12\n",
            "dad,able,available,abiola,rest,short,hoping,feb,mid,good\n",
            "\n",
            "Cluster 13\n",
            "going,goin,goes,god,goodnight,ìï,yun,oredi,comin,fetch\n",
            "\n",
            "Cluster 14\n",
            "gn,gm,gotta,great,time,happy,try,thought,personal,everybody\n",
            "\n",
            "Cluster 15\n",
            "god,gn,ûò,ok,ll,sorry,ìï,took,come,forever\n"
          ]
        },
        {
          "output_type": "stream",
          "name": "stderr",
          "text": [
            "/usr/local/lib/python3.7/dist-packages/sklearn/utils/deprecation.py:87: FutureWarning:\n",
            "\n",
            "Function get_feature_names is deprecated; get_feature_names is deprecated in 1.0 and will be removed in 1.2. Please use get_feature_names_out instead.\n",
            "\n"
          ]
        }
      ]
    },
    {
      "cell_type": "markdown",
      "source": [
        "Vectorization "
      ],
      "metadata": {
        "id": "H2OPEPO1QgeN"
      }
    },
    {
      "cell_type": "code",
      "source": [
        "from sklearn.preprocessing import LabelEncoder\n",
        "\n",
        "le = LabelEncoder()\n",
        "le.fit(dataset['target'])\n",
        "\n",
        "dataset['target_encoded'] = le.transform(dataset['target'])\n",
        "dataset.head()"
      ],
      "metadata": {
        "colab": {
          "base_uri": "https://localhost:8080/",
          "height": 337
        },
        "id": "3gSx-ZyOQiPC",
        "outputId": "57bc95f0-f0ab-4c54-ce81-e6677f606315"
      },
      "execution_count": 21,
      "outputs": [
        {
          "output_type": "execute_result",
          "data": {
            "text/plain": [
              "  target                                            message  message_len  \\\n",
              "0    ham  Go until jurong point, crazy.. Available only ...           20   \n",
              "1    ham                      Ok lar... Joking wif u oni...            6   \n",
              "2   spam  Free entry in 2 a wkly comp to win FA Cup fina...           28   \n",
              "3    ham  U dun say so early hor... U c already then say...           11   \n",
              "4    ham  Nah I don't think he goes to usf, he lives aro...           13   \n",
              "\n",
              "                                       message_clean  \\\n",
              "0  go until jurong point, crazy.. available only ...   \n",
              "1                      ok lar... joking wif u oni...   \n",
              "2  free entry in  a wkly comp to win fa cup final...   \n",
              "3  u dun say so early hor... u c already then say...   \n",
              "4  nah i don't think he goes to usf, he lives aro...   \n",
              "\n",
              "                                           tokenized  \\\n",
              "0  [go, until, jurong, point, ,, crazy.., availab...   \n",
              "1           [ok, lar, ..., joking, wif, u, oni, ...]   \n",
              "2  [free, entry, in, a, wkly, comp, to, win, fa, ...   \n",
              "3  [u, dun, say, so, early, hor, ..., u, c, alrea...   \n",
              "4  [nah, i, do, n't, think, he, goes, to, usf, ,,...   \n",
              "\n",
              "                                   stopwords_removed  \\\n",
              "0  [go, , jurong, point, ,, crazy.., available, ,...   \n",
              "1           [ok, lar, ..., joking, wif, u, oni, ...]   \n",
              "2  [free, entry, , , wkly, comp, , win, fa, cup, ...   \n",
              "3  [u, dun, say, , early, hor, ..., u, c, already...   \n",
              "4  [nah, , , n't, think, , goes, , usf, ,, , live...   \n",
              "\n",
              "                                    stemming_removed  target_encoded  \n",
              "0  [go, , jurong, point, ,, crazy.., available, ,...               0  \n",
              "1           [ok, lar, ..., joking, wif, u, oni, ...]               0  \n",
              "2  [free, entry, , , wkly, comp, , win, fa, cup, ...               1  \n",
              "3  [u, dun, say, , early, hor, ..., u, c, already...               0  \n",
              "4  [nah, , , n't, think, , goes, , usf, ,, , live...               0  "
            ],
            "text/html": [
              "\n",
              "  <div id=\"df-40993e00-9d62-4ed5-84ff-d37dfd0b6143\">\n",
              "    <div class=\"colab-df-container\">\n",
              "      <div>\n",
              "<style scoped>\n",
              "    .dataframe tbody tr th:only-of-type {\n",
              "        vertical-align: middle;\n",
              "    }\n",
              "\n",
              "    .dataframe tbody tr th {\n",
              "        vertical-align: top;\n",
              "    }\n",
              "\n",
              "    .dataframe thead th {\n",
              "        text-align: right;\n",
              "    }\n",
              "</style>\n",
              "<table border=\"1\" class=\"dataframe\">\n",
              "  <thead>\n",
              "    <tr style=\"text-align: right;\">\n",
              "      <th></th>\n",
              "      <th>target</th>\n",
              "      <th>message</th>\n",
              "      <th>message_len</th>\n",
              "      <th>message_clean</th>\n",
              "      <th>tokenized</th>\n",
              "      <th>stopwords_removed</th>\n",
              "      <th>stemming_removed</th>\n",
              "      <th>target_encoded</th>\n",
              "    </tr>\n",
              "  </thead>\n",
              "  <tbody>\n",
              "    <tr>\n",
              "      <th>0</th>\n",
              "      <td>ham</td>\n",
              "      <td>Go until jurong point, crazy.. Available only ...</td>\n",
              "      <td>20</td>\n",
              "      <td>go until jurong point, crazy.. available only ...</td>\n",
              "      <td>[go, until, jurong, point, ,, crazy.., availab...</td>\n",
              "      <td>[go, , jurong, point, ,, crazy.., available, ,...</td>\n",
              "      <td>[go, , jurong, point, ,, crazy.., available, ,...</td>\n",
              "      <td>0</td>\n",
              "    </tr>\n",
              "    <tr>\n",
              "      <th>1</th>\n",
              "      <td>ham</td>\n",
              "      <td>Ok lar... Joking wif u oni...</td>\n",
              "      <td>6</td>\n",
              "      <td>ok lar... joking wif u oni...</td>\n",
              "      <td>[ok, lar, ..., joking, wif, u, oni, ...]</td>\n",
              "      <td>[ok, lar, ..., joking, wif, u, oni, ...]</td>\n",
              "      <td>[ok, lar, ..., joking, wif, u, oni, ...]</td>\n",
              "      <td>0</td>\n",
              "    </tr>\n",
              "    <tr>\n",
              "      <th>2</th>\n",
              "      <td>spam</td>\n",
              "      <td>Free entry in 2 a wkly comp to win FA Cup fina...</td>\n",
              "      <td>28</td>\n",
              "      <td>free entry in  a wkly comp to win fa cup final...</td>\n",
              "      <td>[free, entry, in, a, wkly, comp, to, win, fa, ...</td>\n",
              "      <td>[free, entry, , , wkly, comp, , win, fa, cup, ...</td>\n",
              "      <td>[free, entry, , , wkly, comp, , win, fa, cup, ...</td>\n",
              "      <td>1</td>\n",
              "    </tr>\n",
              "    <tr>\n",
              "      <th>3</th>\n",
              "      <td>ham</td>\n",
              "      <td>U dun say so early hor... U c already then say...</td>\n",
              "      <td>11</td>\n",
              "      <td>u dun say so early hor... u c already then say...</td>\n",
              "      <td>[u, dun, say, so, early, hor, ..., u, c, alrea...</td>\n",
              "      <td>[u, dun, say, , early, hor, ..., u, c, already...</td>\n",
              "      <td>[u, dun, say, , early, hor, ..., u, c, already...</td>\n",
              "      <td>0</td>\n",
              "    </tr>\n",
              "    <tr>\n",
              "      <th>4</th>\n",
              "      <td>ham</td>\n",
              "      <td>Nah I don't think he goes to usf, he lives aro...</td>\n",
              "      <td>13</td>\n",
              "      <td>nah i don't think he goes to usf, he lives aro...</td>\n",
              "      <td>[nah, i, do, n't, think, he, goes, to, usf, ,,...</td>\n",
              "      <td>[nah, , , n't, think, , goes, , usf, ,, , live...</td>\n",
              "      <td>[nah, , , n't, think, , goes, , usf, ,, , live...</td>\n",
              "      <td>0</td>\n",
              "    </tr>\n",
              "  </tbody>\n",
              "</table>\n",
              "</div>\n",
              "      <button class=\"colab-df-convert\" onclick=\"convertToInteractive('df-40993e00-9d62-4ed5-84ff-d37dfd0b6143')\"\n",
              "              title=\"Convert this dataframe to an interactive table.\"\n",
              "              style=\"display:none;\">\n",
              "        \n",
              "  <svg xmlns=\"http://www.w3.org/2000/svg\" height=\"24px\"viewBox=\"0 0 24 24\"\n",
              "       width=\"24px\">\n",
              "    <path d=\"M0 0h24v24H0V0z\" fill=\"none\"/>\n",
              "    <path d=\"M18.56 5.44l.94 2.06.94-2.06 2.06-.94-2.06-.94-.94-2.06-.94 2.06-2.06.94zm-11 1L8.5 8.5l.94-2.06 2.06-.94-2.06-.94L8.5 2.5l-.94 2.06-2.06.94zm10 10l.94 2.06.94-2.06 2.06-.94-2.06-.94-.94-2.06-.94 2.06-2.06.94z\"/><path d=\"M17.41 7.96l-1.37-1.37c-.4-.4-.92-.59-1.43-.59-.52 0-1.04.2-1.43.59L10.3 9.45l-7.72 7.72c-.78.78-.78 2.05 0 2.83L4 21.41c.39.39.9.59 1.41.59.51 0 1.02-.2 1.41-.59l7.78-7.78 2.81-2.81c.8-.78.8-2.07 0-2.86zM5.41 20L4 18.59l7.72-7.72 1.47 1.35L5.41 20z\"/>\n",
              "  </svg>\n",
              "      </button>\n",
              "      \n",
              "  <style>\n",
              "    .colab-df-container {\n",
              "      display:flex;\n",
              "      flex-wrap:wrap;\n",
              "      gap: 12px;\n",
              "    }\n",
              "\n",
              "    .colab-df-convert {\n",
              "      background-color: #E8F0FE;\n",
              "      border: none;\n",
              "      border-radius: 50%;\n",
              "      cursor: pointer;\n",
              "      display: none;\n",
              "      fill: #1967D2;\n",
              "      height: 32px;\n",
              "      padding: 0 0 0 0;\n",
              "      width: 32px;\n",
              "    }\n",
              "\n",
              "    .colab-df-convert:hover {\n",
              "      background-color: #E2EBFA;\n",
              "      box-shadow: 0px 1px 2px rgba(60, 64, 67, 0.3), 0px 1px 3px 1px rgba(60, 64, 67, 0.15);\n",
              "      fill: #174EA6;\n",
              "    }\n",
              "\n",
              "    [theme=dark] .colab-df-convert {\n",
              "      background-color: #3B4455;\n",
              "      fill: #D2E3FC;\n",
              "    }\n",
              "\n",
              "    [theme=dark] .colab-df-convert:hover {\n",
              "      background-color: #434B5C;\n",
              "      box-shadow: 0px 1px 3px 1px rgba(0, 0, 0, 0.15);\n",
              "      filter: drop-shadow(0px 1px 2px rgba(0, 0, 0, 0.3));\n",
              "      fill: #FFFFFF;\n",
              "    }\n",
              "  </style>\n",
              "\n",
              "      <script>\n",
              "        const buttonEl =\n",
              "          document.querySelector('#df-40993e00-9d62-4ed5-84ff-d37dfd0b6143 button.colab-df-convert');\n",
              "        buttonEl.style.display =\n",
              "          google.colab.kernel.accessAllowed ? 'block' : 'none';\n",
              "\n",
              "        async function convertToInteractive(key) {\n",
              "          const element = document.querySelector('#df-40993e00-9d62-4ed5-84ff-d37dfd0b6143');\n",
              "          const dataTable =\n",
              "            await google.colab.kernel.invokeFunction('convertToInteractive',\n",
              "                                                     [key], {});\n",
              "          if (!dataTable) return;\n",
              "\n",
              "          const docLinkHtml = 'Like what you see? Visit the ' +\n",
              "            '<a target=\"_blank\" href=https://colab.research.google.com/notebooks/data_table.ipynb>data table notebook</a>'\n",
              "            + ' to learn more about interactive tables.';\n",
              "          element.innerHTML = '';\n",
              "          dataTable['output_type'] = 'display_data';\n",
              "          await google.colab.output.renderOutput(dataTable, element);\n",
              "          const docLink = document.createElement('div');\n",
              "          docLink.innerHTML = docLinkHtml;\n",
              "          element.appendChild(docLink);\n",
              "        }\n",
              "      </script>\n",
              "    </div>\n",
              "  </div>\n",
              "  "
            ]
          },
          "metadata": {},
          "execution_count": 21
        }
      ]
    },
    {
      "cell_type": "code",
      "source": [
        "# how to define X and y (from the SMS data) for use with COUNTVECTORIZER\n",
        "x = dataset['message_clean']\n",
        "y = dataset['target_encoded']\n",
        "\n",
        "print(len(x), len(y))"
      ],
      "metadata": {
        "colab": {
          "base_uri": "https://localhost:8080/"
        },
        "id": "P-WfusncQv1o",
        "outputId": "6f0e766e-f8dc-4819-a534-d0361113033f"
      },
      "execution_count": 22,
      "outputs": [
        {
          "output_type": "stream",
          "name": "stdout",
          "text": [
            "5572 5572\n"
          ]
        }
      ]
    },
    {
      "cell_type": "code",
      "source": [
        "# Split into train and test sets\n",
        "from sklearn.model_selection import train_test_split\n",
        "\n",
        "x_train, x_test, y_train, y_test = train_test_split(x, y, random_state=42)\n",
        "print(len(x_train), len(y_train))\n",
        "print(len(x_test), len(y_test))"
      ],
      "metadata": {
        "colab": {
          "base_uri": "https://localhost:8080/"
        },
        "id": "u6Lw-HbLQ0k_",
        "outputId": "2fd7d89c-cae5-4d57-81a4-7b6429d7cc0d"
      },
      "execution_count": 23,
      "outputs": [
        {
          "output_type": "stream",
          "name": "stdout",
          "text": [
            "4179 4179\n",
            "1393 1393\n"
          ]
        }
      ]
    },
    {
      "cell_type": "code",
      "source": [
        "from sklearn.feature_extraction.text import CountVectorizer\n",
        "\n",
        "# instantiate the vectorizer\n",
        "vect = CountVectorizer()\n",
        "vect.fit(x_train)"
      ],
      "metadata": {
        "colab": {
          "base_uri": "https://localhost:8080/"
        },
        "id": "tNuVvdzCQ2Ze",
        "outputId": "7debb654-05bd-4e5d-a31f-69c228a53e70"
      },
      "execution_count": 24,
      "outputs": [
        {
          "output_type": "execute_result",
          "data": {
            "text/plain": [
              "CountVectorizer()"
            ]
          },
          "metadata": {},
          "execution_count": 24
        }
      ]
    },
    {
      "cell_type": "code",
      "source": [
        "# Use the trained to create a document-term matrix from train and test sets\n",
        "x_train_dtm = vect.transform(x_train)\n",
        "x_test_dtm = vect.transform(x_test)"
      ],
      "metadata": {
        "id": "lsJx4xCBQ4Wi"
      },
      "execution_count": 25,
      "outputs": []
    },
    {
      "cell_type": "markdown",
      "source": [
        "Word Embeding : GlOVE"
      ],
      "metadata": {
        "id": "xqqi-bihRZRb"
      }
    },
    {
      "cell_type": "code",
      "source": [
        "texts = dataset['message_clean']\n",
        "target = dataset['target_encoded']"
      ],
      "metadata": {
        "id": "L24ik80VRcLx"
      },
      "execution_count": 26,
      "outputs": []
    },
    {
      "cell_type": "code",
      "source": [
        "# Calculate the length of our vocabulary\n",
        "from keras.preprocessing.text import Tokenizer\n",
        "word_tokenizer = Tokenizer()\n",
        "word_tokenizer.fit_on_texts(texts)\n",
        "\n",
        "vocab_length = len(word_tokenizer.word_index) + 1\n",
        "vocab_length"
      ],
      "metadata": {
        "colab": {
          "base_uri": "https://localhost:8080/"
        },
        "id": "Hbph8bm4RYoH",
        "outputId": "2349b323-cd08-46f9-ab2a-0c06f22eadf8"
      },
      "execution_count": 27,
      "outputs": [
        {
          "output_type": "execute_result",
          "data": {
            "text/plain": [
              "7736"
            ]
          },
          "metadata": {},
          "execution_count": 27
        }
      ]
    },
    {
      "cell_type": "code",
      "source": [
        "!wget http://nlp.stanford.edu/data/glove.6B.zip\n",
        "!unzip glove*.zip"
      ],
      "metadata": {
        "colab": {
          "base_uri": "https://localhost:8080/"
        },
        "id": "3gLfNPvtSiBX",
        "outputId": "a769c7fc-e3a8-4d67-a8a2-6a8c08028462"
      },
      "execution_count": 28,
      "outputs": [
        {
          "output_type": "stream",
          "name": "stdout",
          "text": [
            "--2022-05-21 14:26:57--  http://nlp.stanford.edu/data/glove.6B.zip\n",
            "Resolving nlp.stanford.edu (nlp.stanford.edu)... 171.64.67.140\n",
            "Connecting to nlp.stanford.edu (nlp.stanford.edu)|171.64.67.140|:80... connected.\n",
            "HTTP request sent, awaiting response... 302 Found\n",
            "Location: https://nlp.stanford.edu/data/glove.6B.zip [following]\n",
            "--2022-05-21 14:26:57--  https://nlp.stanford.edu/data/glove.6B.zip\n",
            "Connecting to nlp.stanford.edu (nlp.stanford.edu)|171.64.67.140|:443... connected.\n",
            "HTTP request sent, awaiting response... 301 Moved Permanently\n",
            "Location: http://downloads.cs.stanford.edu/nlp/data/glove.6B.zip [following]\n",
            "--2022-05-21 14:26:57--  http://downloads.cs.stanford.edu/nlp/data/glove.6B.zip\n",
            "Resolving downloads.cs.stanford.edu (downloads.cs.stanford.edu)... 171.64.64.22\n",
            "Connecting to downloads.cs.stanford.edu (downloads.cs.stanford.edu)|171.64.64.22|:80... connected.\n",
            "HTTP request sent, awaiting response... 200 OK\n",
            "Length: 862182613 (822M) [application/zip]\n",
            "Saving to: ‘glove.6B.zip’\n",
            "\n",
            "glove.6B.zip        100%[===================>] 822.24M  5.04MB/s    in 2m 40s  \n",
            "\n",
            "2022-05-21 14:29:37 (5.15 MB/s) - ‘glove.6B.zip’ saved [862182613/862182613]\n",
            "\n",
            "Archive:  glove.6B.zip\n",
            "  inflating: glove.6B.50d.txt        \n",
            "  inflating: glove.6B.100d.txt       \n",
            "  inflating: glove.6B.200d.txt       \n",
            "  inflating: glove.6B.300d.txt       \n"
          ]
        }
      ]
    },
    {
      "cell_type": "code",
      "source": [
        "embeddings_dictionary = dict()\n",
        "embedding_dim = 100\n",
        "\n",
        "# Load GloVe 100D embeddings\n",
        "with open('/content/glove.6B.100d.txt') as fp:\n",
        "    for line in fp.readlines():\n",
        "        records = line.split()\n",
        "        word = records[0]\n",
        "        vector_dimensions = np.asarray(records[1:], dtype='float32')\n",
        "        embeddings_dictionary [word] = vector_dimensions\n",
        "\n",
        "# embeddings_dictionary"
      ],
      "metadata": {
        "id": "_DaFmevNTuG7"
      },
      "execution_count": 29,
      "outputs": []
    },
    {
      "cell_type": "code",
      "source": [
        "embedding_matrix = np.zeros((vocab_length, embedding_dim))\n",
        "\n",
        "for word, index in word_tokenizer.word_index.items():\n",
        "    embedding_vector = embeddings_dictionary.get(word)\n",
        "    if embedding_vector is not None:\n",
        "        embedding_matrix[index] = embedding_vector\n",
        "        \n",
        "embedding_matrix"
      ],
      "metadata": {
        "colab": {
          "base_uri": "https://localhost:8080/"
        },
        "id": "qDCM9TGoV6d7",
        "outputId": "60d9e59e-116f-418f-f4a8-8c19a7c66b94"
      },
      "execution_count": 30,
      "outputs": [
        {
          "output_type": "execute_result",
          "data": {
            "text/plain": [
              "array([[ 0.        ,  0.        ,  0.        , ...,  0.        ,\n",
              "         0.        ,  0.        ],\n",
              "       [-0.046539  ,  0.61966002,  0.56647003, ..., -0.37616   ,\n",
              "        -0.032502  ,  0.80620003],\n",
              "       [-0.18970001,  0.050024  ,  0.19084001, ..., -0.39804   ,\n",
              "         0.47646999, -0.15983   ],\n",
              "       ...,\n",
              "       [-0.12201   ,  0.20465   ,  0.53192002, ..., -0.164     ,\n",
              "        -0.41637   ,  0.66426003],\n",
              "       [-0.41600999,  0.16974001,  0.43457001, ..., -0.083432  ,\n",
              "         0.49520999,  0.77258003],\n",
              "       [ 0.46118999,  0.3567    ,  0.026078  , ..., -0.0056525 ,\n",
              "         0.55176002,  0.77563   ]])"
            ]
          },
          "metadata": {},
          "execution_count": 30
        }
      ]
    },
    {
      "cell_type": "markdown",
      "source": [
        "TF-IDF "
      ],
      "metadata": {
        "id": "RO7JWrQxQ_Mu"
      }
    },
    {
      "cell_type": "code",
      "source": [
        "def calc_TF(message_clean):\n",
        "    # Counts the number of times the word appears in review\n",
        "    TF_dict = {}\n",
        "    for term in message_clean:\n",
        "        if term in TF_dict:\n",
        "            TF_dict[term] += 1\n",
        "        else:\n",
        "            TF_dict[term] = 1\n",
        "    # Computes tf for each word\n",
        "    for term in TF_dict:\n",
        "        TF_dict[term] = TF_dict[term] / len(target)\n",
        "    return TF_dict\n",
        "\n",
        "dataset[\"embeddings_dictionary\"] = dataset['message_clean'].apply(calc_TF)\n",
        "\n",
        "dataset[\"embeddings_dictionary\"].head()"
      ],
      "metadata": {
        "colab": {
          "base_uri": "https://localhost:8080/"
        },
        "id": "ZNEs7bavRAL-",
        "outputId": "514bacb9-7a5d-49d4-c873-c7d05fec6bde"
      },
      "execution_count": 31,
      "outputs": [
        {
          "output_type": "execute_result",
          "data": {
            "text/plain": [
              "0    {'g': 0.0008973438621679827, 'o': 0.0012562814...\n",
              "1    {'o': 0.0005384063173007897, 'k': 0.0003589375...\n",
              "2    {'f': 0.0007178750897343862, 'r': 0.0008973438...\n",
              "3    {'u': 0.0005384063173007897, ' ': 0.0017946877...\n",
              "4    {'n': 0.0007178750897343862, 'a': 0.0003589375...\n",
              "Name: embeddings_dictionary, dtype: object"
            ]
          },
          "metadata": {},
          "execution_count": 31
        }
      ]
    },
    {
      "cell_type": "code",
      "source": [
        "index = 90\n",
        "\n",
        "print('%20s' % \"term\", \"\\t\", \"TF\\n\")\n",
        "for key in dataset[\"embeddings_dictionary\"][index]:\n",
        "    print('%20s' % key, \"\\t\", dataset[\"embeddings_dictionary\"][index][key])"
      ],
      "metadata": {
        "colab": {
          "base_uri": "https://localhost:8080/"
        },
        "id": "QdRtur9dWRDM",
        "outputId": "e456717c-5bd9-4fd8-c338-57c26b5c8ba4"
      },
      "execution_count": 32,
      "outputs": [
        {
          "output_type": "stream",
          "name": "stdout",
          "text": [
            "                term \t TF\n",
            "\n",
            "                   y \t 0.0003589375448671931\n",
            "                   e \t 0.0005384063173007897\n",
            "                   a \t 0.0005384063173007897\n",
            "                   h \t 0.0007178750897343862\n",
            "                     \t 0.001615218951902369\n",
            "                   d \t 0.0005384063173007897\n",
            "                   o \t 0.001256281407035176\n",
            "                   ! \t 0.0003589375448671931\n",
            "                   n \t 0.0005384063173007897\n",
            "                    \t 0.0003589375448671931\n",
            "                   û \t 0.0003589375448671931\n",
            "                   ÷ \t 0.0003589375448671931\n",
            "                   t \t 0.0010768126346015793\n",
            "                   s \t 0.0005384063173007897\n",
            "                   c \t 0.0005384063173007897\n",
            "                   l \t 0.0005384063173007897\n",
            "                   - \t 0.00017946877243359656\n",
            "                   u \t 0.00017946877243359656\n",
            "                   m \t 0.00017946877243359656\n",
            "                   i \t 0.00017946877243359656\n",
            "                   g \t 0.00017946877243359656\n"
          ]
        }
      ]
    },
    {
      "cell_type": "code",
      "source": [
        "def calc_DF(tfDict):\n",
        "    count_DF = {}\n",
        "    # Run through each document's tf dictionary and increment countDict's (term, doc) pair\n",
        "    for document in tfDict:\n",
        "        for term in document:\n",
        "            if term in count_DF:\n",
        "                count_DF[term] += 1\n",
        "            else:\n",
        "                count_DF[term] = 1\n",
        "    return count_DF\n",
        "\n",
        "DF = calc_DF(dataset[\"embeddings_dictionary\"])\n",
        "DF"
      ],
      "metadata": {
        "colab": {
          "base_uri": "https://localhost:8080/"
        },
        "id": "SDRBxsCjaTMj",
        "outputId": "28a12678-b647-46d4-aa1f-6d883da208c0"
      },
      "execution_count": 33,
      "outputs": [
        {
          "output_type": "execute_result",
          "data": {
            "text/plain": [
              "{'\\r': 2,\n",
              " ' ': 5532,\n",
              " '!': 924,\n",
              " '\"': 113,\n",
              " '#': 220,\n",
              " '$': 18,\n",
              " '%': 9,\n",
              " '&': 475,\n",
              " \"'\": 1333,\n",
              " '(': 115,\n",
              " ')': 398,\n",
              " '*': 144,\n",
              " '+': 109,\n",
              " ',': 1280,\n",
              " '-': 392,\n",
              " '.': 3615,\n",
              " '/': 235,\n",
              " ':': 550,\n",
              " ';': 343,\n",
              " '=': 25,\n",
              " '>': 13,\n",
              " '?': 1216,\n",
              " '@': 33,\n",
              " '\\\\': 149,\n",
              " '^': 1,\n",
              " '_': 121,\n",
              " 'a': 5205,\n",
              " 'b': 2833,\n",
              " 'c': 3707,\n",
              " 'd': 4119,\n",
              " 'e': 5325,\n",
              " 'f': 2978,\n",
              " 'g': 3785,\n",
              " 'h': 4738,\n",
              " 'i': 5134,\n",
              " 'j': 808,\n",
              " 'k': 2805,\n",
              " 'l': 4478,\n",
              " 'm': 4157,\n",
              " 'n': 5102,\n",
              " 'o': 5322,\n",
              " 'p': 3101,\n",
              " 'q': 193,\n",
              " 'r': 4797,\n",
              " 's': 4785,\n",
              " 't': 5198,\n",
              " 'u': 4501,\n",
              " 'v': 2234,\n",
              " 'w': 3880,\n",
              " 'x': 893,\n",
              " 'y': 4298,\n",
              " 'z': 378,\n",
              " '|': 11,\n",
              " '~': 3,\n",
              " '\\x89': 51,\n",
              " '\\x8b': 1,\n",
              " '\\x8e': 1,\n",
              " '£': 257,\n",
              " '©': 1,\n",
              " 'ª': 2,\n",
              " '¬': 2,\n",
              " '´': 1,\n",
              " 'á': 1,\n",
              " 'â': 1,\n",
              " 'ä': 1,\n",
              " 'å': 290,\n",
              " 'ì': 139,\n",
              " 'ï': 52,\n",
              " 'ð': 3,\n",
              " 'ò': 8,\n",
              " 'ó': 4,\n",
              " 'ô': 2,\n",
              " 'õ': 27,\n",
              " 'ö': 1,\n",
              " '÷': 29,\n",
              " 'û': 51}"
            ]
          },
          "metadata": {},
          "execution_count": 33
        }
      ]
    },
    {
      "cell_type": "code",
      "source": [
        "import numpy as np\n",
        "n_document = len(dataset)\n",
        "\n",
        "def calc_IDF(__n_document, __DF):\n",
        "    IDF_Dict = {}\n",
        "    for term in __DF:\n",
        "        IDF_Dict[term] = np.log(__n_document / (__DF[term] + 1))\n",
        "    return IDF_Dict\n",
        "  \n",
        "#Stores the idf dictionary\n",
        "IDF = calc_IDF(n_document, DF)"
      ],
      "metadata": {
        "id": "YdfbXu7RadVO"
      },
      "execution_count": 34,
      "outputs": []
    },
    {
      "cell_type": "code",
      "source": [
        "#calc TF-IDF\n",
        "def calc_TF_IDF(TF):\n",
        "    TF_IDF_Dict = {}\n",
        "    #For each word in the review, we multiply its tf and its idf.\n",
        "    for key in TF:\n",
        "        TF_IDF_Dict[key] = TF[key] * IDF[key]\n",
        "    return TF_IDF_Dict\n",
        "\n",
        "#Stores the TF-IDF Series\n",
        "dataset[\"TF-IDF_dict\"] = dataset[\"embeddings_dictionary\"].apply(calc_TF_IDF)"
      ],
      "metadata": {
        "id": "-731Av3kam5n"
      },
      "execution_count": 35,
      "outputs": []
    },
    {
      "cell_type": "code",
      "source": [
        "# Check TF-IDF result\n",
        "index = 1\n",
        "\n",
        "print('%20s' % \"term\", \"\\t\", '%10s' % \"TF\", \"\\t\", '%20s' % \"TF-IDF\\n\")\n",
        "for key in dataset[\"TF-IDF_dict\"][index]:\n",
        "    print('%20s' % key, \"\\t\", dataset[\"embeddings_dictionary\"][index][key] ,\"\\t\" , dataset[\"TF-IDF_dict\"][index][key])\n",
        "    \n",
        "TF_IDF = pd.DataFrame(dataset, columns=['term', 'rank'])"
      ],
      "metadata": {
        "colab": {
          "base_uri": "https://localhost:8080/"
        },
        "id": "cb0zGK9SayzO",
        "outputId": "44de4163-1af2-4103-cfba-feb6ffbe7c6b"
      },
      "execution_count": 36,
      "outputs": [
        {
          "output_type": "stream",
          "name": "stdout",
          "text": [
            "                term \t         TF \t              TF-IDF\n",
            "\n",
            "                   o \t 0.0005384063173007897 \t 2.4614322537835055e-05\n",
            "                   k \t 0.0003589375448671931 \t 0.00024622902880017594\n",
            "                     \t 0.0008973438621679827 \t 6.302846376154511e-06\n",
            "                   l \t 0.00017946877243359656 \t 3.9187768968484614e-05\n",
            "                   a \t 0.00017946877243359656 \t 1.2193512086357784e-05\n",
            "                   r \t 0.00017946877243359656 \t 2.6840432788954858e-05\n",
            "                   . \t 0.0010768126346015793 \t 0.0004655982915157529\n",
            "                   j \t 0.00017946877243359656 \t 0.0003463227598422837\n",
            "                   i \t 0.0005384063173007897 \t 4.3973911990508476e-05\n",
            "                   n \t 0.0003589375448671931 \t 3.1559746531128806e-05\n",
            "                   g \t 0.00017946877243359656 \t 6.935463085614289e-05\n",
            "                   w \t 0.00017946877243359656 \t 6.4906892234528e-05\n",
            "                   f \t 0.00017946877243359656 \t 0.00011237731195018199\n",
            "                   u \t 0.00017946877243359656 \t 3.826854153499978e-05\n"
          ]
        }
      ]
    },
    {
      "cell_type": "code",
      "source": [
        "#calc TF-IDF-Group\n",
        "def calc_TF_IDF_Group(TF_IDF):\n",
        "    TF_IDF_Dict_Group = {}\n",
        "    #For each word in the review, we multiply its tf and its idf.\n",
        "    for key in TF_IDF:\n",
        "        TF_IDF_Dict_Group [key] = TF_IDF[key]  *clusters\n",
        "    return TF_IDF_Dict_Group \n",
        "\n",
        "#Stores the TF-IDF Series\n",
        "dataset[\"TF_IDF_Dict_Group\"] = dataset[\"embeddings_dictionary\"].apply(calc_TF_IDF_Group)"
      ],
      "metadata": {
        "id": "BvUBR-zPbP0H"
      },
      "execution_count": 37,
      "outputs": []
    },
    {
      "cell_type": "code",
      "source": [
        "# Check TF-IDF-Group result\n",
        "index = 1\n",
        "\n",
        "print('%20s' % \"term\", \"\\t\", '%10s' % \"TF-IDF\", \"\\t\", '%20s' % \"TF-IDF-Group\\n\")\n",
        "for key in dataset[\"TF_IDF_Dict_Group\"][index]:\n",
        "    print('%20s' % key, \"\\t\", dataset[\"embeddings_dictionary\"][index][key] ,\"\\t\" , dataset[\"TF_IDF_Dict_Group\"][index][key])\n",
        "    \n",
        "TF_IDF = pd.DataFrame(dataset, columns=['term', 'rank'])"
      ],
      "metadata": {
        "colab": {
          "base_uri": "https://localhost:8080/"
        },
        "id": "Hw0pyumEdAyU",
        "outputId": "e1ae2795-d4eb-48b2-eae4-4ef33ad7dede"
      },
      "execution_count": 38,
      "outputs": [
        {
          "output_type": "stream",
          "name": "stdout",
          "text": [
            "                term \t     TF-IDF \t        TF-IDF-Group\n",
            "\n",
            "                   o \t 0.0005384063173007897 \t [0.00107681 0.00107681 0.00107681 ... 0.00107681 0.00107681 0.00107681]\n",
            "                   k \t 0.0003589375448671931 \t [0.00071788 0.00071788 0.00071788 ... 0.00071788 0.00071788 0.00071788]\n",
            "                     \t 0.0008973438621679827 \t [0.00179469 0.00179469 0.00179469 ... 0.00179469 0.00179469 0.00179469]\n",
            "                   l \t 0.00017946877243359656 \t [0.00035894 0.00035894 0.00035894 ... 0.00035894 0.00035894 0.00035894]\n",
            "                   a \t 0.00017946877243359656 \t [0.00035894 0.00035894 0.00035894 ... 0.00035894 0.00035894 0.00035894]\n",
            "                   r \t 0.00017946877243359656 \t [0.00035894 0.00035894 0.00035894 ... 0.00035894 0.00035894 0.00035894]\n",
            "                   . \t 0.0010768126346015793 \t [0.00215363 0.00215363 0.00215363 ... 0.00215363 0.00215363 0.00215363]\n",
            "                   j \t 0.00017946877243359656 \t [0.00035894 0.00035894 0.00035894 ... 0.00035894 0.00035894 0.00035894]\n",
            "                   i \t 0.0005384063173007897 \t [0.00107681 0.00107681 0.00107681 ... 0.00107681 0.00107681 0.00107681]\n",
            "                   n \t 0.0003589375448671931 \t [0.00071788 0.00071788 0.00071788 ... 0.00071788 0.00071788 0.00071788]\n",
            "                   g \t 0.00017946877243359656 \t [0.00035894 0.00035894 0.00035894 ... 0.00035894 0.00035894 0.00035894]\n",
            "                   w \t 0.00017946877243359656 \t [0.00035894 0.00035894 0.00035894 ... 0.00035894 0.00035894 0.00035894]\n",
            "                   f \t 0.00017946877243359656 \t [0.00035894 0.00035894 0.00035894 ... 0.00035894 0.00035894 0.00035894]\n",
            "                   u \t 0.00017946877243359656 \t [0.00035894 0.00035894 0.00035894 ... 0.00035894 0.00035894 0.00035894]\n"
          ]
        }
      ]
    },
    {
      "cell_type": "code",
      "source": [
        "# sort descending by value for DF dictionary \n",
        "sorted_DF = sorted(DF.items(), key=lambda kv: kv[1], reverse=True)[:50]\n",
        "\n",
        "# Create a list of unique words from sorted dictionay `sorted_DF`\n",
        "unique_term = [item[0] for item in sorted_DF]\n",
        "\n",
        "def calc_TF_IDF_Vec(__TF_IDF_Dict):\n",
        "    TF_IDF_vector = [0.0] * len(unique_term)\n",
        "\n",
        "    # For each unique word, if it is in the review, store its TF-IDF value.\n",
        "    for i, term in enumerate(unique_term):\n",
        "        if term in __TF_IDF_Dict:\n",
        "            TF_IDF_vector[i] = __TF_IDF_Dict[term]\n",
        "    return TF_IDF_vector\n",
        "\n",
        "dataset[\"TF_IDF_Vec\"] = dataset[\"TF-IDF_dict\"].apply(calc_TF_IDF_Vec)\n",
        "\n",
        "print(\"print first row matrix TF_IDF_Vec Series\\n\")\n",
        "print(dataset[\"TF_IDF_Vec\"][0])\n",
        "\n",
        "print(\"\\nmatrix size : \", len(dataset[\"TF_IDF_Vec\"][0]))"
      ],
      "metadata": {
        "colab": {
          "base_uri": "https://localhost:8080/"
        },
        "id": "qf83nMMejMXR",
        "outputId": "fa6e881a-de9b-4270-d0b3-aa72afc9ef92"
      },
      "execution_count": 39,
      "outputs": [
        {
          "output_type": "stream",
          "name": "stdout",
          "text": [
            "print first row matrix TF_IDF_Vec Series\n",
            "\n",
            "[2.3950816229387145e-05, 6.482924411459978e-05, 5.7433419254948464e-05, 9.754809669086228e-05, 8.704492024620659e-05, 8.794782398101695e-05, 0.00011045911285895082, 0.00016104259673372913, 2.7289853989838063e-05, 2.9061003756659746e-05, 0.00015307416613999912, 0.00023512661381090767, 9.30982119179522e-05, 5.253407510440381e-05, 5.418178258365475e-05, 0.000129813784469056, 0.00034677315428071443, 0.0001461814099834711, 0.0006207977220210039, 0.00010511611470983706, 0.00022475462390036399, 0.0003639976209524788, 0.0, 0.00016394702581694673, 0.0, 0.00026383938137167304, 0.0, 0.0, 0.0, 0.0003463227598422837, 0.0, 0.0, 0.0, 0.0, 0.00048240723794279797, 0.0, 0.0, 0.0, 0.0, 0.0, 0.0, 0.0, 0.0, 0.0, 0.0, 0.0, 0.0, 0.0, 0.0, 0.0]\n",
            "\n",
            "matrix size :  50\n"
          ]
        }
      ]
    },
    {
      "cell_type": "code",
      "source": [
        "# Convert Series to List\n",
        "TF_IDF_Vec_List = np.array(dataset[\"TF_IDF_Vec\"].to_list())\n",
        "\n",
        "# Sum element vector in axis=0 \n",
        "sums = TF_IDF_Vec_List.sum(axis=0)\n",
        "\n",
        "data = []\n",
        "\n",
        "for col, term in enumerate(unique_term):\n",
        "    data.append((term, sums[col]))\n",
        "    \n",
        "ranking = pd.DataFrame(data, columns=['term', 'rank'])\n",
        "ranking.sort_values('rank', ascending=False)"
      ],
      "metadata": {
        "colab": {
          "base_uri": "https://localhost:8080/",
          "height": 1000
        },
        "id": "1oyAOJxujRis",
        "outputId": "e9a59f8d-c055-4772-ffb7-2e56b91891c1"
      },
      "execution_count": 40,
      "outputs": [
        {
          "output_type": "execute_result",
          "data": {
            "text/plain": [
              "   term      rank\n",
              "18    .  0.837767\n",
              "19    p  0.656976\n",
              "20    f  0.637966\n",
              "17    c  0.631284\n",
              "21    b  0.617097\n",
              "11    l  0.608978\n",
              "14    d  0.600822\n",
              "23    v  0.567749\n",
              "16    g  0.564339\n",
              "22    k  0.545644\n",
              "13    m  0.534166\n",
              "15    w  0.515296\n",
              "8     s  0.504535\n",
              "25    ,  0.503669\n",
              "12    y  0.481411\n",
              "24    '  0.480030\n",
              "7     r  0.468151\n",
              "10    u  0.463394\n",
              "27    !  0.444739\n",
              "28    x  0.437747\n",
              "26    ?  0.420478\n",
              "9     h  0.407232\n",
              "31    &  0.404423\n",
              "35    ;  0.381845\n",
              "4     t  0.341564\n",
              "6     n  0.338605\n",
              "5     i  0.325216\n",
              "29    j  0.312729\n",
              "3     a  0.304679\n",
              "30    :  0.298980\n",
              "1     e  0.280151\n",
              "33    -  0.264599\n",
              "2     o  0.233844\n",
              "32    )  0.233750\n",
              "34    z  0.225767\n",
              "41    \\  0.204358\n",
              "42    *  0.203656\n",
              "38    /  0.201435\n",
              "36    å  0.199214\n",
              "46    \"  0.183577\n",
              "37    £  0.180868\n",
              "39    #  0.166233\n",
              "40    q  0.122326\n",
              "43    ì  0.118344\n",
              "44    _  0.103562\n",
              "0        0.102583\n",
              "47    +  0.095097\n",
              "45    (  0.081302\n",
              "49      0.057044\n",
              "48    ï  0.045951"
            ],
            "text/html": [
              "\n",
              "  <div id=\"df-80917c77-707f-4b90-bcd9-d9eee4c1b451\">\n",
              "    <div class=\"colab-df-container\">\n",
              "      <div>\n",
              "<style scoped>\n",
              "    .dataframe tbody tr th:only-of-type {\n",
              "        vertical-align: middle;\n",
              "    }\n",
              "\n",
              "    .dataframe tbody tr th {\n",
              "        vertical-align: top;\n",
              "    }\n",
              "\n",
              "    .dataframe thead th {\n",
              "        text-align: right;\n",
              "    }\n",
              "</style>\n",
              "<table border=\"1\" class=\"dataframe\">\n",
              "  <thead>\n",
              "    <tr style=\"text-align: right;\">\n",
              "      <th></th>\n",
              "      <th>term</th>\n",
              "      <th>rank</th>\n",
              "    </tr>\n",
              "  </thead>\n",
              "  <tbody>\n",
              "    <tr>\n",
              "      <th>18</th>\n",
              "      <td>.</td>\n",
              "      <td>0.837767</td>\n",
              "    </tr>\n",
              "    <tr>\n",
              "      <th>19</th>\n",
              "      <td>p</td>\n",
              "      <td>0.656976</td>\n",
              "    </tr>\n",
              "    <tr>\n",
              "      <th>20</th>\n",
              "      <td>f</td>\n",
              "      <td>0.637966</td>\n",
              "    </tr>\n",
              "    <tr>\n",
              "      <th>17</th>\n",
              "      <td>c</td>\n",
              "      <td>0.631284</td>\n",
              "    </tr>\n",
              "    <tr>\n",
              "      <th>21</th>\n",
              "      <td>b</td>\n",
              "      <td>0.617097</td>\n",
              "    </tr>\n",
              "    <tr>\n",
              "      <th>11</th>\n",
              "      <td>l</td>\n",
              "      <td>0.608978</td>\n",
              "    </tr>\n",
              "    <tr>\n",
              "      <th>14</th>\n",
              "      <td>d</td>\n",
              "      <td>0.600822</td>\n",
              "    </tr>\n",
              "    <tr>\n",
              "      <th>23</th>\n",
              "      <td>v</td>\n",
              "      <td>0.567749</td>\n",
              "    </tr>\n",
              "    <tr>\n",
              "      <th>16</th>\n",
              "      <td>g</td>\n",
              "      <td>0.564339</td>\n",
              "    </tr>\n",
              "    <tr>\n",
              "      <th>22</th>\n",
              "      <td>k</td>\n",
              "      <td>0.545644</td>\n",
              "    </tr>\n",
              "    <tr>\n",
              "      <th>13</th>\n",
              "      <td>m</td>\n",
              "      <td>0.534166</td>\n",
              "    </tr>\n",
              "    <tr>\n",
              "      <th>15</th>\n",
              "      <td>w</td>\n",
              "      <td>0.515296</td>\n",
              "    </tr>\n",
              "    <tr>\n",
              "      <th>8</th>\n",
              "      <td>s</td>\n",
              "      <td>0.504535</td>\n",
              "    </tr>\n",
              "    <tr>\n",
              "      <th>25</th>\n",
              "      <td>,</td>\n",
              "      <td>0.503669</td>\n",
              "    </tr>\n",
              "    <tr>\n",
              "      <th>12</th>\n",
              "      <td>y</td>\n",
              "      <td>0.481411</td>\n",
              "    </tr>\n",
              "    <tr>\n",
              "      <th>24</th>\n",
              "      <td>'</td>\n",
              "      <td>0.480030</td>\n",
              "    </tr>\n",
              "    <tr>\n",
              "      <th>7</th>\n",
              "      <td>r</td>\n",
              "      <td>0.468151</td>\n",
              "    </tr>\n",
              "    <tr>\n",
              "      <th>10</th>\n",
              "      <td>u</td>\n",
              "      <td>0.463394</td>\n",
              "    </tr>\n",
              "    <tr>\n",
              "      <th>27</th>\n",
              "      <td>!</td>\n",
              "      <td>0.444739</td>\n",
              "    </tr>\n",
              "    <tr>\n",
              "      <th>28</th>\n",
              "      <td>x</td>\n",
              "      <td>0.437747</td>\n",
              "    </tr>\n",
              "    <tr>\n",
              "      <th>26</th>\n",
              "      <td>?</td>\n",
              "      <td>0.420478</td>\n",
              "    </tr>\n",
              "    <tr>\n",
              "      <th>9</th>\n",
              "      <td>h</td>\n",
              "      <td>0.407232</td>\n",
              "    </tr>\n",
              "    <tr>\n",
              "      <th>31</th>\n",
              "      <td>&amp;</td>\n",
              "      <td>0.404423</td>\n",
              "    </tr>\n",
              "    <tr>\n",
              "      <th>35</th>\n",
              "      <td>;</td>\n",
              "      <td>0.381845</td>\n",
              "    </tr>\n",
              "    <tr>\n",
              "      <th>4</th>\n",
              "      <td>t</td>\n",
              "      <td>0.341564</td>\n",
              "    </tr>\n",
              "    <tr>\n",
              "      <th>6</th>\n",
              "      <td>n</td>\n",
              "      <td>0.338605</td>\n",
              "    </tr>\n",
              "    <tr>\n",
              "      <th>5</th>\n",
              "      <td>i</td>\n",
              "      <td>0.325216</td>\n",
              "    </tr>\n",
              "    <tr>\n",
              "      <th>29</th>\n",
              "      <td>j</td>\n",
              "      <td>0.312729</td>\n",
              "    </tr>\n",
              "    <tr>\n",
              "      <th>3</th>\n",
              "      <td>a</td>\n",
              "      <td>0.304679</td>\n",
              "    </tr>\n",
              "    <tr>\n",
              "      <th>30</th>\n",
              "      <td>:</td>\n",
              "      <td>0.298980</td>\n",
              "    </tr>\n",
              "    <tr>\n",
              "      <th>1</th>\n",
              "      <td>e</td>\n",
              "      <td>0.280151</td>\n",
              "    </tr>\n",
              "    <tr>\n",
              "      <th>33</th>\n",
              "      <td>-</td>\n",
              "      <td>0.264599</td>\n",
              "    </tr>\n",
              "    <tr>\n",
              "      <th>2</th>\n",
              "      <td>o</td>\n",
              "      <td>0.233844</td>\n",
              "    </tr>\n",
              "    <tr>\n",
              "      <th>32</th>\n",
              "      <td>)</td>\n",
              "      <td>0.233750</td>\n",
              "    </tr>\n",
              "    <tr>\n",
              "      <th>34</th>\n",
              "      <td>z</td>\n",
              "      <td>0.225767</td>\n",
              "    </tr>\n",
              "    <tr>\n",
              "      <th>41</th>\n",
              "      <td>\\</td>\n",
              "      <td>0.204358</td>\n",
              "    </tr>\n",
              "    <tr>\n",
              "      <th>42</th>\n",
              "      <td>*</td>\n",
              "      <td>0.203656</td>\n",
              "    </tr>\n",
              "    <tr>\n",
              "      <th>38</th>\n",
              "      <td>/</td>\n",
              "      <td>0.201435</td>\n",
              "    </tr>\n",
              "    <tr>\n",
              "      <th>36</th>\n",
              "      <td>å</td>\n",
              "      <td>0.199214</td>\n",
              "    </tr>\n",
              "    <tr>\n",
              "      <th>46</th>\n",
              "      <td>\"</td>\n",
              "      <td>0.183577</td>\n",
              "    </tr>\n",
              "    <tr>\n",
              "      <th>37</th>\n",
              "      <td>£</td>\n",
              "      <td>0.180868</td>\n",
              "    </tr>\n",
              "    <tr>\n",
              "      <th>39</th>\n",
              "      <td>#</td>\n",
              "      <td>0.166233</td>\n",
              "    </tr>\n",
              "    <tr>\n",
              "      <th>40</th>\n",
              "      <td>q</td>\n",
              "      <td>0.122326</td>\n",
              "    </tr>\n",
              "    <tr>\n",
              "      <th>43</th>\n",
              "      <td>ì</td>\n",
              "      <td>0.118344</td>\n",
              "    </tr>\n",
              "    <tr>\n",
              "      <th>44</th>\n",
              "      <td>_</td>\n",
              "      <td>0.103562</td>\n",
              "    </tr>\n",
              "    <tr>\n",
              "      <th>0</th>\n",
              "      <td></td>\n",
              "      <td>0.102583</td>\n",
              "    </tr>\n",
              "    <tr>\n",
              "      <th>47</th>\n",
              "      <td>+</td>\n",
              "      <td>0.095097</td>\n",
              "    </tr>\n",
              "    <tr>\n",
              "      <th>45</th>\n",
              "      <td>(</td>\n",
              "      <td>0.081302</td>\n",
              "    </tr>\n",
              "    <tr>\n",
              "      <th>49</th>\n",
              "      <td></td>\n",
              "      <td>0.057044</td>\n",
              "    </tr>\n",
              "    <tr>\n",
              "      <th>48</th>\n",
              "      <td>ï</td>\n",
              "      <td>0.045951</td>\n",
              "    </tr>\n",
              "  </tbody>\n",
              "</table>\n",
              "</div>\n",
              "      <button class=\"colab-df-convert\" onclick=\"convertToInteractive('df-80917c77-707f-4b90-bcd9-d9eee4c1b451')\"\n",
              "              title=\"Convert this dataframe to an interactive table.\"\n",
              "              style=\"display:none;\">\n",
              "        \n",
              "  <svg xmlns=\"http://www.w3.org/2000/svg\" height=\"24px\"viewBox=\"0 0 24 24\"\n",
              "       width=\"24px\">\n",
              "    <path d=\"M0 0h24v24H0V0z\" fill=\"none\"/>\n",
              "    <path d=\"M18.56 5.44l.94 2.06.94-2.06 2.06-.94-2.06-.94-.94-2.06-.94 2.06-2.06.94zm-11 1L8.5 8.5l.94-2.06 2.06-.94-2.06-.94L8.5 2.5l-.94 2.06-2.06.94zm10 10l.94 2.06.94-2.06 2.06-.94-2.06-.94-.94-2.06-.94 2.06-2.06.94z\"/><path d=\"M17.41 7.96l-1.37-1.37c-.4-.4-.92-.59-1.43-.59-.52 0-1.04.2-1.43.59L10.3 9.45l-7.72 7.72c-.78.78-.78 2.05 0 2.83L4 21.41c.39.39.9.59 1.41.59.51 0 1.02-.2 1.41-.59l7.78-7.78 2.81-2.81c.8-.78.8-2.07 0-2.86zM5.41 20L4 18.59l7.72-7.72 1.47 1.35L5.41 20z\"/>\n",
              "  </svg>\n",
              "      </button>\n",
              "      \n",
              "  <style>\n",
              "    .colab-df-container {\n",
              "      display:flex;\n",
              "      flex-wrap:wrap;\n",
              "      gap: 12px;\n",
              "    }\n",
              "\n",
              "    .colab-df-convert {\n",
              "      background-color: #E8F0FE;\n",
              "      border: none;\n",
              "      border-radius: 50%;\n",
              "      cursor: pointer;\n",
              "      display: none;\n",
              "      fill: #1967D2;\n",
              "      height: 32px;\n",
              "      padding: 0 0 0 0;\n",
              "      width: 32px;\n",
              "    }\n",
              "\n",
              "    .colab-df-convert:hover {\n",
              "      background-color: #E2EBFA;\n",
              "      box-shadow: 0px 1px 2px rgba(60, 64, 67, 0.3), 0px 1px 3px 1px rgba(60, 64, 67, 0.15);\n",
              "      fill: #174EA6;\n",
              "    }\n",
              "\n",
              "    [theme=dark] .colab-df-convert {\n",
              "      background-color: #3B4455;\n",
              "      fill: #D2E3FC;\n",
              "    }\n",
              "\n",
              "    [theme=dark] .colab-df-convert:hover {\n",
              "      background-color: #434B5C;\n",
              "      box-shadow: 0px 1px 3px 1px rgba(0, 0, 0, 0.15);\n",
              "      filter: drop-shadow(0px 1px 2px rgba(0, 0, 0, 0.3));\n",
              "      fill: #FFFFFF;\n",
              "    }\n",
              "  </style>\n",
              "\n",
              "      <script>\n",
              "        const buttonEl =\n",
              "          document.querySelector('#df-80917c77-707f-4b90-bcd9-d9eee4c1b451 button.colab-df-convert');\n",
              "        buttonEl.style.display =\n",
              "          google.colab.kernel.accessAllowed ? 'block' : 'none';\n",
              "\n",
              "        async function convertToInteractive(key) {\n",
              "          const element = document.querySelector('#df-80917c77-707f-4b90-bcd9-d9eee4c1b451');\n",
              "          const dataTable =\n",
              "            await google.colab.kernel.invokeFunction('convertToInteractive',\n",
              "                                                     [key], {});\n",
              "          if (!dataTable) return;\n",
              "\n",
              "          const docLinkHtml = 'Like what you see? Visit the ' +\n",
              "            '<a target=\"_blank\" href=https://colab.research.google.com/notebooks/data_table.ipynb>data table notebook</a>'\n",
              "            + ' to learn more about interactive tables.';\n",
              "          element.innerHTML = '';\n",
              "          dataTable['output_type'] = 'display_data';\n",
              "          await google.colab.output.renderOutput(dataTable, element);\n",
              "          const docLink = document.createElement('div');\n",
              "          docLink.innerHTML = docLinkHtml;\n",
              "          element.appendChild(docLink);\n",
              "        }\n",
              "      </script>\n",
              "    </div>\n",
              "  </div>\n",
              "  "
            ]
          },
          "metadata": {},
          "execution_count": 40
        }
      ]
    },
    {
      "cell_type": "markdown",
      "source": [
        "Cosine Similarity "
      ],
      "metadata": {
        "id": "PwbAPpVA_xKU"
      }
    },
    {
      "cell_type": "code",
      "source": [
        "import numpy as np\n",
        "from numpy import dot\n",
        "from numpy.linalg import norm\n",
        "\n",
        "#define arrays\n",
        "texts = np.random.randint(10, size=100)\n",
        "target = np.random.randint(10, size=100)\n",
        "\n",
        "#calculate Cosine Similarity\n",
        "cos_sim = dot(texts, target)/(norm(texts)*norm(target))\n",
        "\n",
        "cos_sim\n",
        "\n"
      ],
      "metadata": {
        "colab": {
          "base_uri": "https://localhost:8080/"
        },
        "id": "G18EVgkW_1q6",
        "outputId": "a1d4dd83-2c0f-4724-a722-4d917963322a"
      },
      "execution_count": 53,
      "outputs": [
        {
          "output_type": "execute_result",
          "data": {
            "text/plain": [
              "0.6893765820333296"
            ]
          },
          "metadata": {},
          "execution_count": 53
        }
      ]
    },
    {
      "cell_type": "markdown",
      "source": [
        "Example "
      ],
      "metadata": {
        "id": "CABEcvBPHWWs"
      }
    },
    {
      "cell_type": "code",
      "source": [
        "import numpy as np\n",
        "from numpy import dot\n",
        "from numpy.linalg import norm\n",
        "\n",
        "#define arrays\n",
        "dataset.message_clean[1] = np.random.randint(10, size=100)\n",
        "dataset.message_clean[2] = np.random.randint(10, size=100)\n",
        "\n",
        "#calculate Cosine Similarity\n",
        "cos_sim = dot(dataset.message_clean[1], dataset.message_clean[2])/(norm(dataset.message_clean[1])*norm(dataset.message_clean[2]))\n",
        "\n",
        "cos_sim\n",
        "\n"
      ],
      "metadata": {
        "colab": {
          "base_uri": "https://localhost:8080/"
        },
        "id": "Wy3DIA83HVtU",
        "outputId": "ded7468c-d882-4ebe-aa3f-4b5e74bc8af4"
      },
      "execution_count": 54,
      "outputs": [
        {
          "output_type": "stream",
          "name": "stderr",
          "text": [
            "/usr/local/lib/python3.7/dist-packages/ipykernel_launcher.py:6: SettingWithCopyWarning:\n",
            "\n",
            "\n",
            "A value is trying to be set on a copy of a slice from a DataFrame\n",
            "\n",
            "See the caveats in the documentation: https://pandas.pydata.org/pandas-docs/stable/user_guide/indexing.html#returning-a-view-versus-a-copy\n",
            "\n",
            "/usr/local/lib/python3.7/dist-packages/ipykernel_launcher.py:7: SettingWithCopyWarning:\n",
            "\n",
            "\n",
            "A value is trying to be set on a copy of a slice from a DataFrame\n",
            "\n",
            "See the caveats in the documentation: https://pandas.pydata.org/pandas-docs/stable/user_guide/indexing.html#returning-a-view-versus-a-copy\n",
            "\n"
          ]
        },
        {
          "output_type": "execute_result",
          "data": {
            "text/plain": [
              "0.7335952035849803"
            ]
          },
          "metadata": {},
          "execution_count": 54
        }
      ]
    },
    {
      "cell_type": "markdown",
      "source": [
        "Evaluation "
      ],
      "metadata": {
        "id": "7kN1f4j07khA"
      }
    },
    {
      "cell_type": "code",
      "source": [
        "# Create a Multinomial Naive Bayes model\n",
        "from sklearn.naive_bayes import MultinomialNB\n",
        "nb = MultinomialNB()\n",
        "\n",
        "# Train the model\n",
        "nb.fit(x_train_dtm, y_train)"
      ],
      "metadata": {
        "colab": {
          "base_uri": "https://localhost:8080/"
        },
        "id": "hzBLGAkc7j62",
        "outputId": "b06898ef-e72b-4d6f-d77c-aab2ba2e7d94"
      },
      "execution_count": 47,
      "outputs": [
        {
          "output_type": "execute_result",
          "data": {
            "text/plain": [
              "MultinomialNB()"
            ]
          },
          "metadata": {},
          "execution_count": 47
        }
      ]
    },
    {
      "cell_type": "code",
      "source": [
        "# Make class anf probability predictions\n",
        "y_pred_class = nb.predict(x_test_dtm)\n",
        "y_pred_prob = nb.predict_proba(x_test_dtm)[:, 1]"
      ],
      "metadata": {
        "id": "Ni_qdEww9Egi"
      },
      "execution_count": 48,
      "outputs": []
    },
    {
      "cell_type": "code",
      "source": [
        "# calculate accuracy of class predictions\n",
        "from sklearn.metrics import plot_confusion_matrix\n",
        "from sklearn import metrics\n",
        "print(metrics.accuracy_score(y_test, y_pred_class))\n"
      ],
      "metadata": {
        "colab": {
          "base_uri": "https://localhost:8080/"
        },
        "id": "af9OlJ9e8-qv",
        "outputId": "590b98ef-f3ac-4fa0-f55d-0c318c3dcc1b"
      },
      "execution_count": 49,
      "outputs": [
        {
          "output_type": "stream",
          "name": "stdout",
          "text": [
            "0.9777458722182341\n"
          ]
        }
      ]
    }
  ]
}